{
 "cells": [
  {
   "cell_type": "code",
   "execution_count": 1,
   "id": "97a22ff4",
   "metadata": {},
   "outputs": [],
   "source": [
    "import os, shutil\n",
    "import numpy as np\n",
    "import pandas as pd\n",
    "from glob import glob\n",
    "import matplotlib.pyplot as plt\n",
    "\n",
    "import seaborn as sns"
   ]
  },
  {
   "cell_type": "markdown",
   "id": "94b33254",
   "metadata": {},
   "source": [
    "# Load Data\n",
    "\n",
    "\n",
    "NG_10 = A  \n",
    "NG_50 = B  \n",
    "NG_100   = C  \n",
    "NG_200 = D  \n",
    "Normal   = E  \n",
    "PETN_10 = F  \n",
    "PETN_50   = G  \n",
    "PETN_100 = H   \n",
    "PETN_200  = I   \n",
    "RDX_10   = J  \n",
    "RDX_50  = K  \n",
    "RDX_100 = L  \n",
    "RDX_200 = M  \n",
    "TNT_10 = N  \n",
    "TNT_50 = O  \n",
    "TNT_100 = P  \n",
    "TNT_200 = Q  "
   ]
  },
  {
   "cell_type": "code",
   "execution_count": 2,
   "id": "8e9cebf2",
   "metadata": {},
   "outputs": [],
   "source": [
    "root = \"/home/user/effcientNet/explosive/merge_RP_explosive_test\"\n",
    "#testroot = \"/home/twogudack/oceanit/LandObserver_OceanIT/Data/육상_test\"\n",
    "A_path = [] #NG\n",
    "B_path = [] #Normal\n",
    "C_path = [] #PETN\n",
    "D_path = [] #RDX\n",
    "E_path = [] #TNT\n",
    "\n",
    "\n",
    "\n",
    "def fast_scandir(dirname):\n",
    "    subfolders= [f.path for f in os.scandir(dirname) if f.is_dir()]\n",
    "    for dirname in list(subfolders):\n",
    "        subfolders.extend(fast_scandir(dirname))\n",
    "    return subfolders\n",
    "\n",
    "bombTypes = [\"NG\",\"Normal\",\"PETN\",\"RDX\",\"TNT\"]\n",
    "bombPaths = [A_path,B_path,C_path,D_path,E_path]"
   ]
  },
  {
   "cell_type": "code",
   "execution_count": 3,
   "id": "0335bd56",
   "metadata": {},
   "outputs": [],
   "source": [
    "total_path = [s for s in fast_scandir(root) if any(xs for xs in bombTypes)]\n",
    "\n",
    "for types, pathlist in zip(bombTypes,bombPaths):\n",
    "    for path in total_path:\n",
    "        if (types in path):\n",
    "            imagePath = glob(path+\"/*.png\")\n",
    "            for i in imagePath:\n",
    "                if(\"textured\" not in i):\n",
    "                    pathlist.append(i)\n",
    "                    \n",
    "'''             \n",
    "for types, pathlist in zip(fishTypes,fishBoxPaths):\n",
    "    for path in total_path:\n",
    "        if (types in path) and (\"박스\" in path):\n",
    "            imagePath = glob(path+\"/*.jpg\") + glob(path+\"/*.JPG\") + glob(path+\"/*.jpeg\")\n",
    "            for i in imagePath:\n",
    "                if(\"textured\" not in i):\n",
    "                    pathlist.append(i)\n",
    "\n",
    "    \n",
    "                    \n",
    "for types, pathlist in zip(fishTypes,fishNoBoxPaths):\n",
    "    for path in total_path:\n",
    "        if (types in path) and (\"박스\" not in path):\n",
    "            imagePath = glob(path+\"/*.jpg\") + glob(path+\"/*.JPG\") + glob(path+\"/*.jpeg\")\n",
    "\n",
    "            for i in imagePath:\n",
    "                if(\"textured\" not in i):\n",
    "                    pathlist.append(i)\n",
    "'''                  \n",
    "bombPaths = list(map(set, bombPaths))"
   ]
  },
  {
   "cell_type": "code",
   "execution_count": 4,
   "id": "beb4d954",
   "metadata": {},
   "outputs": [
    {
     "data": {
      "image/png": "[encoded data removed]",
      "text/plain": [
       "<Figure size 640x480 with 1 Axes>"
      ]
     },
     "metadata": {},
     "output_type": "display_data"
    }
   ],
   "source": [
    "index = [\"A\",\"B\",\"C\",\"D\",\"E\"] \n",
    "bardata = [len(i) for i in bombPaths ] \n",
    "\n",
    "plt.title(\"Bomb total count\", fontsize = 20)\n",
    "plt.bar(index,bardata, color=['tab:blue','tab:orange','tab:green','tab:red',\"tab:purple\"])\n",
    "for i, v in enumerate(index):\n",
    "    plt.text(v, bardata[i], bardata[i], fontsize = 7, color='black',horizontalalignment='center',verticalalignment='bottom')\n",
    "plt.show()\n"
   ]
  },
  {
   "cell_type": "code",
   "execution_count": 5,
   "id": "5898b36d",
   "metadata": {},
   "outputs": [
    {
     "name": "stdout",
     "output_type": "stream",
     "text": [
      "                                              file_name label\n",
      "0     /home/user/effcientNet/explosive/merge_RP_expl...     0\n",
      "1     /home/user/effcientNet/explosive/merge_RP_expl...     0\n",
      "2     /home/user/effcientNet/explosive/merge_RP_expl...     0\n",
      "3     /home/user/effcientNet/explosive/merge_RP_expl...     0\n",
      "4     /home/user/effcientNet/explosive/merge_RP_expl...     0\n",
      "...                                                 ...   ...\n",
      "3285  /home/user/effcientNet/explosive/merge_RP_expl...     4\n",
      "3286  /home/user/effcientNet/explosive/merge_RP_expl...     4\n",
      "3287  /home/user/effcientNet/explosive/merge_RP_expl...     4\n",
      "3288  /home/user/effcientNet/explosive/merge_RP_expl...     4\n",
      "3289  /home/user/effcientNet/explosive/merge_RP_expl...     4\n",
      "\n",
      "[3290 rows x 2 columns]\n"
     ]
    }
   ],
   "source": [
    "sumdf = []\n",
    "\n",
    "    \n",
    "for num,pecies in enumerate(bombPaths):\n",
    "    pecies = list(pecies)\n",
    "    if len(pecies) > 10000:\n",
    "        pecies = pecies\n",
    "    label = np.empty_like(pecies)\n",
    "    label.fill(num)\n",
    "    a = np.stack([pecies,label],axis = 1)\n",
    "    df = np.array(a)\n",
    "    sumdf.append(df)\n",
    "    #print(sumdf)\n",
    "    \n",
    "#extra_data = glob(\"/home/user/effcientNet/explosive/RP_explosive/*.png\")\n",
    "#print(len(extra_data))\n",
    "#label = np.empty_like(extra_data)\n",
    "#label.fill(17)\n",
    "#a = np.stack([extra_data,label],axis = 1)\n",
    "#df = np.array(a)\n",
    "#sumdf.append(df)\n",
    "        \n",
    "df = np.vstack(sumdf)\n",
    "train_df = pd.DataFrame(df,columns = [\"file_name\",\"label\"])\n",
    "print(train_df)"
   ]
  },
  {
   "cell_type": "code",
   "execution_count": 6,
   "id": "eab6a7a3",
   "metadata": {},
   "outputs": [],
   "source": [
    "train_df.to_csv('/home/user/effcientNet/explosive/merge_RP_explosive_test/test_df.csv',index=False)"
   ]
  },
  {
   "cell_type": "code",
   "execution_count": 7,
   "id": "3f20ae12",
   "metadata": {},
   "outputs": [
    {
     "data": {
      "text/html": [
       "<div>\n",
       "<style scoped>\n",
       "    .dataframe tbody tr th:only-of-type {\n",
       "        vertical-align: middle;\n",
       "    }\n",
       "\n",
       "    .dataframe tbody tr th {\n",
       "        vertical-align: top;\n",
       "    }\n",
       "\n",
       "    .dataframe thead th {\n",
       "        text-align: right;\n",
       "    }\n",
       "</style>\n",
       "<table border=\"1\" class=\"dataframe\">\n",
       "  <thead>\n",
       "    <tr style=\"text-align: right;\">\n",
       "      <th></th>\n",
       "      <th>file_name</th>\n",
       "      <th>label</th>\n",
       "    </tr>\n",
       "  </thead>\n",
       "  <tbody>\n",
       "    <tr>\n",
       "      <th>0</th>\n",
       "      <td>/home/user/effcientNet/explosive/merge_RP_expl...</td>\n",
       "      <td>0</td>\n",
       "    </tr>\n",
       "    <tr>\n",
       "      <th>1</th>\n",
       "      <td>/home/user/effcientNet/explosive/merge_RP_expl...</td>\n",
       "      <td>0</td>\n",
       "    </tr>\n",
       "    <tr>\n",
       "      <th>2</th>\n",
       "      <td>/home/user/effcientNet/explosive/merge_RP_expl...</td>\n",
       "      <td>0</td>\n",
       "    </tr>\n",
       "    <tr>\n",
       "      <th>3</th>\n",
       "      <td>/home/user/effcientNet/explosive/merge_RP_expl...</td>\n",
       "      <td>0</td>\n",
       "    </tr>\n",
       "    <tr>\n",
       "      <th>4</th>\n",
       "      <td>/home/user/effcientNet/explosive/merge_RP_expl...</td>\n",
       "      <td>0</td>\n",
       "    </tr>\n",
       "    <tr>\n",
       "      <th>...</th>\n",
       "      <td>...</td>\n",
       "      <td>...</td>\n",
       "    </tr>\n",
       "    <tr>\n",
       "      <th>3285</th>\n",
       "      <td>/home/user/effcientNet/explosive/merge_RP_expl...</td>\n",
       "      <td>4</td>\n",
       "    </tr>\n",
       "    <tr>\n",
       "      <th>3286</th>\n",
       "      <td>/home/user/effcientNet/explosive/merge_RP_expl...</td>\n",
       "      <td>4</td>\n",
       "    </tr>\n",
       "    <tr>\n",
       "      <th>3287</th>\n",
       "      <td>/home/user/effcientNet/explosive/merge_RP_expl...</td>\n",
       "      <td>4</td>\n",
       "    </tr>\n",
       "    <tr>\n",
       "      <th>3288</th>\n",
       "      <td>/home/user/effcientNet/explosive/merge_RP_expl...</td>\n",
       "      <td>4</td>\n",
       "    </tr>\n",
       "    <tr>\n",
       "      <th>3289</th>\n",
       "      <td>/home/user/effcientNet/explosive/merge_RP_expl...</td>\n",
       "      <td>4</td>\n",
       "    </tr>\n",
       "  </tbody>\n",
       "</table>\n",
       "<p>3290 rows × 2 columns</p>\n",
       "</div>"
      ],
      "text/plain": [
       "                                              file_name label\n",
       "0     /home/user/effcientNet/explosive/merge_RP_expl...     0\n",
       "1     /home/user/effcientNet/explosive/merge_RP_expl...     0\n",
       "2     /home/user/effcientNet/explosive/merge_RP_expl...     0\n",
       "3     /home/user/effcientNet/explosive/merge_RP_expl...     0\n",
       "4     /home/user/effcientNet/explosive/merge_RP_expl...     0\n",
       "...                                                 ...   ...\n",
       "3285  /home/user/effcientNet/explosive/merge_RP_expl...     4\n",
       "3286  /home/user/effcientNet/explosive/merge_RP_expl...     4\n",
       "3287  /home/user/effcientNet/explosive/merge_RP_expl...     4\n",
       "3288  /home/user/effcientNet/explosive/merge_RP_expl...     4\n",
       "3289  /home/user/effcientNet/explosive/merge_RP_expl...     4\n",
       "\n",
       "[3290 rows x 2 columns]"
      ]
     },
     "execution_count": 7,
     "metadata": {},
     "output_type": "execute_result"
    }
   ],
   "source": [
    "train_df"
   ]
  },
  {
   "cell_type": "code",
   "execution_count": null,
   "id": "6f562eed",
   "metadata": {},
   "outputs": [],
   "source": []
  }
 ],
 "metadata": {
  "kernelspec": {
   "display_name": "Python 3 (ipykernel)",
   "language": "python",
   "name": "python3"
  },
  "language_info": {
   "codemirror_mode": {
    "name": "ipython",
    "version": 3
   },
   "file_extension": ".py",
   "mimetype": "text/x-python",
   "name": "python",
   "nbconvert_exporter": "python",
   "pygments_lexer": "ipython3",
   "version": "3.8.10"
  }
 },
 "nbformat": 4,
 "nbformat_minor": 5
}
