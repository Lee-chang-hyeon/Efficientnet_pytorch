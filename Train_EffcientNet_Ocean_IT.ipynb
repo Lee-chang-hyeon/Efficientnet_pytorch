{
 "cells": [
  {
   "cell_type": "markdown",
   "id": "2867dfb9",
   "metadata": {},
   "source": [
    "# 모듈 등록"
   ]
  },
  {
   "cell_type": "code",
   "execution_count": 1,
   "id": "ff1cd0ab",
   "metadata": {},
   "outputs": [],
   "source": [
    "import os ,time\n",
    "\n",
    "import glob\n",
    "import random\n",
    "from PIL import Image\n",
    "\n",
    "import torch\n",
    "import torch.nn as nn\n",
    "from torchvision import transforms\n",
    "import torchvision.transforms.functional as TF\n",
    "from torch.utils.data import Dataset, DataLoader\n",
    "from torch.cuda.amp import autocast, grad_scaler\n",
    "from torch.optim.lr_scheduler import _LRScheduler\n",
    "import torch_optimizer as optim\n",
    "\n",
    "import numpy as np\n",
    "import pandas as pd, cv2\n",
    "from tqdm import tqdm\n",
    "from easydict import EasyDict\n",
    "from sklearn.preprocessing import LabelEncoder #Label Encoder로 숫자로 변경함\n",
    "from sklearn.model_selection import StratifiedKFold\n",
    "from sklearn.metrics import f1_score\n",
    "from ptflops import get_model_complexity_info\n",
    "\n",
    "from collections import Counter\n",
    "import argparse\n",
    "import neptune.new as neptune\n",
    "import timm\n",
    "from efficientnet_pytorch import EfficientNet\n",
    "import torchvision.models as models\n",
    "\n",
    "#안하면 오류남\n",
    "import warnings\n",
    "from pandas.core.common import SettingWithCopyWarning\n",
    "warnings.simplefilter(action=\"ignore\", category=SettingWithCopyWarning)\n",
    "warnings.filterwarnings(action='ignore')\n",
    "\n",
    "os.environ['CUDA_LAUNCH_BLOCKING'] = \"1\"\n",
    "os.environ[\"CUDA_VISIBLE_DEVICES\"] = \"0\""
   ]
  },
  {
   "cell_type": "markdown",
   "id": "23678232",
   "metadata": {},
   "source": [
    "# Load Data\n",
    "\n",
    "\n",
    "NG_10 = 0  \n",
    "NG_50 = 1  \n",
    "NG_100   = 2  \n",
    "NG_200 = 3  \n",
    "Normal   = 4  \n",
    "PETN_10 = 5  \n",
    "PETN_50   = 6  \n",
    "PETN_100 = 7   \n",
    "PETN_200  = 8   \n",
    "RDX_10   = 9  \n",
    "RDX_50  = 10  \n",
    "RDX_100 = 11  \n",
    "RDX_200 = 12  \n",
    "TNT_10 = 13  \n",
    "TNT_50 = 14  \n",
    "TNT_100 = 15  \n",
    "TNT_200 = 16  "
   ]
  },
  {
   "cell_type": "code",
   "execution_count": 2,
   "id": "99c2528a",
   "metadata": {},
   "outputs": [
    {
     "data": {
      "text/html": [
       "<div>\n",
       "<style scoped>\n",
       "    .dataframe tbody tr th:only-of-type {\n",
       "        vertical-align: middle;\n",
       "    }\n",
       "\n",
       "    .dataframe tbody tr th {\n",
       "        vertical-align: top;\n",
       "    }\n",
       "\n",
       "    .dataframe thead th {\n",
       "        text-align: right;\n",
       "    }\n",
       "</style>\n",
       "<table border=\"1\" class=\"dataframe\">\n",
       "  <thead>\n",
       "    <tr style=\"text-align: right;\">\n",
       "      <th></th>\n",
       "      <th>file_name</th>\n",
       "      <th>label</th>\n",
       "    </tr>\n",
       "  </thead>\n",
       "  <tbody>\n",
       "    <tr>\n",
       "      <th>0</th>\n",
       "      <td>/home/user/effcientNet/explosive/merge_RP_expl...</td>\n",
       "      <td>0</td>\n",
       "    </tr>\n",
       "    <tr>\n",
       "      <th>1</th>\n",
       "      <td>/home/user/effcientNet/explosive/merge_RP_expl...</td>\n",
       "      <td>0</td>\n",
       "    </tr>\n",
       "    <tr>\n",
       "      <th>2</th>\n",
       "      <td>/home/user/effcientNet/explosive/merge_RP_expl...</td>\n",
       "      <td>0</td>\n",
       "    </tr>\n",
       "    <tr>\n",
       "      <th>3</th>\n",
       "      <td>/home/user/effcientNet/explosive/merge_RP_expl...</td>\n",
       "      <td>0</td>\n",
       "    </tr>\n",
       "    <tr>\n",
       "      <th>4</th>\n",
       "      <td>/home/user/effcientNet/explosive/merge_RP_expl...</td>\n",
       "      <td>0</td>\n",
       "    </tr>\n",
       "    <tr>\n",
       "      <th>...</th>\n",
       "      <td>...</td>\n",
       "      <td>...</td>\n",
       "    </tr>\n",
       "    <tr>\n",
       "      <th>29805</th>\n",
       "      <td>/home/user/effcientNet/explosive/merge_RP_expl...</td>\n",
       "      <td>4</td>\n",
       "    </tr>\n",
       "    <tr>\n",
       "      <th>29806</th>\n",
       "      <td>/home/user/effcientNet/explosive/merge_RP_expl...</td>\n",
       "      <td>4</td>\n",
       "    </tr>\n",
       "    <tr>\n",
       "      <th>29807</th>\n",
       "      <td>/home/user/effcientNet/explosive/merge_RP_expl...</td>\n",
       "      <td>4</td>\n",
       "    </tr>\n",
       "    <tr>\n",
       "      <th>29808</th>\n",
       "      <td>/home/user/effcientNet/explosive/merge_RP_expl...</td>\n",
       "      <td>4</td>\n",
       "    </tr>\n",
       "    <tr>\n",
       "      <th>29809</th>\n",
       "      <td>/home/user/effcientNet/explosive/merge_RP_expl...</td>\n",
       "      <td>4</td>\n",
       "    </tr>\n",
       "  </tbody>\n",
       "</table>\n",
       "<p>29810 rows × 2 columns</p>\n",
       "</div>"
      ],
      "text/plain": [
       "                                               file_name  label\n",
       "0      /home/user/effcientNet/explosive/merge_RP_expl...      0\n",
       "1      /home/user/effcientNet/explosive/merge_RP_expl...      0\n",
       "2      /home/user/effcientNet/explosive/merge_RP_expl...      0\n",
       "3      /home/user/effcientNet/explosive/merge_RP_expl...      0\n",
       "4      /home/user/effcientNet/explosive/merge_RP_expl...      0\n",
       "...                                                  ...    ...\n",
       "29805  /home/user/effcientNet/explosive/merge_RP_expl...      4\n",
       "29806  /home/user/effcientNet/explosive/merge_RP_expl...      4\n",
       "29807  /home/user/effcientNet/explosive/merge_RP_expl...      4\n",
       "29808  /home/user/effcientNet/explosive/merge_RP_expl...      4\n",
       "29809  /home/user/effcientNet/explosive/merge_RP_expl...      4\n",
       "\n",
       "[29810 rows x 2 columns]"
      ]
     },
     "metadata": {},
     "output_type": "display_data"
    }
   ],
   "source": [
    "#make csv에서 만든 학습용 df\n",
    "train_data = pd.read_csv(\"/home/user/effcientNet/explosive/merge_RP_explosive/train_df.csv\")\n",
    "display(train_data)"
   ]
  },
  {
   "cell_type": "markdown",
   "id": "785dab5c",
   "metadata": {},
   "source": [
    "# Train"
   ]
  },
  {
   "cell_type": "markdown",
   "id": "df5cfe7c",
   "metadata": {},
   "source": [
    "## Transform 설정"
   ]
  },
  {
   "cell_type": "markdown",
   "id": "aa07e992",
   "metadata": {},
   "source": [
    "### 감마 변환"
   ]
  },
  {
   "cell_type": "code",
   "execution_count": 3,
   "id": "f156008d",
   "metadata": {},
   "outputs": [],
   "source": [
    "#transform용\n",
    "class GammaTranform:\n",
    "    def __init__(self,a,b):\n",
    "        self.a = a\n",
    "        self.b = b\n",
    "    def __call__(self, I):\n",
    "        gamma = random.uniform(self.a, self.b)\n",
    "        return TF.adjust_gamma(I,gam)"
   ]
  },
  {
   "cell_type": "markdown",
   "id": "7df45dfa",
   "metadata": {},
   "source": [
    "### Trainform ver"
   ]
  },
  {
   "cell_type": "code",
   "execution_count": 4,
   "id": "4090f86b",
   "metadata": {},
   "outputs": [],
   "source": [
    "#transform\n",
    "def augmentation(img_size, ver):\n",
    "    if ver==1:\n",
    "        transform = transforms.Compose([\n",
    "                transforms.Resize((img_size, img_size)),\n",
    "                transforms.Normalize(mean=[0.485, 0.456, 0.406],\n",
    "                                     std=[0.229, 0.224, 0.225]),\n",
    "                ])   \n",
    "    elif ver==2:\n",
    "        transform = transforms.Compose([\n",
    "                transforms.RandomRotation(degrees=20),\n",
    "                transforms.RandomAffine(degrees=(10,30)),\n",
    "                transforms.RandomHorizontalFlip(),\n",
    "                transforms.RandomVerticalFlip(),\n",
    "                transforms.Resize((img_size, img_size)),\n",
    "                transforms.Normalize(mean=[0.485, 0.456, 0.406],\n",
    "                                    std=[0.229, 0.224, 0.225]),\n",
    "            ])   \n",
    "    elif ver==3:\n",
    "        transform = transforms.Compose([\n",
    "                transforms.RandomRotation(degrees=180),\n",
    "                transforms.RandomAffine(degrees=(10,30)),\n",
    "                transforms.RandomHorizontalFlip(),\n",
    "                transforms.RandomVerticalFlip(),\n",
    "                transforms.Resize((img_size, img_size)),\n",
    "                transforms.Normalize(mean=[0.485, 0.456, 0.406],\n",
    "                                    std=[0.229, 0.224, 0.225]),\n",
    "            ])  \n",
    "    elif ver==4:\n",
    "        transform = transforms.Compose([\n",
    "                transforms.RandomRotation(degrees=20),\n",
    "                transforms.RandomAffine(degrees=(10,30)),\n",
    "                transforms.Resize((img_size, img_size)),\n",
    "                transforms.Normalize(mean=[0.485, 0.456, 0.406],\n",
    "                                    std=[0.229, 0.224, 0.225]),\n",
    "            ])   \n",
    "    elif ver==5:\n",
    "        transform = transforms.Compose([\n",
    "                transforms.RandomRotation(degrees=180),\n",
    "                transforms.RandomAffine(degrees=(10,30)),\n",
    "                transforms.Resize((img_size, img_size)),\n",
    "                transforms.Normalize(mean=[0.485, 0.456, 0.406],\n",
    "                                    std=[0.229, 0.224, 0.225]),\n",
    "            ]) \n",
    "    elif ver==6:\n",
    "        transform = transforms.Compose([\n",
    "                transforms.RandomRotation(degrees=180),\n",
    "                transforms.RandomHorizontalFlip(),\n",
    "                transforms.RandomVerticalFlip(),\n",
    "                transforms.RandomAffine(30),\n",
    "                transforms.ColorJitter(),\n",
    "                transforms.RandomInvert(),\n",
    "                transforms.Resize((img_size, img_size)),\n",
    "                transforms.Normalize(mean=[0.485, 0.456, 0.406],\n",
    "                                    std=[0.229, 0.224, 0.225]),\n",
    "            ])    \n",
    "    elif ver==7:\n",
    "        transform = transforms.Compose([\n",
    "                transforms.RandomRotation(degrees=180),\n",
    "                transforms.RandomAffine(degrees=45),\n",
    "                transforms.Resize((img_size, img_size)),\n",
    "                transforms.RandomHorizontalFlip(),\n",
    "                transforms.RandomVerticalFlip(),    \n",
    "                transforms.Normalize(mean=[0.485, 0.456, 0.406],\n",
    "                                    std=[0.229, 0.224, 0.225]),\n",
    "            ])   \n",
    "    elif ver==8:\n",
    "        transform = transforms.Compose([\n",
    "                transforms.RandomRotation(degrees=10),\n",
    "                transforms.RandomHorizontalFlip(),\n",
    "                transforms.RandomVerticalFlip(),\n",
    "                transforms.RandomAffine(30),\n",
    "                transforms.Resize((img_size, img_size)),\n",
    "                transforms.Normalize(mean=[0.485, 0.456, 0.406],\n",
    "                                    std=[0.229, 0.224, 0.225]),\n",
    "            ])\n",
    "    elif ver==9:\n",
    "        transform = transforms.Compose([\n",
    "                transforms.RandomRotation(degrees=(0,180)),\n",
    "                transforms.RandomHorizontalFlip(),\n",
    "                transforms.RandomVerticalFlip(),\n",
    "                transforms.RandomAffine(30),\n",
    "                GammaTransform(0.6,1.0),\n",
    "                transforms.Resize((img_size, img_size)),\n",
    "                transforms.Normalize(mean=[0.485, 0.456, 0.406],\n",
    "                                    std=[0.229, 0.224, 0.225]),\n",
    "            ])       \n",
    "    elif ver==10:\n",
    "        transform = transforms.Compose([\n",
    "                transforms.RandomRotation(degrees=(180)),\n",
    "                transforms.RandomHorizontalFlip(),\n",
    "                transforms.RandomVerticalFlip(),\n",
    "                transforms.RandomAffine(30),\n",
    "                transforms.ColorJitter(),\n",
    "                transforms.RandomInvert(),\n",
    "                transforms.Resize((img_size, img_size)),\n",
    "                transforms.Normalize(mean=[0.485, 0.456, 0.406],\n",
    "                                    std=[0.229, 0.224, 0.225]),\n",
    "            ]) \n",
    "    elif ver==11:\n",
    "        transform = transforms.Compose([\n",
    "                transforms.RandomRotation(degrees=20),\n",
    "                transforms.RandomHorizontalFlip(),\n",
    "                transforms.RandomVerticalFlip(),\n",
    "                transforms.Resize((img_size, img_size)),\n",
    "                transforms.Normalize(mean=[0.485, 0.456, 0.406],\n",
    "                                    std=[0.229, 0.224, 0.225]),\n",
    "            ])      \n",
    "    return transform"
   ]
  },
  {
   "cell_type": "markdown",
   "id": "24a0c39f",
   "metadata": {},
   "source": [
    "# Custom DataLoader"
   ]
  },
  {
   "cell_type": "markdown",
   "id": "f7440114",
   "metadata": {},
   "source": [
    "## Train DataSet Load"
   ]
  },
  {
   "cell_type": "code",
   "execution_count": 5,
   "id": "05f9a918",
   "metadata": {},
   "outputs": [],
   "source": [
    "class Train_Dataset(Dataset):\n",
    "    def __init__(self, df, transform=None, is_training=False):\n",
    "        \n",
    "        self.file_name = df['file_name'].values\n",
    "        self.label = df['label'].values\n",
    "        self.transform = transform\n",
    "        self.is_training = is_training\n",
    "        print(f\"데이터셋 생성 완료,,\\n 데이터셋 사이즈 : {len(self.file_name)}\")\n",
    "        \n",
    "    def __getitem__(self, index):\n",
    "        img_path = self.file_name[index]\n",
    "        image = cv2.imread(img_path).astype(np.float32) #numpy형식으로 불러옴\n",
    "        label = self.label[index]\n",
    "        \n",
    "  \n",
    "        image = cv2.cvtColor(image, cv2.COLOR_BGR2RGB)/ 255.0 #데이터 증강을 위해 바꿈  \n",
    "        image_transform = self.transform\n",
    "            \n",
    "        #image transform 시행\n",
    "        image = image.transpose(2,0,1) #HWC ->> CHW\n",
    "        image = image_transform(torch.from_numpy(image))\n",
    "        \n",
    "        return image, label\n",
    "    \n",
    "    def __len__(self):\n",
    "        return len(self.file_name)"
   ]
  },
  {
   "cell_type": "markdown",
   "id": "61586811",
   "metadata": {},
   "source": [
    "### TestDataset Loader"
   ]
  },
  {
   "cell_type": "code",
   "execution_count": 6,
   "id": "65a5a935",
   "metadata": {},
   "outputs": [],
   "source": [
    "class Test_Dataset(Dataset):\n",
    "    def __init__(self, df, transform=None):\n",
    "        self.file_name = df['file_name'].values\n",
    "        self.transform = transform\n",
    "\n",
    "        print(f\"테스트 데이터셋 생성 완료,,\\n 데이터셋 사이즈 : {len(self.file_name)}\")\n",
    "\n",
    "    def __getitem__(self, index):        \n",
    "        image = np.array(Image.open(self.file_name[index]).convert('RGB'))\n",
    "\n",
    "        if self.transform is not None:\n",
    "            image = self.transform(Image.fromarray(image))\n",
    "\n",
    "        return image\n",
    "\n",
    "    def __len__(self):\n",
    "        return len(self.file_name)"
   ]
  },
  {
   "cell_type": "markdown",
   "id": "72b75e48",
   "metadata": {},
   "source": [
    "### Data Loader"
   ]
  },
  {
   "cell_type": "code",
   "execution_count": 7,
   "id": "3f1af09f",
   "metadata": {},
   "outputs": [],
   "source": [
    "def get_loader(df, phase: str, batch_size, shuffle, num_workers, transform, is_training=False):\n",
    "\n",
    "    if phase == 'test':\n",
    "        dataset = Test_Dataset(df, transform)\n",
    "        data_loader = DataLoader(dataset, batch_size=batch_size, shuffle=shuffle, num_workers=num_workers, pin_memory=True)\n",
    "    else:\n",
    "        dataset = Train_Dataset(df, transform, is_training=is_training)\n",
    "        data_loader = DataLoader(dataset, batch_size=batch_size, shuffle=shuffle, num_workers=num_workers, pin_memory=True, drop_last=False)\n",
    "\n",
    "    return data_loader"
   ]
  },
  {
   "cell_type": "markdown",
   "id": "744b61bb",
   "metadata": {},
   "source": [
    "### ConFig 설정"
   ]
  },
  {
   "cell_type": "code",
   "execution_count": 8,
   "id": "16d3d88b",
   "metadata": {},
   "outputs": [],
   "source": [
    "def getConfig():\n",
    "    parser = argparse.ArgumentParser()\n",
    "\n",
    "    parser.add_argument('--data_path', type=str, default='/home/user/effcientNet/explosive/merge_RP_explosive')\n",
    "    parser.add_argument('--file_name', type=str, default='train.csv')\n",
    "    parser.add_argument('--fold', type=int, default=0, help='Validation Fold')\n",
    "    parser.add_argument('--Kfold', type=int, default=5, help='Number of Split Folds')\n",
    "    parser.add_argument('--tag', default='PetFriends', type=str, help='tag')\n",
    "\n",
    "    # Model parameter settings\n",
    "    parser.add_argument('--model_type', type=str, default='', help='CNN or Transformer')\n",
    "    parser.add_argument('--encoder_name', type=str, default='regnety_040') #regnety 모델사용\n",
    "    parser.add_argument('--drop_path_rate', type=float, default=0.2)\n",
    "    parser.add_argument('--num_classes', type=int, default=5)\n",
    "\n",
    "    # Training parameter settings\n",
    "    ## Base Parameter\n",
    "    parser.add_argument('--epochs', type=int, default=50)\n",
    "    parser.add_argument('--img_size', type=int, default=256)\n",
    "    parser.add_argument('--batch_size', type=int, default=128)\n",
    "    \n",
    "    parser.add_argument('--initial_lr', type=float, default=1e-5)\n",
    "    parser.add_argument('--weight_decay', type=float, default=1e-4)\n",
    "    \n",
    "    ## Augmentation\n",
    "    parser.add_argument('--aug_ver', type=int, default=1)\n",
    "    \n",
    "    ### Cosine Annealing\n",
    "    parser.add_argument('--warm_epoch', type=int, default=45)  #  WarmUp Scheduler\n",
    "    parser.add_argument('--max_lr', type=float, default=1e-3)\n",
    "\n",
    "    parser.add_argument('--patience', type=int, default=300, help='Early Stopping')\n",
    "    parser.add_argument('--use_aug', type=bool, default=False, help='augmentation for pill and zipper')\n",
    "\n",
    "    # Hardware settings\n",
    "    parser.add_argument('--logging', type=bool, default=True)\n",
    "    parser.add_argument('--num_workers', type=int, default=4)\n",
    "    parser.add_argument('--seed', type=int, default=42)\n",
    "    args,_ = parser.parse_known_args()\n",
    "\n",
    "    return args"
   ]
  },
  {
   "cell_type": "markdown",
   "id": "54fd1205",
   "metadata": {},
   "source": [
    "# Model Load"
   ]
  },
  {
   "cell_type": "markdown",
   "id": "6fdea893",
   "metadata": {},
   "source": [
    "## Network 생성"
   ]
  },
  {
   "cell_type": "code",
   "execution_count": 9,
   "id": "8d7f4a8f",
   "metadata": {},
   "outputs": [],
   "source": [
    "class Net(nn.Module):\n",
    "    def __init__(self, args):\n",
    "        super().__init__()\n",
    "        #timm\n",
    "        #self.encoder = timm.create_model(args.encoder_name, pretrained=True, drop_path_rate = args.drop_path_rate, num_classes = args.num_classes)\n",
    "        #EfficientNet 모듈  timm에도 EfficientNet이 있지만 사전학습이 더 잘되어있음.\n",
    "        self.encoder = EfficientNet.from_pretrained(args.encoder_name,num_classes = args.num_classes )\n",
    "        \n",
    "    def forward(self, x):\n",
    "        x = self.encoder(x)\n",
    "        return x"
   ]
  },
  {
   "cell_type": "markdown",
   "id": "9f19d900",
   "metadata": {},
   "source": [
    "## Scheduler 설정 Loss class"
   ]
  },
  {
   "cell_type": "code",
   "execution_count": 10,
   "id": "3ce163f8",
   "metadata": {},
   "outputs": [],
   "source": [
    "class Set_lr(_LRScheduler):\n",
    "    def __init__(self, optimizer, total_iters, last_epoch=-1):\n",
    "        \n",
    "        self.total_iters = total_iters\n",
    "        super(Set_lr,self).__init__(optimizer, last_epoch=last_epoch)\n",
    "\n",
    "    def get_lr(self):\n",
    "        return [base_lr * self.last_epoch / (self.total_iters + 1e-7) for base_lr in self.base_lrs]\n",
    "    \n",
    "class Loss_setting(object):\n",
    "    def __init__(self, num=40):\n",
    "        self.num = num\n",
    "        self.reset()\n",
    "\n",
    "    def reset(self):\n",
    "        self.val = 0\n",
    "        self.avg = 0\n",
    "        self.sum = 0\n",
    "        self.count = 0\n",
    "        self.losses = []\n",
    "\n",
    "    def update(self, val, n=1):\n",
    "        self.val = val\n",
    "        self.sum += val * n\n",
    "        self.count += n\n",
    "        self.avg = self.sum / self.count\n",
    "        self.losses.append(val)"
   ]
  },
  {
   "cell_type": "markdown",
   "id": "7fee5a5c",
   "metadata": {},
   "source": [
    "# Train 함수 설정"
   ]
  },
  {
   "cell_type": "code",
   "execution_count": 11,
   "id": "6763d110",
   "metadata": {},
   "outputs": [],
   "source": [
    "class Trainer():\n",
    "    def __init__(self, args, try_count):\n",
    "        super(Trainer, self).__init__()\n",
    "        self.device = torch.device('cuda' if torch.cuda.is_available() else 'cpu')\n",
    "        \n",
    "        save_path = os.path.join('result/', str(try_count).zfill(3))\n",
    "        os.makedirs(save_path, exist_ok=True)\n",
    "        \n",
    "        #neptune ai\n",
    "        #netune ai :학습 그래프를 그려주는 모듈\n",
    "        run = neptune.init(\n",
    "        project=\"20215232/explosive\",#input yout project\n",
    "        api_token=\"eyJhcGlfYWRkcmVzcyI6Imh0dHBzOi8vYXBwLm5lcHR1bmUuYWkiLCJhcGlfdXJsIjoiaHR0cHM6Ly9hcHAubmVwdHVuZS5haSIsImFwaV9rZXkiOiI3MzdjZDZkYi0zNWQ5LTRjYTItYTIwZC00NTQ0NDc0NGI1MDYifQ==\", #input your token\n",
    "        )  # your credentials\n",
    "        \n",
    "        run[\"parameters\"] = args\n",
    "        \n",
    "        # Train, Valid Dataset Load\n",
    "        train_data = pd.read_csv(os.path.join(args.data_path, args.file_name))\n",
    "        \n",
    "        #Fold Setting\n",
    "        KFold = kf = StratifiedKFold(n_splits=args.Kfold)\n",
    "        for fold_num,(_,val_idx) in enumerate(KFold.split(train_data, y = train_data['label'])):\n",
    "            train_data.loc[val_idx,'fold'] = fold_num\n",
    "            \n",
    "        val_data = train_data[train_data['fold'] == args.fold].reset_index(drop=True)\n",
    "        train_data = train_data[train_data['fold'] != args.fold].reset_index(drop=True)\n",
    "        \n",
    "        #Data Augmentation\n",
    "        self.train_transform = augmentation(img_size=args.img_size, ver=args.aug_ver)\n",
    "        self.test_transform = augmentation(img_size=args.img_size, ver=1)\n",
    "        \n",
    "        #Load Train Data\n",
    "        self.train_loader = get_loader(train_data, phase='train', batch_size=args.batch_size, shuffle=True,\n",
    "                                       num_workers=args.num_workers, transform=self.train_transform, is_training=args.use_aug)\n",
    "        \n",
    "        self.val_loader = get_loader(val_data, phase='train', batch_size=args.batch_size, shuffle=False,\n",
    "                                       num_workers=args.num_workers, transform=self.test_transform, is_training=False)\n",
    "        \n",
    "        #Model Load\n",
    "        self.model = Net(args).to(self.device)\n",
    "        amcs, params = get_model_complexity_info(self.model, (3,args.img_size, args.img_size), as_strings=True,\n",
    "                                               print_per_layer_stat=False, verbose=False)\n",
    "        \n",
    "        print(f'Macs : {amcs}')\n",
    "        print(f'params : {[params]}')\n",
    "        \n",
    "        #Loss\n",
    "        self.criterion = nn.CrossEntropyLoss() #loss 다른거 쓰려면 다른거 넣으시면됩니다.\n",
    "        \n",
    "        #Optimizer\n",
    "        self.optimizer = optim.Lamb(self.model.parameters(), lr=args.initial_lr, weight_decay=args.weight_decay)\n",
    "        iter_per_epoch = len(self.train_loader)\n",
    "        \n",
    "    \n",
    "        #Scheduler\n",
    "        #OneCyecleLR 사용했으나 다른걸 사용해도 됩니다.\n",
    "        self.warmup_scheduler = Set_lr(self.optimizer, iter_per_epoch * args.warm_epoch)\n",
    "        self.scheduler = torch.optim.lr_scheduler.OneCycleLR(self.optimizer, max_lr=args.max_lr, steps_per_epoch=iter_per_epoch, epochs=args.epochs)\n",
    "\n",
    "        load_epoch=0\n",
    "        \n",
    "        #Train, Val\n",
    "        \n",
    "        best_loss = np.inf\n",
    "        best_acc = 0\n",
    "        best_f1 = 0\n",
    "        best_epoch = 0\n",
    "        early_stopping = 0\n",
    "        start = time.time()\n",
    "        for epoch in range(load_epoch+1, args.epochs+1):\n",
    "            self.epoch = epoch\n",
    "\n",
    "            if epoch > args.warm_epoch:\n",
    "                self.scheduler.step()\n",
    "                    \n",
    "            train_loss, train_acc, train_f1 = self.training(args)\n",
    "            state_dict = self.model.state_dict() #Save\n",
    "\n",
    "            val_loss, val_acc, val_f1 = self.validate(phase='val')\n",
    "\n",
    "            #neptune 에 기록\n",
    "\n",
    "            if args.logging == True:               \n",
    "                run['Train loss'].log(train_loss)\n",
    "                run['Train acc'].log(train_acc)\n",
    "                run['Train f1'].log(train_f1)\n",
    "\n",
    "                run['val loss'].log(val_loss)\n",
    "                run['val acc'].log(val_acc)\n",
    "                run['val f1'].log(val_f1)\n",
    "\n",
    "\n",
    "            #Save Model\n",
    "\n",
    "            if val_loss < best_loss:\n",
    "                early_stopping = 0 \n",
    "                best_epoch = epoch\n",
    "                best_loss = val_loss\n",
    "                best_acc = val_acc\n",
    "                best_f1 = val_f1\n",
    "\n",
    "                torch.save({'epoch':epoch,\n",
    "                            'state_dict':state_dict,\n",
    "                            'optimizer': self.optimizer.state_dict(),\n",
    "                            'scheduler': self.scheduler.state_dict(),}, os.path.join(save_path,'efficientnet-b7_best_model.pth'))\n",
    "\n",
    "                print(f\"SAVE: {best_epoch}epoch\")\n",
    "\n",
    "            else:\n",
    "                early_stopping += 1\n",
    "\n",
    "            if early_stopping == args.patience: #계속 발전이 없으면 중지시킴\n",
    "                break\n",
    "\n",
    "            if epoch == args.epochs:\n",
    "                torch.save({'epoch':epoch,\n",
    "                            'state_dict':state_dict,\n",
    "                            'optimizer': self.optimizer.state_dict(),\n",
    "                            'scheduler': self.scheduler.state_dict(),\n",
    "                    }, os.path.join(save_path,'efficientnet_b7_batch64.pth'))\n",
    "                print('---SAVE: last epoch--------')\n",
    "                    \n",
    "        #epoch끝\n",
    "        print(f\"Best Val Epoch:{best_epoch}, Val Loss : {best_loss}, Val Acc:{best_acc}, Best Val F1:{best_f1}\")\n",
    "        end = time.time()\n",
    "        print(f\"Total Process time:{(end - start) / 60:.3f}Minute\")\n",
    "        run[\"Best result\"] = {\n",
    "            \"Best_epoch\" : best_epoch,\n",
    "            \"Best_loss\" : best_loss,\n",
    "            \"best_acc\" : best_acc,\n",
    "            \"best_f1\" : best_f1,\n",
    "        }\n",
    "        run.stop()# neptune stop\n",
    "        \n",
    "        \n",
    "    def training(self, args):\n",
    "        self.model.train()\n",
    "        train_loss = Loss_setting()\n",
    "        train_acc = 0\n",
    "        preds_list = []\n",
    "        labels_list = []\n",
    "\n",
    "        scaler = grad_scaler.GradScaler()\n",
    "\n",
    "        for i, (images, labels) in enumerate(tqdm(self.train_loader)):\n",
    "            images = torch.tensor(images, device=self.device, dtype=torch.float32)\n",
    "            labels = torch.tensor(labels, device=self.device, dtype=torch.long)\n",
    "\n",
    "            if self.epoch <= args.warm_epoch:\n",
    "                self.warmup_scheduler.step()\n",
    "\n",
    "            self.model.zero_grad(set_to_none=True)\n",
    "\n",
    "            with autocast():\n",
    "                preds = self.model(images)\n",
    "                loss = self.criterion(preds, labels)\n",
    "            scaler.scale(loss).backward()\n",
    "            scaler.step(self.optimizer)\n",
    "            scaler.update()\n",
    "\n",
    "            # Metric\n",
    "            train_acc += (preds.argmax(dim=1) == labels).sum().item()\n",
    "            preds_list.extend(preds.argmax(dim=1).cpu().detach().numpy())\n",
    "            labels_list.extend(labels.cpu().detach().numpy())\n",
    "            train_loss.update(loss.item(), n=images.size(0))\n",
    "                \n",
    "                \n",
    "        train_acc /= len(self.train_loader.dataset)\n",
    "        train_f1 = f1_score(np.array(labels_list), np.array(preds_list), average='macro')\n",
    "\n",
    "        print(f'Epoch:[{self.epoch}/{args.epochs}]')\n",
    "        print(f'Train Loss:{train_loss.avg} | Acc:{train_acc} | F1:{train_f1}')\n",
    "\n",
    "        return train_loss.avg, train_acc, train_f1\n",
    "                \n",
    "\n",
    "    def validate(self, phase='val'):\n",
    "        self.model.eval()\n",
    "        with torch.no_grad():\n",
    "            val_loss = Loss_setting()\n",
    "            val_acc = 0\n",
    "            preds_list = []\n",
    "            labels_list = []\n",
    "\n",
    "            for images, labels in tqdm(self.val_loader):\n",
    "                images = torch.tensor(images, device=self.device, dtype=torch.float32)\n",
    "                labels = torch.tensor(labels, device=self.device, dtype=torch.long)\n",
    "\n",
    "                preds = self.model(images)\n",
    "                loss = self.criterion(preds, labels)\n",
    "\n",
    "                val_acc += (preds.argmax(dim=1) == labels).sum().item()\n",
    "                preds_list.extend(preds.argmax(dim=1).cpu().detach().numpy())\n",
    "                labels_list.extend(labels.cpu().detach().numpy())\n",
    "\n",
    "                val_loss.update(loss.item(), n=images.size(0))\n",
    "            val_acc /= len(self.val_loader.dataset)\n",
    "            val_f1 = f1_score(np.array(labels_list), np.array(preds_list), average='macro')\n",
    "\n",
    "            print(f'{phase} Loss:{val_loss.avg} | Acc:{val_acc} | F1:{val_f1}')\n",
    "\n",
    "        return val_loss.avg, val_acc, val_f1"
   ]
  },
  {
   "cell_type": "code",
   "execution_count": 12,
   "id": "8ec867f3",
   "metadata": {},
   "outputs": [
    {
     "name": "stdout",
     "output_type": "stream",
     "text": [
      "cuda:0\n"
     ]
    }
   ],
   "source": [
    "device = torch.device(\"cuda:0\" if torch.cuda.is_available() else \"cpu\")  # set gpu\n",
    "print(device)"
   ]
  },
  {
   "cell_type": "markdown",
   "id": "4eb49c1e",
   "metadata": {},
   "source": [
    "# Train"
   ]
  },
  {
   "cell_type": "code",
   "execution_count": 13,
   "id": "6eb36202",
   "metadata": {
    "scrolled": true
   },
   "outputs": [
    {
     "name": "stdout",
     "output_type": "stream",
     "text": [
      "https://app.neptune.ai/20215232/explosive/e/EX-48\n",
      "Remember to stop your run once you’ve finished logging your metadata (https://docs.neptune.ai/api-reference/run#.stop). It will be stopped automatically only when the notebook kernel/interactive console is terminated.\n",
      "데이터셋 생성 완료,,\n",
      " 데이터셋 사이즈 : 23848\n",
      "데이터셋 생성 완료,,\n",
      " 데이터셋 사이즈 : 5962\n",
      "Loaded pretrained weights for efficientnet-b7\n",
      "Macs : 80.18 MMac\n",
      "params : ['63.8 M']\n"
     ]
    },
    {
     "name": "stderr",
     "output_type": "stream",
     "text": [
      "100%|█████████████████████████████████████████| 373/373 [04:52<00:00,  1.27it/s]\n"
     ]
    },
    {
     "name": "stdout",
     "output_type": "stream",
     "text": [
      "Epoch:[1/300]\n",
      "Train Loss:1.617120035779992 | Acc:0.20790003354579 | F1:0.19410526871172168\n"
     ]
    },
    {
     "name": "stderr",
     "output_type": "stream",
     "text": [
      "100%|███████████████████████████████████████████| 94/94 [00:25<00:00,  3.75it/s]\n"
     ]
    },
    {
     "name": "stdout",
     "output_type": "stream",
     "text": [
      "val Loss:1.6058990884970914 | Acc:0.21620261657162027 | F1:0.18183156798057531\n",
      "SAVE: 1epoch\n"
     ]
    },
    {
     "name": "stderr",
     "output_type": "stream",
     "text": [
      "100%|█████████████████████████████████████████| 373/373 [04:26<00:00,  1.40it/s]\n"
     ]
    },
    {
     "name": "stdout",
     "output_type": "stream",
     "text": [
      "Epoch:[2/300]\n",
      "Train Loss:1.6180376515057373 | Acc:0.20328748742032876 | F1:0.18903197318827605\n"
     ]
    },
    {
     "name": "stderr",
     "output_type": "stream",
     "text": [
      "100%|███████████████████████████████████████████| 94/94 [00:24<00:00,  3.84it/s]\n"
     ]
    },
    {
     "name": "stdout",
     "output_type": "stream",
     "text": [
      "val Loss:1.6050086387728972 | Acc:0.22190540087219054 | F1:0.1885693658396736\n",
      "SAVE: 2epoch\n"
     ]
    },
    {
     "name": "stderr",
     "output_type": "stream",
     "text": [
      "100%|█████████████████████████████████████████| 373/373 [04:29<00:00,  1.38it/s]\n"
     ]
    },
    {
     "name": "stdout",
     "output_type": "stream",
     "text": [
      "Epoch:[3/300]\n",
      "Train Loss:1.6161885790999244 | Acc:0.2097031197584703 | F1:0.19720285925629943\n"
     ]
    },
    {
     "name": "stderr",
     "output_type": "stream",
     "text": [
      "100%|███████████████████████████████████████████| 94/94 [00:24<00:00,  3.82it/s]\n"
     ]
    },
    {
     "name": "stdout",
     "output_type": "stream",
     "text": [
      "val Loss:1.6042162476670458 | Acc:0.22307950352230796 | F1:0.18900419939048602\n",
      "SAVE: 3epoch\n"
     ]
    },
    {
     "name": "stderr",
     "output_type": "stream",
     "text": [
      "100%|█████████████████████████████████████████| 373/373 [04:28<00:00,  1.39it/s]\n"
     ]
    },
    {
     "name": "stdout",
     "output_type": "stream",
     "text": [
      "Epoch:[4/300]\n",
      "Train Loss:1.6162413219924103 | Acc:0.20597115062059712 | F1:0.19165560056986125\n"
     ]
    },
    {
     "name": "stderr",
     "output_type": "stream",
     "text": [
      "100%|███████████████████████████████████████████| 94/94 [00:24<00:00,  3.81it/s]\n"
     ]
    },
    {
     "name": "stdout",
     "output_type": "stream",
     "text": [
      "val Loss:1.603729316469248 | Acc:0.22593089567259309 | F1:0.1899962564487851\n",
      "SAVE: 4epoch\n"
     ]
    },
    {
     "name": "stderr",
     "output_type": "stream",
     "text": [
      "100%|█████████████████████████████████████████| 373/373 [04:26<00:00,  1.40it/s]\n"
     ]
    },
    {
     "name": "stdout",
     "output_type": "stream",
     "text": [
      "Epoch:[5/300]\n",
      "Train Loss:1.6129234132251655 | Acc:0.2135189533713519 | F1:0.1999126287715582\n"
     ]
    },
    {
     "name": "stderr",
     "output_type": "stream",
     "text": [
      "100%|███████████████████████████████████████████| 94/94 [00:24<00:00,  3.82it/s]\n"
     ]
    },
    {
     "name": "stdout",
     "output_type": "stream",
     "text": [
      "val Loss:1.6030669645429738 | Acc:0.2277759141227776 | F1:0.19120295054318692\n",
      "SAVE: 5epoch\n"
     ]
    },
    {
     "name": "stderr",
     "output_type": "stream",
     "text": [
      "100%|█████████████████████████████████████████| 373/373 [04:28<00:00,  1.39it/s]\n"
     ]
    },
    {
     "name": "stdout",
     "output_type": "stream",
     "text": [
      "Epoch:[6/300]\n",
      "Train Loss:1.578215846316361 | Acc:0.2811975847031198 | F1:0.2580968177479502\n"
     ]
    },
    {
     "name": "stderr",
     "output_type": "stream",
     "text": [
      "100%|███████████████████████████████████████████| 94/94 [00:24<00:00,  3.80it/s]\n"
     ]
    },
    {
     "name": "stdout",
     "output_type": "stream",
     "text": [
      "val Loss:1.5593862064890076 | Acc:0.34786984233478696 | F1:0.28949059464696986\n",
      "SAVE: 6epoch\n"
     ]
    },
    {
     "name": "stderr",
     "output_type": "stream",
     "text": [
      "100%|█████████████████████████████████████████| 373/373 [04:27<00:00,  1.39it/s]\n"
     ]
    },
    {
     "name": "stdout",
     "output_type": "stream",
     "text": [
      "Epoch:[7/300]\n",
      "Train Loss:1.4854775845144708 | Acc:0.441839986581684 | F1:0.3950129562883198\n"
     ]
    },
    {
     "name": "stderr",
     "output_type": "stream",
     "text": [
      "100%|███████████████████████████████████████████| 94/94 [00:24<00:00,  3.84it/s]\n"
     ]
    },
    {
     "name": "stdout",
     "output_type": "stream",
     "text": [
      "val Loss:1.4863992725111261 | Acc:0.46729285474672927 | F1:0.37971832797148947\n",
      "SAVE: 7epoch\n"
     ]
    },
    {
     "name": "stderr",
     "output_type": "stream",
     "text": [
      "100%|█████████████████████████████████████████| 373/373 [04:28<00:00,  1.39it/s]\n"
     ]
    },
    {
     "name": "stdout",
     "output_type": "stream",
     "text": [
      "Epoch:[8/300]\n",
      "Train Loss:1.3291783222453142 | Acc:0.5849127809459913 | F1:0.5060248002171985\n"
     ]
    },
    {
     "name": "stderr",
     "output_type": "stream",
     "text": [
      "100%|███████████████████████████████████████████| 94/94 [00:24<00:00,  3.80it/s]\n"
     ]
    },
    {
     "name": "stdout",
     "output_type": "stream",
     "text": [
      "val Loss:1.3698395971722428 | Acc:0.5379067427037907 | F1:0.4367185071845\n",
      "SAVE: 8epoch\n"
     ]
    },
    {
     "name": "stderr",
     "output_type": "stream",
     "text": [
      "100%|█████████████████████████████████████████| 373/373 [04:28<00:00,  1.39it/s]\n"
     ]
    },
    {
     "name": "stdout",
     "output_type": "stream",
     "text": [
      "Epoch:[9/300]\n",
      "Train Loss:1.1099342268131516 | Acc:0.6655065414290506 | F1:0.5655767793312381\n"
     ]
    },
    {
     "name": "stderr",
     "output_type": "stream",
     "text": [
      "100%|███████████████████████████████████████████| 94/94 [00:24<00:00,  3.81it/s]\n"
     ]
    },
    {
     "name": "stdout",
     "output_type": "stream",
     "text": [
      "val Loss:1.185618992821157 | Acc:0.6192552834619255 | F1:0.5095770163946206\n",
      "SAVE: 9epoch\n"
     ]
    },
    {
     "name": "stderr",
     "output_type": "stream",
     "text": [
      "100%|█████████████████████████████████████████| 373/373 [04:26<00:00,  1.40it/s]\n"
     ]
    },
    {
     "name": "stdout",
     "output_type": "stream",
     "text": [
      "Epoch:[10/300]\n",
      "Train Loss:0.8895429110455058 | Acc:0.7280694397853069 | F1:0.6170085578608885\n"
     ]
    },
    {
     "name": "stderr",
     "output_type": "stream",
     "text": [
      "100%|███████████████████████████████████████████| 94/94 [00:24<00:00,  3.85it/s]\n"
     ]
    },
    {
     "name": "stdout",
     "output_type": "stream",
     "text": [
      "val Loss:1.000189796904916 | Acc:0.6860114055686012 | F1:0.5689516519789611\n",
      "SAVE: 10epoch\n"
     ]
    },
    {
     "name": "stderr",
     "output_type": "stream",
     "text": [
      "100%|█████████████████████████████████████████| 373/373 [04:28<00:00,  1.39it/s]\n"
     ]
    },
    {
     "name": "stdout",
     "output_type": "stream",
     "text": [
      "Epoch:[11/300]\n",
      "Train Loss:0.7140247000819363 | Acc:0.7717628312646763 | F1:0.6542355286453646\n"
     ]
    },
    {
     "name": "stderr",
     "output_type": "stream",
     "text": [
      "100%|███████████████████████████████████████████| 94/94 [00:24<00:00,  3.80it/s]\n"
     ]
    },
    {
     "name": "stdout",
     "output_type": "stream",
     "text": [
      "val Loss:0.8201869430257266 | Acc:0.7269372693726938 | F1:0.6072852866932827\n",
      "SAVE: 11epoch\n"
     ]
    },
    {
     "name": "stderr",
     "output_type": "stream",
     "text": [
      "100%|█████████████████████████████████████████| 373/373 [04:29<00:00,  1.38it/s]\n"
     ]
    },
    {
     "name": "stdout",
     "output_type": "stream",
     "text": [
      "Epoch:[12/300]\n",
      "Train Loss:0.5904052388904 | Acc:0.7990187856424019 | F1:0.6816906913509626\n"
     ]
    },
    {
     "name": "stderr",
     "output_type": "stream",
     "text": [
      "100%|███████████████████████████████████████████| 94/94 [00:24<00:00,  3.80it/s]\n"
     ]
    },
    {
     "name": "stdout",
     "output_type": "stream",
     "text": [
      "val Loss:0.6785092637547707 | Acc:0.7628312646762831 | F1:0.6416720998752126\n",
      "SAVE: 12epoch\n"
     ]
    },
    {
     "name": "stderr",
     "output_type": "stream",
     "text": [
      "100%|█████████████████████████████████████████| 373/373 [04:25<00:00,  1.41it/s]\n"
     ]
    },
    {
     "name": "stdout",
     "output_type": "stream",
     "text": [
      "Epoch:[13/300]\n",
      "Train Loss:0.5081566904603695 | Acc:0.8210332103321033 | F1:0.719305649116522\n"
     ]
    },
    {
     "name": "stderr",
     "output_type": "stream",
     "text": [
      "100%|███████████████████████████████████████████| 94/94 [00:24<00:00,  3.81it/s]\n"
     ]
    },
    {
     "name": "stdout",
     "output_type": "stream",
     "text": [
      "val Loss:0.584757164245642 | Acc:0.7846360281784636 | F1:0.6623364360375407\n",
      "SAVE: 13epoch\n"
     ]
    },
    {
     "name": "stderr",
     "output_type": "stream",
     "text": [
      "100%|█████████████████████████████████████████| 373/373 [04:28<00:00,  1.39it/s]\n"
     ]
    },
    {
     "name": "stdout",
     "output_type": "stream",
     "text": [
      "Epoch:[14/300]\n",
      "Train Loss:0.4529984953098751 | Acc:0.8352063066085206 | F1:0.7472226237981809\n"
     ]
    },
    {
     "name": "stderr",
     "output_type": "stream",
     "text": [
      "100%|███████████████████████████████████████████| 94/94 [00:24<00:00,  3.80it/s]\n"
     ]
    },
    {
     "name": "stdout",
     "output_type": "stream",
     "text": [
      "val Loss:0.47677388638307966 | Acc:0.830929218383093 | F1:0.7199185189158991\n",
      "SAVE: 14epoch\n"
     ]
    },
    {
     "name": "stderr",
     "output_type": "stream",
     "text": [
      "100%|█████████████████████████████████████████| 373/373 [04:28<00:00,  1.39it/s]\n"
     ]
    },
    {
     "name": "stdout",
     "output_type": "stream",
     "text": [
      "Epoch:[15/300]\n",
      "Train Loss:0.41687468603048417 | Acc:0.8482472324723247 | F1:0.7777995798254428\n"
     ]
    },
    {
     "name": "stderr",
     "output_type": "stream",
     "text": [
      "100%|███████████████████████████████████████████| 94/94 [00:24<00:00,  3.84it/s]\n"
     ]
    },
    {
     "name": "stdout",
     "output_type": "stream",
     "text": [
      "val Loss:0.4398825380854941 | Acc:0.8388124790338812 | F1:0.7468291879302007\n",
      "SAVE: 15epoch\n"
     ]
    },
    {
     "name": "stderr",
     "output_type": "stream",
     "text": [
      "100%|█████████████████████████████████████████| 373/373 [04:26<00:00,  1.40it/s]\n"
     ]
    },
    {
     "name": "stdout",
     "output_type": "stream",
     "text": [
      "Epoch:[16/300]\n",
      "Train Loss:0.39223004095268826 | Acc:0.8557531029855753 | F1:0.7967231971199467\n"
     ]
    },
    {
     "name": "stderr",
     "output_type": "stream",
     "text": [
      "100%|███████████████████████████████████████████| 94/94 [00:24<00:00,  3.79it/s]\n"
     ]
    },
    {
     "name": "stdout",
     "output_type": "stream",
     "text": [
      "val Loss:0.4215860166772825 | Acc:0.8414961422341496 | F1:0.7544028215356205\n",
      "SAVE: 16epoch\n"
     ]
    },
    {
     "name": "stderr",
     "output_type": "stream",
     "text": [
      "100%|█████████████████████████████████████████| 373/373 [04:28<00:00,  1.39it/s]\n"
     ]
    },
    {
     "name": "stdout",
     "output_type": "stream",
     "text": [
      "Epoch:[17/300]\n",
      "Train Loss:0.36904715481959344 | Acc:0.8625041932237504 | F1:0.8067295084997659\n"
     ]
    },
    {
     "name": "stderr",
     "output_type": "stream",
     "text": [
      "100%|███████████████████████████████████████████| 94/94 [00:24<00:00,  3.81it/s]\n"
     ]
    },
    {
     "name": "stdout",
     "output_type": "stream",
     "text": [
      "val Loss:0.3844292948746673 | Acc:0.8530694397853069 | F1:0.7854281652222139\n",
      "SAVE: 17epoch\n"
     ]
    },
    {
     "name": "stderr",
     "output_type": "stream",
     "text": [
      "100%|█████████████████████████████████████████| 373/373 [04:26<00:00,  1.40it/s]\n"
     ]
    },
    {
     "name": "stdout",
     "output_type": "stream",
     "text": [
      "Epoch:[18/300]\n",
      "Train Loss:0.3495795378465854 | Acc:0.8700519959745052 | F1:0.8177183199698955\n"
     ]
    },
    {
     "name": "stderr",
     "output_type": "stream",
     "text": [
      "100%|███████████████████████████████████████████| 94/94 [00:24<00:00,  3.81it/s]\n"
     ]
    },
    {
     "name": "stdout",
     "output_type": "stream",
     "text": [
      "val Loss:0.36791650719968155 | Acc:0.8622945320362294 | F1:0.8065459186956746\n",
      "SAVE: 18epoch\n"
     ]
    },
    {
     "name": "stderr",
     "output_type": "stream",
     "text": [
      "100%|█████████████████████████████████████████| 373/373 [04:28<00:00,  1.39it/s]\n"
     ]
    },
    {
     "name": "stdout",
     "output_type": "stream",
     "text": [
      "Epoch:[19/300]\n",
      "Train Loss:0.33960966484453087 | Acc:0.8725259979872526 | F1:0.8205168795558375\n"
     ]
    },
    {
     "name": "stderr",
     "output_type": "stream",
     "text": [
      "100%|███████████████████████████████████████████| 94/94 [00:24<00:00,  3.81it/s]\n"
     ]
    },
    {
     "name": "stdout",
     "output_type": "stream",
     "text": [
      "val Loss:0.3503185009614448 | Acc:0.8664877557866488 | F1:0.8143066494888742\n",
      "SAVE: 19epoch\n"
     ]
    },
    {
     "name": "stderr",
     "output_type": "stream",
     "text": [
      "100%|█████████████████████████████████████████| 373/373 [04:29<00:00,  1.38it/s]\n"
     ]
    },
    {
     "name": "stdout",
     "output_type": "stream",
     "text": [
      "Epoch:[20/300]\n",
      "Train Loss:0.32867434791313327 | Acc:0.877390137537739 | F1:0.8330259375408039\n"
     ]
    },
    {
     "name": "stderr",
     "output_type": "stream",
     "text": [
      "100%|███████████████████████████████████████████| 94/94 [00:24<00:00,  3.80it/s]\n"
     ]
    },
    {
     "name": "stdout",
     "output_type": "stream",
     "text": [
      "val Loss:0.33776177163493587 | Acc:0.873029184837303 | F1:0.8299268036838559\n",
      "SAVE: 20epoch\n"
     ]
    },
    {
     "name": "stderr",
     "output_type": "stream",
     "text": [
      "100%|█████████████████████████████████████████| 373/373 [04:27<00:00,  1.40it/s]\n"
     ]
    },
    {
     "name": "stdout",
     "output_type": "stream",
     "text": [
      "Epoch:[21/300]\n",
      "Train Loss:0.3151223922197709 | Acc:0.8826735994632674 | F1:0.8373104171422374\n"
     ]
    },
    {
     "name": "stderr",
     "output_type": "stream",
     "text": [
      "100%|███████████████████████████████████████████| 94/94 [00:24<00:00,  3.82it/s]\n"
     ]
    },
    {
     "name": "stdout",
     "output_type": "stream",
     "text": [
      "val Loss:0.3345148476607365 | Acc:0.8723582690372358 | F1:0.8303137879775313\n",
      "SAVE: 21epoch\n"
     ]
    },
    {
     "name": "stderr",
     "output_type": "stream",
     "text": [
      "100%|█████████████████████████████████████████| 373/373 [04:27<00:00,  1.39it/s]\n"
     ]
    },
    {
     "name": "stdout",
     "output_type": "stream",
     "text": [
      "Epoch:[22/300]\n",
      "Train Loss:0.3045787179242121 | Acc:0.8856088560885609 | F1:0.8418556923539878\n"
     ]
    },
    {
     "name": "stderr",
     "output_type": "stream",
     "text": [
      "100%|███████████████████████████████████████████| 94/94 [00:24<00:00,  3.81it/s]\n"
     ]
    },
    {
     "name": "stdout",
     "output_type": "stream",
     "text": [
      "val Loss:0.31955899736328197 | Acc:0.8767192217376719 | F1:0.8252979893708534\n",
      "SAVE: 22epoch\n"
     ]
    },
    {
     "name": "stderr",
     "output_type": "stream",
     "text": [
      "100%|█████████████████████████████████████████| 373/373 [04:28<00:00,  1.39it/s]\n"
     ]
    },
    {
     "name": "stdout",
     "output_type": "stream",
     "text": [
      "Epoch:[23/300]\n",
      "Train Loss:0.2938720609609091 | Acc:0.8893408252264341 | F1:0.84573518372611\n"
     ]
    },
    {
     "name": "stderr",
     "output_type": "stream",
     "text": [
      "100%|███████████████████████████████████████████| 94/94 [00:24<00:00,  3.84it/s]\n"
     ]
    },
    {
     "name": "stdout",
     "output_type": "stream",
     "text": [
      "val Loss:0.3121749683527269 | Acc:0.8802415296880242 | F1:0.8390021216377782\n",
      "SAVE: 23epoch\n"
     ]
    },
    {
     "name": "stderr",
     "output_type": "stream",
     "text": [
      "100%|█████████████████████████████████████████| 373/373 [04:27<00:00,  1.39it/s]\n"
     ]
    },
    {
     "name": "stdout",
     "output_type": "stream",
     "text": [
      "Epoch:[24/300]\n",
      "Train Loss:0.2818917197015053 | Acc:0.8927373364642738 | F1:0.8503911052824067\n"
     ]
    },
    {
     "name": "stderr",
     "output_type": "stream",
     "text": [
      "100%|███████████████████████████████████████████| 94/94 [00:24<00:00,  3.78it/s]\n"
     ]
    },
    {
     "name": "stdout",
     "output_type": "stream",
     "text": [
      "val Loss:0.3147696862768923 | Acc:0.8765514927876551 | F1:0.838080307092865\n"
     ]
    },
    {
     "name": "stderr",
     "output_type": "stream",
     "text": [
      "100%|█████████████████████████████████████████| 373/373 [04:27<00:00,  1.39it/s]\n"
     ]
    },
    {
     "name": "stdout",
     "output_type": "stream",
     "text": [
      "Epoch:[25/300]\n",
      "Train Loss:0.2740531301926303 | Acc:0.8973079503522308 | F1:0.858249923130321\n"
     ]
    },
    {
     "name": "stderr",
     "output_type": "stream",
     "text": [
      "100%|███████████████████████████████████████████| 94/94 [00:24<00:00,  3.82it/s]\n"
     ]
    },
    {
     "name": "stdout",
     "output_type": "stream",
     "text": [
      "val Loss:0.3054835500682372 | Acc:0.8800738007380073 | F1:0.8365255664680287\n",
      "SAVE: 25epoch\n"
     ]
    },
    {
     "name": "stderr",
     "output_type": "stream",
     "text": [
      "100%|█████████████████████████████████████████| 373/373 [04:28<00:00,  1.39it/s]\n"
     ]
    },
    {
     "name": "stdout",
     "output_type": "stream",
     "text": [
      "Epoch:[26/300]\n",
      "Train Loss:0.2700413680244556 | Acc:0.8983143240523315 | F1:0.8566206134109764\n"
     ]
    },
    {
     "name": "stderr",
     "output_type": "stream",
     "text": [
      "100%|███████████████████████████████████████████| 94/94 [00:24<00:00,  3.85it/s]\n"
     ]
    },
    {
     "name": "stdout",
     "output_type": "stream",
     "text": [
      "val Loss:0.28615600816188186 | Acc:0.8889634350888963 | F1:0.8537671158806429\n",
      "SAVE: 26epoch\n"
     ]
    },
    {
     "name": "stderr",
     "output_type": "stream",
     "text": [
      "100%|█████████████████████████████████████████| 373/373 [04:29<00:00,  1.38it/s]\n"
     ]
    },
    {
     "name": "stdout",
     "output_type": "stream",
     "text": [
      "Epoch:[27/300]\n",
      "Train Loss:0.26112852601227604 | Acc:0.901920496477692 | F1:0.8646452403558289\n"
     ]
    },
    {
     "name": "stderr",
     "output_type": "stream",
     "text": [
      "100%|███████████████████████████████████████████| 94/94 [00:24<00:00,  3.81it/s]\n"
     ]
    },
    {
     "name": "stdout",
     "output_type": "stream",
     "text": [
      "val Loss:0.2946191101638973 | Acc:0.884770211338477 | F1:0.8482532077067464\n"
     ]
    },
    {
     "name": "stderr",
     "output_type": "stream",
     "text": [
      "100%|█████████████████████████████████████████| 373/373 [04:28<00:00,  1.39it/s]\n"
     ]
    },
    {
     "name": "stdout",
     "output_type": "stream",
     "text": [
      "Epoch:[28/300]\n",
      "Train Loss:0.25435783220433184 | Acc:0.903430057027843 | F1:0.8655747801483036\n"
     ]
    },
    {
     "name": "stderr",
     "output_type": "stream",
     "text": [
      "100%|███████████████████████████████████████████| 94/94 [00:24<00:00,  3.79it/s]\n"
     ]
    },
    {
     "name": "stdout",
     "output_type": "stream",
     "text": [
      "val Loss:0.27627991730361645 | Acc:0.893659845689366 | F1:0.8571792496131607\n",
      "SAVE: 28epoch\n"
     ]
    },
    {
     "name": "stderr",
     "output_type": "stream",
     "text": [
      "100%|█████████████████████████████████████████| 373/373 [04:28<00:00,  1.39it/s]\n"
     ]
    },
    {
     "name": "stdout",
     "output_type": "stream",
     "text": [
      "Epoch:[29/300]\n",
      "Train Loss:0.24900784988564878 | Acc:0.9052331432405233 | F1:0.8675734754412732\n"
     ]
    },
    {
     "name": "stderr",
     "output_type": "stream",
     "text": [
      "100%|███████████████████████████████████████████| 94/94 [00:24<00:00,  3.77it/s]\n"
     ]
    },
    {
     "name": "stdout",
     "output_type": "stream",
     "text": [
      "val Loss:0.2693876555450048 | Acc:0.8951694062395169 | F1:0.8540786055221323\n",
      "SAVE: 29epoch\n"
     ]
    },
    {
     "name": "stderr",
     "output_type": "stream",
     "text": [
      "100%|█████████████████████████████████████████| 373/373 [04:29<00:00,  1.38it/s]\n"
     ]
    },
    {
     "name": "stdout",
     "output_type": "stream",
     "text": [
      "Epoch:[30/300]\n",
      "Train Loss:0.24421420895845367 | Acc:0.9077910097282791 | F1:0.8717099383000797\n"
     ]
    },
    {
     "name": "stderr",
     "output_type": "stream",
     "text": [
      "100%|███████████████████████████████████████████| 94/94 [00:24<00:00,  3.79it/s]\n"
     ]
    },
    {
     "name": "stdout",
     "output_type": "stream",
     "text": [
      "val Loss:0.26431345862905997 | Acc:0.9002012747400201 | F1:0.8668218951201215\n",
      "SAVE: 30epoch\n"
     ]
    },
    {
     "name": "stderr",
     "output_type": "stream",
     "text": [
      "100%|█████████████████████████████████████████| 373/373 [04:28<00:00,  1.39it/s]\n"
     ]
    },
    {
     "name": "stdout",
     "output_type": "stream",
     "text": [
      "Epoch:[31/300]\n",
      "Train Loss:0.23716077164530314 | Acc:0.9095940959409594 | F1:0.8724528544528193\n"
     ]
    },
    {
     "name": "stderr",
     "output_type": "stream",
     "text": [
      "100%|███████████████████████████████████████████| 94/94 [00:24<00:00,  3.83it/s]\n"
     ]
    },
    {
     "name": "stdout",
     "output_type": "stream",
     "text": [
      "val Loss:0.26995360153342646 | Acc:0.8971821536397182 | F1:0.8657491104361732\n"
     ]
    },
    {
     "name": "stderr",
     "output_type": "stream",
     "text": [
      "100%|█████████████████████████████████████████| 373/373 [04:26<00:00,  1.40it/s]\n"
     ]
    },
    {
     "name": "stdout",
     "output_type": "stream",
     "text": [
      "Epoch:[32/300]\n",
      "Train Loss:0.22980660969420832 | Acc:0.9132422006038242 | F1:0.8765547741658237\n"
     ]
    },
    {
     "name": "stderr",
     "output_type": "stream",
     "text": [
      "100%|███████████████████████████████████████████| 94/94 [00:24<00:00,  3.80it/s]\n"
     ]
    },
    {
     "name": "stdout",
     "output_type": "stream",
     "text": [
      "val Loss:0.266683203462825 | Acc:0.8950016772895002 | F1:0.8639437319969933\n"
     ]
    },
    {
     "name": "stderr",
     "output_type": "stream",
     "text": [
      "100%|█████████████████████████████████████████| 373/373 [04:28<00:00,  1.39it/s]\n"
     ]
    },
    {
     "name": "stdout",
     "output_type": "stream",
     "text": [
      "Epoch:[33/300]\n",
      "Train Loss:0.22694424397591095 | Acc:0.9145840322039585 | F1:0.8802771195757293\n"
     ]
    },
    {
     "name": "stderr",
     "output_type": "stream",
     "text": [
      "100%|███████████████████████████████████████████| 94/94 [00:24<00:00,  3.82it/s]\n"
     ]
    },
    {
     "name": "stdout",
     "output_type": "stream",
     "text": [
      "val Loss:0.25871699201414866 | Acc:0.9005367326400536 | F1:0.8682238270558414\n",
      "SAVE: 33epoch\n"
     ]
    },
    {
     "name": "stderr",
     "output_type": "stream",
     "text": [
      "100%|█████████████████████████████████████████| 373/373 [04:28<00:00,  1.39it/s]\n"
     ]
    },
    {
     "name": "stdout",
     "output_type": "stream",
     "text": [
      "Epoch:[34/300]\n",
      "Train Loss:0.2217621067773172 | Acc:0.9167645085541765 | F1:0.883132949193248\n"
     ]
    },
    {
     "name": "stderr",
     "output_type": "stream",
     "text": [
      "100%|███████████████████████████████████████████| 94/94 [00:24<00:00,  3.82it/s]\n"
     ]
    },
    {
     "name": "stdout",
     "output_type": "stream",
     "text": [
      "val Loss:0.25345367024640475 | Acc:0.9025494800402549 | F1:0.8691188749120456\n",
      "SAVE: 34epoch\n"
     ]
    },
    {
     "name": "stderr",
     "output_type": "stream",
     "text": [
      "100%|█████████████████████████████████████████| 373/373 [04:28<00:00,  1.39it/s]\n"
     ]
    },
    {
     "name": "stdout",
     "output_type": "stream",
     "text": [
      "Epoch:[35/300]\n",
      "Train Loss:0.21517109685458422 | Acc:0.918190204629319 | F1:0.8840969374171909\n"
     ]
    },
    {
     "name": "stderr",
     "output_type": "stream",
     "text": [
      "100%|███████████████████████████████████████████| 94/94 [00:24<00:00,  3.81it/s]\n"
     ]
    },
    {
     "name": "stdout",
     "output_type": "stream",
     "text": [
      "val Loss:0.25554792416094235 | Acc:0.9005367326400536 | F1:0.8641264505847689\n"
     ]
    },
    {
     "name": "stderr",
     "output_type": "stream",
     "text": [
      "100%|█████████████████████████████████████████| 373/373 [04:28<00:00,  1.39it/s]\n"
     ]
    },
    {
     "name": "stdout",
     "output_type": "stream",
     "text": [
      "Epoch:[36/300]\n",
      "Train Loss:0.20911582064724576 | Acc:0.9212512579671251 | F1:0.8872467187214994\n"
     ]
    },
    {
     "name": "stderr",
     "output_type": "stream",
     "text": [
      "100%|███████████████████████████████████████████| 94/94 [00:24<00:00,  3.82it/s]\n"
     ]
    },
    {
     "name": "stdout",
     "output_type": "stream",
     "text": [
      "val Loss:0.2530471879816453 | Acc:0.9040590405904059 | F1:0.8746227261590338\n",
      "SAVE: 36epoch\n"
     ]
    },
    {
     "name": "stderr",
     "output_type": "stream",
     "text": [
      "100%|█████████████████████████████████████████| 373/373 [04:26<00:00,  1.40it/s]\n"
     ]
    },
    {
     "name": "stdout",
     "output_type": "stream",
     "text": [
      "Epoch:[37/300]\n",
      "Train Loss:0.2041007275925871 | Acc:0.924270379067427 | F1:0.891653330842219\n"
     ]
    },
    {
     "name": "stderr",
     "output_type": "stream",
     "text": [
      "100%|███████████████████████████████████████████| 94/94 [00:24<00:00,  3.84it/s]\n"
     ]
    },
    {
     "name": "stdout",
     "output_type": "stream",
     "text": [
      "val Loss:0.25527832004891793 | Acc:0.9040590405904059 | F1:0.8760635759635289\n"
     ]
    },
    {
     "name": "stderr",
     "output_type": "stream",
     "text": [
      "100%|█████████████████████████████████████████| 373/373 [04:28<00:00,  1.39it/s]\n"
     ]
    },
    {
     "name": "stdout",
     "output_type": "stream",
     "text": [
      "Epoch:[38/300]\n",
      "Train Loss:0.2014250579455362 | Acc:0.9248154981549815 | F1:0.8928461123702963\n"
     ]
    },
    {
     "name": "stderr",
     "output_type": "stream",
     "text": [
      "100%|███████████████████████████████████████████| 94/94 [00:24<00:00,  3.84it/s]\n"
     ]
    },
    {
     "name": "stdout",
     "output_type": "stream",
     "text": [
      "val Loss:0.24735626666433297 | Acc:0.9052331432405233 | F1:0.8767695233507622\n",
      "SAVE: 38epoch\n"
     ]
    },
    {
     "name": "stderr",
     "output_type": "stream",
     "text": [
      "100%|█████████████████████████████████████████| 373/373 [04:28<00:00,  1.39it/s]\n"
     ]
    },
    {
     "name": "stdout",
     "output_type": "stream",
     "text": [
      "Epoch:[39/300]\n",
      "Train Loss:0.19590185753593745 | Acc:0.9266185843676619 | F1:0.8950737844533723\n"
     ]
    },
    {
     "name": "stderr",
     "output_type": "stream",
     "text": [
      "100%|███████████████████████████████████████████| 94/94 [00:24<00:00,  3.78it/s]\n"
     ]
    },
    {
     "name": "stdout",
     "output_type": "stream",
     "text": [
      "val Loss:0.24009747902810555 | Acc:0.9087554511908755 | F1:0.8709681939180933\n",
      "SAVE: 39epoch\n"
     ]
    },
    {
     "name": "stderr",
     "output_type": "stream",
     "text": [
      "100%|█████████████████████████████████████████| 373/373 [04:26<00:00,  1.40it/s]\n"
     ]
    },
    {
     "name": "stdout",
     "output_type": "stream",
     "text": [
      "Epoch:[40/300]\n",
      "Train Loss:0.19320216220083433 | Acc:0.9269540422676954 | F1:0.8947775816247496\n"
     ]
    },
    {
     "name": "stderr",
     "output_type": "stream",
     "text": [
      "100%|███████████████████████████████████████████| 94/94 [00:24<00:00,  3.82it/s]\n"
     ]
    },
    {
     "name": "stdout",
     "output_type": "stream",
     "text": [
      "val Loss:0.23794292321404287 | Acc:0.91060046964106 | F1:0.8783541443622613\n",
      "SAVE: 40epoch\n"
     ]
    },
    {
     "name": "stderr",
     "output_type": "stream",
     "text": [
      "100%|█████████████████████████████████████████| 373/373 [04:28<00:00,  1.39it/s]\n"
     ]
    },
    {
     "name": "stdout",
     "output_type": "stream",
     "text": [
      "Epoch:[41/300]\n",
      "Train Loss:0.18696460024357162 | Acc:0.9302666890305267 | F1:0.8998735206810112\n"
     ]
    },
    {
     "name": "stderr",
     "output_type": "stream",
     "text": [
      "100%|███████████████████████████████████████████| 94/94 [00:24<00:00,  3.79it/s]\n"
     ]
    },
    {
     "name": "stdout",
     "output_type": "stream",
     "text": [
      "val Loss:0.23475502683202798 | Acc:0.9129486749412948 | F1:0.8817016065199862\n",
      "SAVE: 41epoch\n"
     ]
    },
    {
     "name": "stderr",
     "output_type": "stream",
     "text": [
      "100%|█████████████████████████████████████████| 373/373 [04:26<00:00,  1.40it/s]\n"
     ]
    },
    {
     "name": "stdout",
     "output_type": "stream",
     "text": [
      "Epoch:[42/300]\n",
      "Train Loss:0.1843539897636134 | Acc:0.9290087219054008 | F1:0.8979122502930192\n"
     ]
    },
    {
     "name": "stderr",
     "output_type": "stream",
     "text": [
      "100%|███████████████████████████████████████████| 94/94 [00:24<00:00,  3.82it/s]\n"
     ]
    },
    {
     "name": "stdout",
     "output_type": "stream",
     "text": [
      "val Loss:0.24097465381966027 | Acc:0.906239516940624 | F1:0.8766656347429288\n"
     ]
    },
    {
     "name": "stderr",
     "output_type": "stream",
     "text": [
      "100%|█████████████████████████████████████████| 373/373 [04:28<00:00,  1.39it/s]\n"
     ]
    },
    {
     "name": "stdout",
     "output_type": "stream",
     "text": [
      "Epoch:[43/300]\n",
      "Train Loss:0.18151617001183518 | Acc:0.9300989600805099 | F1:0.8996404913171923\n"
     ]
    },
    {
     "name": "stderr",
     "output_type": "stream",
     "text": [
      "100%|███████████████████████████████████████████| 94/94 [00:24<00:00,  3.79it/s]\n"
     ]
    },
    {
     "name": "stdout",
     "output_type": "stream",
     "text": [
      "val Loss:0.2367688565462183 | Acc:0.9095940959409594 | F1:0.8776858160511584\n"
     ]
    },
    {
     "name": "stderr",
     "output_type": "stream",
     "text": [
      "100%|█████████████████████████████████████████| 373/373 [04:29<00:00,  1.39it/s]\n"
     ]
    },
    {
     "name": "stdout",
     "output_type": "stream",
     "text": [
      "Epoch:[44/300]\n",
      "Train Loss:0.1791117468143381 | Acc:0.9316504528681651 | F1:0.9011212397812542\n"
     ]
    },
    {
     "name": "stderr",
     "output_type": "stream",
     "text": [
      "100%|███████████████████████████████████████████| 94/94 [00:24<00:00,  3.77it/s]\n"
     ]
    },
    {
     "name": "stdout",
     "output_type": "stream",
     "text": [
      "val Loss:0.23847200386401132 | Acc:0.9074136195907414 | F1:0.8770593560352176\n"
     ]
    },
    {
     "name": "stderr",
     "output_type": "stream",
     "text": [
      "100%|█████████████████████████████████████████| 373/373 [04:27<00:00,  1.39it/s]\n"
     ]
    },
    {
     "name": "stdout",
     "output_type": "stream",
     "text": [
      "Epoch:[45/300]\n",
      "Train Loss:0.17830094150231612 | Acc:0.932069775243207 | F1:0.9030751089112432\n"
     ]
    },
    {
     "name": "stderr",
     "output_type": "stream",
     "text": [
      "100%|███████████████████████████████████████████| 94/94 [00:24<00:00,  3.84it/s]\n"
     ]
    },
    {
     "name": "stdout",
     "output_type": "stream",
     "text": [
      "val Loss:0.2432286641399599 | Acc:0.9060717879906072 | F1:0.875164299564102\n"
     ]
    },
    {
     "name": "stderr",
     "output_type": "stream",
     "text": [
      "100%|█████████████████████████████████████████| 373/373 [04:28<00:00,  1.39it/s]\n"
     ]
    },
    {
     "name": "stdout",
     "output_type": "stream",
     "text": [
      "Epoch:[46/300]\n",
      "Train Loss:0.17039516624919282 | Acc:0.9354243542435424 | F1:0.9060669785680016\n"
     ]
    },
    {
     "name": "stderr",
     "output_type": "stream",
     "text": [
      "100%|███████████████████████████████████████████| 94/94 [00:24<00:00,  3.78it/s]\n"
     ]
    },
    {
     "name": "stdout",
     "output_type": "stream",
     "text": [
      "val Loss:0.2347600141803227 | Acc:0.91060046964106 | F1:0.8804610778317841\n"
     ]
    },
    {
     "name": "stderr",
     "output_type": "stream",
     "text": [
      "100%|█████████████████████████████████████████| 373/373 [04:28<00:00,  1.39it/s]\n"
     ]
    },
    {
     "name": "stdout",
     "output_type": "stream",
     "text": [
      "Epoch:[47/300]\n",
      "Train Loss:0.16600613321525384 | Acc:0.9366823213686682 | F1:0.9086862616476722\n"
     ]
    },
    {
     "name": "stderr",
     "output_type": "stream",
     "text": [
      "100%|███████████████████████████████████████████| 94/94 [00:24<00:00,  3.79it/s]\n"
     ]
    },
    {
     "name": "stdout",
     "output_type": "stream",
     "text": [
      "val Loss:0.23330994856883439 | Acc:0.9100972827910098 | F1:0.8803231754342681\n",
      "SAVE: 47epoch\n"
     ]
    },
    {
     "name": "stderr",
     "output_type": "stream",
     "text": [
      "100%|█████████████████████████████████████████| 373/373 [04:27<00:00,  1.40it/s]\n"
     ]
    },
    {
     "name": "stdout",
     "output_type": "stream",
     "text": [
      "Epoch:[48/300]\n",
      "Train Loss:0.1639173366766734 | Acc:0.9373951694062396 | F1:0.909153303909352\n"
     ]
    },
    {
     "name": "stderr",
     "output_type": "stream",
     "text": [
      "100%|███████████████████████████████████████████| 94/94 [00:24<00:00,  3.82it/s]\n"
     ]
    },
    {
     "name": "stdout",
     "output_type": "stream",
     "text": [
      "val Loss:0.22857114543787777 | Acc:0.9119423012411942 | F1:0.8752421186366737\n",
      "SAVE: 48epoch\n"
     ]
    },
    {
     "name": "stderr",
     "output_type": "stream",
     "text": [
      "100%|█████████████████████████████████████████| 373/373 [04:28<00:00,  1.39it/s]\n"
     ]
    },
    {
     "name": "stdout",
     "output_type": "stream",
     "text": [
      "Epoch:[49/300]\n",
      "Train Loss:0.16212546019616522 | Acc:0.9376886950687688 | F1:0.9098227045932932\n"
     ]
    },
    {
     "name": "stderr",
     "output_type": "stream",
     "text": [
      "100%|███████████████████████████████████████████| 94/94 [00:24<00:00,  3.77it/s]\n"
     ]
    },
    {
     "name": "stdout",
     "output_type": "stream",
     "text": [
      "val Loss:0.23151571622180214 | Acc:0.9159677960415967 | F1:0.8852790095775909\n"
     ]
    },
    {
     "name": "stderr",
     "output_type": "stream",
     "text": [
      "100%|█████████████████████████████████████████| 373/373 [04:28<00:00,  1.39it/s]\n"
     ]
    },
    {
     "name": "stdout",
     "output_type": "stream",
     "text": [
      "Epoch:[50/300]\n",
      "Train Loss:0.15643509615841267 | Acc:0.9403723582690372 | F1:0.9127969923700865\n"
     ]
    },
    {
     "name": "stderr",
     "output_type": "stream",
     "text": [
      "100%|███████████████████████████████████████████| 94/94 [00:24<00:00,  3.83it/s]\n"
     ]
    },
    {
     "name": "stdout",
     "output_type": "stream",
     "text": [
      "val Loss:0.24467323605109884 | Acc:0.908419993290842 | F1:0.8783521558022267\n"
     ]
    },
    {
     "name": "stderr",
     "output_type": "stream",
     "text": [
      "100%|█████████████████████████████████████████| 373/373 [04:27<00:00,  1.39it/s]\n"
     ]
    },
    {
     "name": "stdout",
     "output_type": "stream",
     "text": [
      "Epoch:[51/300]\n",
      "Train Loss:0.15213246812499717 | Acc:0.9424270379067426 | F1:0.9153293592740864\n"
     ]
    },
    {
     "name": "stderr",
     "output_type": "stream",
     "text": [
      "100%|███████████████████████████████████████████| 94/94 [00:24<00:00,  3.81it/s]\n"
     ]
    },
    {
     "name": "stdout",
     "output_type": "stream",
     "text": [
      "val Loss:0.22542199959865367 | Acc:0.91580006709158 | F1:0.8839098139713581\n",
      "SAVE: 51epoch\n"
     ]
    },
    {
     "name": "stderr",
     "output_type": "stream",
     "text": [
      "100%|█████████████████████████████████████████| 373/373 [04:28<00:00,  1.39it/s]\n"
     ]
    },
    {
     "name": "stdout",
     "output_type": "stream",
     "text": [
      "Epoch:[52/300]\n",
      "Train Loss:0.15374869149189513 | Acc:0.9407916806440791 | F1:0.9130012712779078\n"
     ]
    },
    {
     "name": "stderr",
     "output_type": "stream",
     "text": [
      "100%|███████████████████████████████████████████| 94/94 [00:24<00:00,  3.78it/s]\n"
     ]
    },
    {
     "name": "stdout",
     "output_type": "stream",
     "text": [
      "val Loss:0.23425130767973326 | Acc:0.915129151291513 | F1:0.8874098447590837\n"
     ]
    },
    {
     "name": "stderr",
     "output_type": "stream",
     "text": [
      "100%|█████████████████████████████████████████| 373/373 [04:28<00:00,  1.39it/s]\n"
     ]
    },
    {
     "name": "stdout",
     "output_type": "stream",
     "text": [
      "Epoch:[53/300]\n",
      "Train Loss:0.1464870073218667 | Acc:0.9422173767192218 | F1:0.9145220657940453\n"
     ]
    },
    {
     "name": "stderr",
     "output_type": "stream",
     "text": [
      "100%|███████████████████████████████████████████| 94/94 [00:24<00:00,  3.85it/s]\n"
     ]
    },
    {
     "name": "stdout",
     "output_type": "stream",
     "text": [
      "val Loss:0.2291929887167807 | Acc:0.9169741697416974 | F1:0.8883288532660304\n"
     ]
    },
    {
     "name": "stderr",
     "output_type": "stream",
     "text": [
      "100%|█████████████████████████████████████████| 373/373 [04:27<00:00,  1.40it/s]\n"
     ]
    },
    {
     "name": "stdout",
     "output_type": "stream",
     "text": [
      "Epoch:[54/300]\n",
      "Train Loss:0.1478217891581464 | Acc:0.9451945655820194 | F1:0.9200392747156796\n"
     ]
    },
    {
     "name": "stderr",
     "output_type": "stream",
     "text": [
      "100%|███████████████████████████████████████████| 94/94 [00:24<00:00,  3.79it/s]\n"
     ]
    },
    {
     "name": "stdout",
     "output_type": "stream",
     "text": [
      "val Loss:0.22522789286855696 | Acc:0.9156323381415632 | F1:0.8867159612799963\n",
      "SAVE: 54epoch\n"
     ]
    },
    {
     "name": "stderr",
     "output_type": "stream",
     "text": [
      "100%|█████████████████████████████████████████| 373/373 [04:27<00:00,  1.39it/s]\n"
     ]
    },
    {
     "name": "stdout",
     "output_type": "stream",
     "text": [
      "Epoch:[55/300]\n",
      "Train Loss:0.14593055814314673 | Acc:0.9447333109694733 | F1:0.9183223395847862\n"
     ]
    },
    {
     "name": "stderr",
     "output_type": "stream",
     "text": [
      "100%|███████████████████████████████████████████| 94/94 [00:24<00:00,  3.80it/s]\n"
     ]
    },
    {
     "name": "stdout",
     "output_type": "stream",
     "text": [
      "val Loss:0.22439833961181024 | Acc:0.9181482723918148 | F1:0.8888946580419539\n",
      "SAVE: 55epoch\n"
     ]
    },
    {
     "name": "stderr",
     "output_type": "stream",
     "text": [
      "100%|█████████████████████████████████████████| 373/373 [04:27<00:00,  1.39it/s]\n"
     ]
    },
    {
     "name": "stdout",
     "output_type": "stream",
     "text": [
      "Epoch:[56/300]\n",
      "Train Loss:0.14297905417346027 | Acc:0.946829922844683 | F1:0.9210667405924629\n"
     ]
    },
    {
     "name": "stderr",
     "output_type": "stream",
     "text": [
      "100%|███████████████████████████████████████████| 94/94 [00:24<00:00,  3.84it/s]\n"
     ]
    },
    {
     "name": "stdout",
     "output_type": "stream",
     "text": [
      "val Loss:0.22792943609026764 | Acc:0.9169741697416974 | F1:0.8885888505879986\n"
     ]
    },
    {
     "name": "stderr",
     "output_type": "stream",
     "text": [
      "100%|█████████████████████████████████████████| 373/373 [04:28<00:00,  1.39it/s]\n"
     ]
    },
    {
     "name": "stdout",
     "output_type": "stream",
     "text": [
      "Epoch:[57/300]\n",
      "Train Loss:0.13944689588073275 | Acc:0.9476266353572627 | F1:0.9226442245659904\n"
     ]
    },
    {
     "name": "stderr",
     "output_type": "stream",
     "text": [
      "100%|███████████████████████████████████████████| 94/94 [00:24<00:00,  3.81it/s]\n"
     ]
    },
    {
     "name": "stdout",
     "output_type": "stream",
     "text": [
      "val Loss:0.22732729976824947 | Acc:0.9178128144917813 | F1:0.8892708037430268\n"
     ]
    },
    {
     "name": "stderr",
     "output_type": "stream",
     "text": [
      "100%|█████████████████████████████████████████| 373/373 [04:29<00:00,  1.39it/s]\n"
     ]
    },
    {
     "name": "stdout",
     "output_type": "stream",
     "text": [
      "Epoch:[58/300]\n",
      "Train Loss:0.13527658285809938 | Acc:0.9489684669573969 | F1:0.925478042042859\n"
     ]
    },
    {
     "name": "stderr",
     "output_type": "stream",
     "text": [
      "100%|███████████████████████████████████████████| 94/94 [00:24<00:00,  3.80it/s]\n"
     ]
    },
    {
     "name": "stdout",
     "output_type": "stream",
     "text": [
      "val Loss:0.22762838773821792 | Acc:0.9184837302918484 | F1:0.8892567239288883\n"
     ]
    },
    {
     "name": "stderr",
     "output_type": "stream",
     "text": [
      "100%|█████████████████████████████████████████| 373/373 [04:28<00:00,  1.39it/s]\n"
     ]
    },
    {
     "name": "stdout",
     "output_type": "stream",
     "text": [
      "Epoch:[59/300]\n",
      "Train Loss:0.13368135821155477 | Acc:0.9505618919825561 | F1:0.9251798188290214\n"
     ]
    },
    {
     "name": "stderr",
     "output_type": "stream",
     "text": [
      "100%|███████████████████████████████████████████| 94/94 [00:24<00:00,  3.80it/s]\n"
     ]
    },
    {
     "name": "stdout",
     "output_type": "stream",
     "text": [
      "val Loss:0.22461100536452014 | Acc:0.9193223750419323 | F1:0.8904551764583756\n"
     ]
    },
    {
     "name": "stderr",
     "output_type": "stream",
     "text": [
      "100%|█████████████████████████████████████████| 373/373 [04:29<00:00,  1.39it/s]\n"
     ]
    },
    {
     "name": "stdout",
     "output_type": "stream",
     "text": [
      "Epoch:[60/300]\n",
      "Train Loss:0.128206675851587 | Acc:0.9519037235826904 | F1:0.9294779386720192\n"
     ]
    },
    {
     "name": "stderr",
     "output_type": "stream",
     "text": [
      "100%|███████████████████████████████████████████| 94/94 [00:24<00:00,  3.81it/s]\n"
     ]
    },
    {
     "name": "stdout",
     "output_type": "stream",
     "text": [
      "val Loss:0.22532462136518785 | Acc:0.9198255618919825 | F1:0.8895319450416895\n"
     ]
    },
    {
     "name": "stderr",
     "output_type": "stream",
     "text": [
      "100%|█████████████████████████████████████████| 373/373 [04:28<00:00,  1.39it/s]\n"
     ]
    },
    {
     "name": "stdout",
     "output_type": "stream",
     "text": [
      "Epoch:[61/300]\n",
      "Train Loss:0.12543044705412523 | Acc:0.9522811137202281 | F1:0.9293564094366216\n"
     ]
    },
    {
     "name": "stderr",
     "output_type": "stream",
     "text": [
      "100%|███████████████████████████████████████████| 94/94 [00:24<00:00,  3.80it/s]\n"
     ]
    },
    {
     "name": "stdout",
     "output_type": "stream",
     "text": [
      "val Loss:0.2305556668702192 | Acc:0.917980543441798 | F1:0.8888859333266733\n"
     ]
    },
    {
     "name": "stderr",
     "output_type": "stream",
     "text": [
      "100%|█████████████████████████████████████████| 373/373 [04:27<00:00,  1.39it/s]\n"
     ]
    },
    {
     "name": "stdout",
     "output_type": "stream",
     "text": [
      "Epoch:[62/300]\n",
      "Train Loss:0.12288351845857243 | Acc:0.952910097282791 | F1:0.9292965683872367\n"
     ]
    },
    {
     "name": "stderr",
     "output_type": "stream",
     "text": [
      "100%|███████████████████████████████████████████| 94/94 [00:24<00:00,  3.84it/s]\n"
     ]
    },
    {
     "name": "stdout",
     "output_type": "stream",
     "text": [
      "val Loss:0.2242842742350641 | Acc:0.9198255618919825 | F1:0.8914099367713721\n",
      "SAVE: 62epoch\n"
     ]
    },
    {
     "name": "stderr",
     "output_type": "stream",
     "text": [
      "100%|█████████████████████████████████████████| 373/373 [04:29<00:00,  1.39it/s]\n"
     ]
    },
    {
     "name": "stdout",
     "output_type": "stream",
     "text": [
      "Epoch:[63/300]\n",
      "Train Loss:0.12190812049731638 | Acc:0.9536229453203623 | F1:0.9308836535185259\n"
     ]
    },
    {
     "name": "stderr",
     "output_type": "stream",
     "text": [
      "100%|███████████████████████████████████████████| 94/94 [00:24<00:00,  3.82it/s]\n"
     ]
    },
    {
     "name": "stdout",
     "output_type": "stream",
     "text": [
      "val Loss:0.24504279593600622 | Acc:0.9116068433411607 | F1:0.8825911564094705\n"
     ]
    },
    {
     "name": "stderr",
     "output_type": "stream",
     "text": [
      "100%|█████████████████████████████████████████| 373/373 [04:28<00:00,  1.39it/s]\n"
     ]
    },
    {
     "name": "stdout",
     "output_type": "stream",
     "text": [
      "Epoch:[64/300]\n",
      "Train Loss:0.12029800551803829 | Acc:0.9554260315330426 | F1:0.9326317583066007\n"
     ]
    },
    {
     "name": "stderr",
     "output_type": "stream",
     "text": [
      "100%|███████████████████████████████████████████| 94/94 [00:24<00:00,  3.81it/s]\n"
     ]
    },
    {
     "name": "stdout",
     "output_type": "stream",
     "text": [
      "val Loss:0.23210702608619105 | Acc:0.9193223750419323 | F1:0.8919464132128979\n"
     ]
    },
    {
     "name": "stderr",
     "output_type": "stream",
     "text": [
      "100%|█████████████████████████████████████████| 373/373 [04:28<00:00,  1.39it/s]\n"
     ]
    },
    {
     "name": "stdout",
     "output_type": "stream",
     "text": [
      "Epoch:[65/300]\n",
      "Train Loss:0.1163128198682762 | Acc:0.9568517276081852 | F1:0.9353585509589861\n"
     ]
    },
    {
     "name": "stderr",
     "output_type": "stream",
     "text": [
      "100%|███████████████████████████████████████████| 94/94 [00:24<00:00,  3.77it/s]\n"
     ]
    },
    {
     "name": "stdout",
     "output_type": "stream",
     "text": [
      "val Loss:0.22847716438455 | Acc:0.9189869171418987 | F1:0.8922097802570343\n"
     ]
    },
    {
     "name": "stderr",
     "output_type": "stream",
     "text": [
      "100%|█████████████████████████████████████████| 373/373 [04:28<00:00,  1.39it/s]\n"
     ]
    },
    {
     "name": "stdout",
     "output_type": "stream",
     "text": [
      "Epoch:[66/300]\n",
      "Train Loss:0.11339404011574498 | Acc:0.9586128815833613 | F1:0.9385029285007628\n"
     ]
    },
    {
     "name": "stderr",
     "output_type": "stream",
     "text": [
      "100%|███████████████████████████████████████████| 94/94 [00:24<00:00,  3.79it/s]\n"
     ]
    },
    {
     "name": "stdout",
     "output_type": "stream",
     "text": [
      "val Loss:0.23444437249012215 | Acc:0.919490103991949 | F1:0.89135479146035\n"
     ]
    },
    {
     "name": "stderr",
     "output_type": "stream",
     "text": [
      "100%|█████████████████████████████████████████| 373/373 [04:27<00:00,  1.39it/s]\n"
     ]
    },
    {
     "name": "stdout",
     "output_type": "stream",
     "text": [
      "Epoch:[67/300]\n",
      "Train Loss:0.11015920734413516 | Acc:0.9574387789332439 | F1:0.9355283952079236\n"
     ]
    },
    {
     "name": "stderr",
     "output_type": "stream",
     "text": [
      "100%|███████████████████████████████████████████| 94/94 [00:24<00:00,  3.82it/s]\n"
     ]
    },
    {
     "name": "stdout",
     "output_type": "stream",
     "text": [
      "val Loss:0.22982166055418082 | Acc:0.9203287487420329 | F1:0.8931560141116028\n"
     ]
    },
    {
     "name": "stderr",
     "output_type": "stream",
     "text": [
      "100%|█████████████████████████████████████████| 373/373 [04:28<00:00,  1.39it/s]\n"
     ]
    },
    {
     "name": "stdout",
     "output_type": "stream",
     "text": [
      "Epoch:[68/300]\n",
      "Train Loss:0.10992530505655597 | Acc:0.9586128815833613 | F1:0.9375365669691929\n"
     ]
    },
    {
     "name": "stderr",
     "output_type": "stream",
     "text": [
      "100%|███████████████████████████████████████████| 94/94 [00:24<00:00,  3.79it/s]\n"
     ]
    },
    {
     "name": "stdout",
     "output_type": "stream",
     "text": [
      "val Loss:0.2280730762715298 | Acc:0.9236833277423684 | F1:0.8958929636757305\n"
     ]
    },
    {
     "name": "stderr",
     "output_type": "stream",
     "text": [
      "100%|█████████████████████████████████████████| 373/373 [04:30<00:00,  1.38it/s]\n"
     ]
    },
    {
     "name": "stdout",
     "output_type": "stream",
     "text": [
      "Epoch:[69/300]\n",
      "Train Loss:0.10785699604002272 | Acc:0.9607094934585709 | F1:0.9398943366719561\n"
     ]
    },
    {
     "name": "stderr",
     "output_type": "stream",
     "text": [
      "100%|███████████████████████████████████████████| 94/94 [00:24<00:00,  3.78it/s]\n"
     ]
    },
    {
     "name": "stdout",
     "output_type": "stream",
     "text": [
      "val Loss:0.23058789124411175 | Acc:0.922509225092251 | F1:0.8956798100224498\n"
     ]
    },
    {
     "name": "stderr",
     "output_type": "stream",
     "text": [
      "100%|█████████████████████████████████████████| 373/373 [04:28<00:00,  1.39it/s]\n"
     ]
    },
    {
     "name": "stdout",
     "output_type": "stream",
     "text": [
      "Epoch:[70/300]\n",
      "Train Loss:0.10620690301605536 | Acc:0.9584032203958404 | F1:0.9378065109332413\n"
     ]
    },
    {
     "name": "stderr",
     "output_type": "stream",
     "text": [
      "100%|███████████████████████████████████████████| 94/94 [00:24<00:00,  3.82it/s]\n"
     ]
    },
    {
     "name": "stdout",
     "output_type": "stream",
     "text": [
      "val Loss:0.23914890521646787 | Acc:0.9171418986917141 | F1:0.8902477767905352\n"
     ]
    },
    {
     "name": "stderr",
     "output_type": "stream",
     "text": [
      "100%|█████████████████████████████████████████| 373/373 [04:27<00:00,  1.39it/s]\n"
     ]
    },
    {
     "name": "stdout",
     "output_type": "stream",
     "text": [
      "Epoch:[71/300]\n",
      "Train Loss:0.10203312771286752 | Acc:0.9622609862462261 | F1:0.9431221976086936\n"
     ]
    },
    {
     "name": "stderr",
     "output_type": "stream",
     "text": [
      "100%|███████████████████████████████████████████| 94/94 [00:24<00:00,  3.78it/s]\n"
     ]
    },
    {
     "name": "stdout",
     "output_type": "stream",
     "text": [
      "val Loss:0.23157401151404644 | Acc:0.9218383092921838 | F1:0.8940219592669886\n"
     ]
    },
    {
     "name": "stderr",
     "output_type": "stream",
     "text": [
      "100%|█████████████████████████████████████████| 373/373 [04:28<00:00,  1.39it/s]\n"
     ]
    },
    {
     "name": "stdout",
     "output_type": "stream",
     "text": [
      "Epoch:[72/300]\n",
      "Train Loss:0.1021203729231879 | Acc:0.9625125796712513 | F1:0.9429658847977956\n"
     ]
    },
    {
     "name": "stderr",
     "output_type": "stream",
     "text": [
      "100%|███████████████████████████████████████████| 94/94 [00:24<00:00,  3.80it/s]\n"
     ]
    },
    {
     "name": "stdout",
     "output_type": "stream",
     "text": [
      "val Loss:0.2264658116267826 | Acc:0.9255283461925529 | F1:0.896289527871876\n"
     ]
    },
    {
     "name": "stderr",
     "output_type": "stream",
     "text": [
      "100%|█████████████████████████████████████████| 373/373 [04:27<00:00,  1.39it/s]\n"
     ]
    },
    {
     "name": "stdout",
     "output_type": "stream",
     "text": [
      "Epoch:[73/300]\n",
      "Train Loss:0.09773423046333524 | Acc:0.9637705467963771 | F1:0.9450459740436958\n"
     ]
    },
    {
     "name": "stderr",
     "output_type": "stream",
     "text": [
      "100%|███████████████████████████████████████████| 94/94 [00:24<00:00,  3.81it/s]\n"
     ]
    },
    {
     "name": "stdout",
     "output_type": "stream",
     "text": [
      "val Loss:0.2305406764126547 | Acc:0.9233478698423347 | F1:0.8948725401797584\n"
     ]
    },
    {
     "name": "stderr",
     "output_type": "stream",
     "text": [
      "100%|█████████████████████████████████████████| 373/373 [04:30<00:00,  1.38it/s]\n"
     ]
    },
    {
     "name": "stdout",
     "output_type": "stream",
     "text": [
      "Epoch:[74/300]\n",
      "Train Loss:0.09647224038459438 | Acc:0.9641479369339148 | F1:0.9451717244289652\n"
     ]
    },
    {
     "name": "stderr",
     "output_type": "stream",
     "text": [
      "100%|███████████████████████████████████████████| 94/94 [00:24<00:00,  3.80it/s]\n"
     ]
    },
    {
     "name": "stdout",
     "output_type": "stream",
     "text": [
      "val Loss:0.23594085373864182 | Acc:0.922509225092251 | F1:0.8963310422129928\n"
     ]
    },
    {
     "name": "stderr",
     "output_type": "stream",
     "text": [
      "100%|█████████████████████████████████████████| 373/373 [04:28<00:00,  1.39it/s]\n"
     ]
    },
    {
     "name": "stdout",
     "output_type": "stream",
     "text": [
      "Epoch:[75/300]\n",
      "Train Loss:0.09692521149861817 | Acc:0.9631834954713183 | F1:0.9435312057575043\n"
     ]
    },
    {
     "name": "stderr",
     "output_type": "stream",
     "text": [
      "100%|███████████████████████████████████████████| 94/94 [00:24<00:00,  3.78it/s]\n"
     ]
    },
    {
     "name": "stdout",
     "output_type": "stream",
     "text": [
      "val Loss:0.23853932337911038 | Acc:0.9211673934921167 | F1:0.8939899198187302\n"
     ]
    },
    {
     "name": "stderr",
     "output_type": "stream",
     "text": [
      "100%|█████████████████████████████████████████| 373/373 [04:28<00:00,  1.39it/s]\n"
     ]
    },
    {
     "name": "stdout",
     "output_type": "stream",
     "text": [
      "Epoch:[76/300]\n",
      "Train Loss:0.0927522356344805 | Acc:0.96569942972157 | F1:0.9482256675552602\n"
     ]
    },
    {
     "name": "stderr",
     "output_type": "stream",
     "text": [
      "100%|███████████████████████████████████████████| 94/94 [00:24<00:00,  3.81it/s]\n"
     ]
    },
    {
     "name": "stdout",
     "output_type": "stream",
     "text": [
      "val Loss:0.2575529176614996 | Acc:0.9152968802415297 | F1:0.8742695825795028\n"
     ]
    },
    {
     "name": "stderr",
     "output_type": "stream",
     "text": [
      "100%|█████████████████████████████████████████| 373/373 [04:27<00:00,  1.39it/s]\n"
     ]
    },
    {
     "name": "stdout",
     "output_type": "stream",
     "text": [
      "Epoch:[77/300]\n",
      "Train Loss:0.09070607293016036 | Acc:0.9662026165716202 | F1:0.9484926031543168\n"
     ]
    },
    {
     "name": "stderr",
     "output_type": "stream",
     "text": [
      "100%|███████████████████████████████████████████| 94/94 [00:24<00:00,  3.79it/s]\n"
     ]
    },
    {
     "name": "stdout",
     "output_type": "stream",
     "text": [
      "val Loss:0.24379398357041906 | Acc:0.9198255618919825 | F1:0.8916873282598168\n"
     ]
    },
    {
     "name": "stderr",
     "output_type": "stream",
     "text": [
      "100%|█████████████████████████████████████████| 373/373 [04:28<00:00,  1.39it/s]\n"
     ]
    },
    {
     "name": "stdout",
     "output_type": "stream",
     "text": [
      "Epoch:[78/300]\n",
      "Train Loss:0.08954526617978092 | Acc:0.9659510231465951 | F1:0.9480962068683917\n"
     ]
    },
    {
     "name": "stderr",
     "output_type": "stream",
     "text": [
      "100%|███████████████████████████████████████████| 94/94 [00:24<00:00,  3.83it/s]\n"
     ]
    },
    {
     "name": "stdout",
     "output_type": "stream",
     "text": [
      "val Loss:0.23812589195676595 | Acc:0.9215028513921503 | F1:0.8933856003664692\n"
     ]
    },
    {
     "name": "stderr",
     "output_type": "stream",
     "text": [
      "100%|█████████████████████████████████████████| 373/373 [04:30<00:00,  1.38it/s]\n"
     ]
    },
    {
     "name": "stdout",
     "output_type": "stream",
     "text": [
      "Epoch:[79/300]\n",
      "Train Loss:0.09024597745649929 | Acc:0.9666219389466622 | F1:0.9491042075957671\n"
     ]
    },
    {
     "name": "stderr",
     "output_type": "stream",
     "text": [
      "100%|███████████████████████████████████████████| 94/94 [00:24<00:00,  3.80it/s]\n"
     ]
    },
    {
     "name": "stdout",
     "output_type": "stream",
     "text": [
      "val Loss:0.24321418763889724 | Acc:0.9191546460919154 | F1:0.8894081163792483\n"
     ]
    },
    {
     "name": "stderr",
     "output_type": "stream",
     "text": [
      "100%|█████████████████████████████████████████| 373/373 [04:29<00:00,  1.38it/s]\n"
     ]
    },
    {
     "name": "stdout",
     "output_type": "stream",
     "text": [
      "Epoch:[80/300]\n",
      "Train Loss:0.0835890563936571 | Acc:0.9694313988594432 | F1:0.9528974953327374\n"
     ]
    },
    {
     "name": "stderr",
     "output_type": "stream",
     "text": [
      "100%|███████████████████████████████████████████| 94/94 [00:24<00:00,  3.80it/s]\n"
     ]
    },
    {
     "name": "stdout",
     "output_type": "stream",
     "text": [
      "val Loss:0.24424199839189764 | Acc:0.9206642066420664 | F1:0.8872726449562297\n"
     ]
    },
    {
     "name": "stderr",
     "output_type": "stream",
     "text": [
      "100%|█████████████████████████████████████████| 373/373 [04:27<00:00,  1.39it/s]\n"
     ]
    },
    {
     "name": "stdout",
     "output_type": "stream",
     "text": [
      "Epoch:[81/300]\n",
      "Train Loss:0.08392724346060834 | Acc:0.9689282120093928 | F1:0.9525705500208884\n"
     ]
    },
    {
     "name": "stderr",
     "output_type": "stream",
     "text": [
      "100%|███████████████████████████████████████████| 94/94 [00:24<00:00,  3.79it/s]\n"
     ]
    },
    {
     "name": "stdout",
     "output_type": "stream",
     "text": [
      "val Loss:0.24835746895027633 | Acc:0.9213351224421336 | F1:0.885925278333462\n"
     ]
    },
    {
     "name": "stderr",
     "output_type": "stream",
     "text": [
      "100%|█████████████████████████████████████████| 373/373 [04:28<00:00,  1.39it/s]\n"
     ]
    },
    {
     "name": "stdout",
     "output_type": "stream",
     "text": [
      "Epoch:[82/300]\n",
      "Train Loss:0.08159667033488441 | Acc:0.9699765179469977 | F1:0.9552204653316471\n"
     ]
    },
    {
     "name": "stderr",
     "output_type": "stream",
     "text": [
      "100%|███████████████████████████████████████████| 94/94 [00:24<00:00,  3.80it/s]\n"
     ]
    },
    {
     "name": "stdout",
     "output_type": "stream",
     "text": [
      "val Loss:0.24813739959268022 | Acc:0.9209996645420999 | F1:0.8906681628236768\n"
     ]
    },
    {
     "name": "stderr",
     "output_type": "stream",
     "text": [
      "100%|█████████████████████████████████████████| 373/373 [04:26<00:00,  1.40it/s]\n"
     ]
    },
    {
     "name": "stdout",
     "output_type": "stream",
     "text": [
      "Epoch:[83/300]\n",
      "Train Loss:0.07990848332273605 | Acc:0.9705216370345522 | F1:0.9552328833203619\n"
     ]
    },
    {
     "name": "stderr",
     "output_type": "stream",
     "text": [
      "100%|███████████████████████████████████████████| 94/94 [00:24<00:00,  3.77it/s]\n"
     ]
    },
    {
     "name": "stdout",
     "output_type": "stream",
     "text": [
      "val Loss:0.24202278099581725 | Acc:0.9258638040925864 | F1:0.8981430060897455\n"
     ]
    },
    {
     "name": "stderr",
     "output_type": "stream",
     "text": [
      "100%|█████████████████████████████████████████| 373/373 [04:28<00:00,  1.39it/s]\n"
     ]
    },
    {
     "name": "stdout",
     "output_type": "stream",
     "text": [
      "Epoch:[84/300]\n",
      "Train Loss:0.07771874116455617 | Acc:0.9721569942972157 | F1:0.9573662915586947\n"
     ]
    },
    {
     "name": "stderr",
     "output_type": "stream",
     "text": [
      "100%|███████████████████████████████████████████| 94/94 [00:24<00:00,  3.77it/s]\n"
     ]
    },
    {
     "name": "stdout",
     "output_type": "stream",
     "text": [
      "val Loss:0.24324748766568235 | Acc:0.9241865145924186 | F1:0.8974822188597054\n"
     ]
    },
    {
     "name": "stderr",
     "output_type": "stream",
     "text": [
      "100%|█████████████████████████████████████████| 373/373 [04:28<00:00,  1.39it/s]\n"
     ]
    },
    {
     "name": "stdout",
     "output_type": "stream",
     "text": [
      "Epoch:[85/300]\n",
      "Train Loss:0.077979511576675 | Acc:0.9716538074471653 | F1:0.9561662881867201\n"
     ]
    },
    {
     "name": "stderr",
     "output_type": "stream",
     "text": [
      "100%|███████████████████████████████████████████| 94/94 [00:24<00:00,  3.83it/s]\n"
     ]
    },
    {
     "name": "stdout",
     "output_type": "stream",
     "text": [
      "val Loss:0.2534555128264106 | Acc:0.922509225092251 | F1:0.8970001087169601\n"
     ]
    },
    {
     "name": "stderr",
     "output_type": "stream",
     "text": [
      "100%|█████████████████████████████████████████| 373/373 [04:28<00:00,  1.39it/s]\n"
     ]
    },
    {
     "name": "stdout",
     "output_type": "stream",
     "text": [
      "Epoch:[86/300]\n",
      "Train Loss:0.07459993018115459 | Acc:0.9728279100972828 | F1:0.9576331235589592\n"
     ]
    },
    {
     "name": "stderr",
     "output_type": "stream",
     "text": [
      "100%|███████████████████████████████████████████| 94/94 [00:24<00:00,  3.78it/s]\n"
     ]
    },
    {
     "name": "stdout",
     "output_type": "stream",
     "text": [
      "val Loss:0.24313195568269774 | Acc:0.9235155987923516 | F1:0.8959179128711305\n"
     ]
    },
    {
     "name": "stderr",
     "output_type": "stream",
     "text": [
      "100%|█████████████████████████████████████████| 373/373 [04:29<00:00,  1.38it/s]\n"
     ]
    },
    {
     "name": "stdout",
     "output_type": "stream",
     "text": [
      "Epoch:[87/300]\n",
      "Train Loss:0.07170556062761868 | Acc:0.974169741697417 | F1:0.9606789297068594\n"
     ]
    },
    {
     "name": "stderr",
     "output_type": "stream",
     "text": [
      "100%|███████████████████████████████████████████| 94/94 [00:24<00:00,  3.82it/s]\n"
     ]
    },
    {
     "name": "stdout",
     "output_type": "stream",
     "text": [
      "val Loss:0.24567022414980172 | Acc:0.9248574303924857 | F1:0.8960847105577521\n"
     ]
    },
    {
     "name": "stderr",
     "output_type": "stream",
     "text": [
      "100%|█████████████████████████████████████████| 373/373 [04:28<00:00,  1.39it/s]\n"
     ]
    },
    {
     "name": "stdout",
     "output_type": "stream",
     "text": [
      "Epoch:[88/300]\n",
      "Train Loss:0.07416209265594713 | Acc:0.9736246226098625 | F1:0.959283180876129\n"
     ]
    },
    {
     "name": "stderr",
     "output_type": "stream",
     "text": [
      "100%|███████████████████████████████████████████| 94/94 [00:24<00:00,  3.82it/s]\n"
     ]
    },
    {
     "name": "stdout",
     "output_type": "stream",
     "text": [
      "val Loss:0.24920641113763392 | Acc:0.924689701442469 | F1:0.8980126755609789\n"
     ]
    },
    {
     "name": "stderr",
     "output_type": "stream",
     "text": [
      "100%|█████████████████████████████████████████| 373/373 [04:28<00:00,  1.39it/s]\n"
     ]
    },
    {
     "name": "stdout",
     "output_type": "stream",
     "text": [
      "Epoch:[89/300]\n",
      "Train Loss:0.06900597968054714 | Acc:0.9738762160348876 | F1:0.9600571806040001\n"
     ]
    },
    {
     "name": "stderr",
     "output_type": "stream",
     "text": [
      "100%|███████████████████████████████████████████| 94/94 [00:24<00:00,  3.81it/s]\n"
     ]
    },
    {
     "name": "stdout",
     "output_type": "stream",
     "text": [
      "val Loss:0.24886189641790882 | Acc:0.9251928882925193 | F1:0.8983198233413239\n"
     ]
    },
    {
     "name": "stderr",
     "output_type": "stream",
     "text": [
      "100%|█████████████████████████████████████████| 373/373 [04:28<00:00,  1.39it/s]\n"
     ]
    },
    {
     "name": "stdout",
     "output_type": "stream",
     "text": [
      "Epoch:[90/300]\n",
      "Train Loss:0.06822303432380142 | Acc:0.9744632673599464 | F1:0.9599594175790388\n"
     ]
    },
    {
     "name": "stderr",
     "output_type": "stream",
     "text": [
      "100%|███████████████████████████████████████████| 94/94 [00:24<00:00,  3.79it/s]\n"
     ]
    },
    {
     "name": "stdout",
     "output_type": "stream",
     "text": [
      "val Loss:0.2488876316650792 | Acc:0.924689701442469 | F1:0.8973516256136758\n"
     ]
    },
    {
     "name": "stderr",
     "output_type": "stream",
     "text": [
      "100%|█████████████████████████████████████████| 373/373 [04:28<00:00,  1.39it/s]\n"
     ]
    },
    {
     "name": "stdout",
     "output_type": "stream",
     "text": [
      "Epoch:[91/300]\n",
      "Train Loss:0.06728515357493914 | Acc:0.9762244213351224 | F1:0.9632252895346454\n"
     ]
    },
    {
     "name": "stderr",
     "output_type": "stream",
     "text": [
      "100%|███████████████████████████████████████████| 94/94 [00:24<00:00,  3.80it/s]\n"
     ]
    },
    {
     "name": "stdout",
     "output_type": "stream",
     "text": [
      "val Loss:0.26176905189281535 | Acc:0.9206642066420664 | F1:0.8943241142881908\n"
     ]
    },
    {
     "name": "stderr",
     "output_type": "stream",
     "text": [
      "100%|█████████████████████████████████████████| 373/373 [04:28<00:00,  1.39it/s]\n"
     ]
    },
    {
     "name": "stdout",
     "output_type": "stream",
     "text": [
      "Epoch:[92/300]\n",
      "Train Loss:0.06441450230927225 | Acc:0.9762244213351224 | F1:0.9638578420390443\n"
     ]
    },
    {
     "name": "stderr",
     "output_type": "stream",
     "text": [
      "100%|███████████████████████████████████████████| 94/94 [00:24<00:00,  3.81it/s]\n"
     ]
    },
    {
     "name": "stdout",
     "output_type": "stream",
     "text": [
      "val Loss:0.2502335560669281 | Acc:0.9236833277423684 | F1:0.8943118452812462\n"
     ]
    },
    {
     "name": "stderr",
     "output_type": "stream",
     "text": [
      "100%|█████████████████████████████████████████| 373/373 [04:28<00:00,  1.39it/s]\n"
     ]
    },
    {
     "name": "stdout",
     "output_type": "stream",
     "text": [
      "Epoch:[93/300]\n",
      "Train Loss:0.06479371591392719 | Acc:0.9771469305602147 | F1:0.9642933824932719\n"
     ]
    },
    {
     "name": "stderr",
     "output_type": "stream",
     "text": [
      "100%|███████████████████████████████████████████| 94/94 [00:24<00:00,  3.77it/s]\n"
     ]
    },
    {
     "name": "stdout",
     "output_type": "stream",
     "text": [
      "val Loss:0.2541140718662068 | Acc:0.9238510566923851 | F1:0.8943802144316944\n"
     ]
    },
    {
     "name": "stderr",
     "output_type": "stream",
     "text": [
      "100%|█████████████████████████████████████████| 373/373 [04:28<00:00,  1.39it/s]\n"
     ]
    },
    {
     "name": "stdout",
     "output_type": "stream",
     "text": [
      "Epoch:[94/300]\n",
      "Train Loss:0.061483614241684977 | Acc:0.9788242200603824 | F1:0.9676594157501149\n"
     ]
    },
    {
     "name": "stderr",
     "output_type": "stream",
     "text": [
      "100%|███████████████████████████████████████████| 94/94 [00:24<00:00,  3.83it/s]\n"
     ]
    },
    {
     "name": "stdout",
     "output_type": "stream",
     "text": [
      "val Loss:0.26022694942452224 | Acc:0.9240187856424019 | F1:0.8946141987170183\n"
     ]
    },
    {
     "name": "stderr",
     "output_type": "stream",
     "text": [
      "100%|█████████████████████████████████████████| 373/373 [04:29<00:00,  1.38it/s]\n"
     ]
    },
    {
     "name": "stdout",
     "output_type": "stream",
     "text": [
      "Epoch:[95/300]\n",
      "Train Loss:0.05833566909501593 | Acc:0.9795370680979537 | F1:0.9689438281584195\n"
     ]
    },
    {
     "name": "stderr",
     "output_type": "stream",
     "text": [
      "100%|███████████████████████████████████████████| 94/94 [00:24<00:00,  3.80it/s]\n"
     ]
    },
    {
     "name": "stdout",
     "output_type": "stream",
     "text": [
      "val Loss:0.2670861511434691 | Acc:0.9204964776920497 | F1:0.8935108994268839\n"
     ]
    },
    {
     "name": "stderr",
     "output_type": "stream",
     "text": [
      "100%|█████████████████████████████████████████| 373/373 [04:29<00:00,  1.38it/s]\n"
     ]
    },
    {
     "name": "stdout",
     "output_type": "stream",
     "text": [
      "Epoch:[96/300]\n",
      "Train Loss:0.05940612712709426 | Acc:0.9781533042603153 | F1:0.9671093275911034\n"
     ]
    },
    {
     "name": "stderr",
     "output_type": "stream",
     "text": [
      "100%|███████████████████████████████████████████| 94/94 [00:24<00:00,  3.80it/s]\n"
     ]
    },
    {
     "name": "stdout",
     "output_type": "stream",
     "text": [
      "val Loss:0.2635693832279359 | Acc:0.9208319355920832 | F1:0.8917571761483263\n"
     ]
    },
    {
     "name": "stderr",
     "output_type": "stream",
     "text": [
      "100%|█████████████████████████████████████████| 373/373 [04:26<00:00,  1.40it/s]\n"
     ]
    },
    {
     "name": "stdout",
     "output_type": "stream",
     "text": [
      "Epoch:[97/300]\n",
      "Train Loss:0.05744391592786201 | Acc:0.9789919490103992 | F1:0.9678499543728931\n"
     ]
    },
    {
     "name": "stderr",
     "output_type": "stream",
     "text": [
      "100%|███████████████████████████████████████████| 94/94 [00:24<00:00,  3.84it/s]\n"
     ]
    },
    {
     "name": "stdout",
     "output_type": "stream",
     "text": [
      "val Loss:0.26734346913116624 | Acc:0.9228446829922845 | F1:0.8949724015111808\n"
     ]
    },
    {
     "name": "stderr",
     "output_type": "stream",
     "text": [
      "100%|█████████████████████████████████████████| 373/373 [04:28<00:00,  1.39it/s]\n"
     ]
    },
    {
     "name": "stdout",
     "output_type": "stream",
     "text": [
      "Epoch:[98/300]\n",
      "Train Loss:0.0590175000050301 | Acc:0.9786984233478698 | F1:0.9677538374532928\n"
     ]
    },
    {
     "name": "stderr",
     "output_type": "stream",
     "text": [
      "100%|███████████████████████████████████████████| 94/94 [00:24<00:00,  3.80it/s]\n"
     ]
    },
    {
     "name": "stdout",
     "output_type": "stream",
     "text": [
      "val Loss:0.26294868764414736 | Acc:0.9226769540422677 | F1:0.8924984116306582\n"
     ]
    },
    {
     "name": "stderr",
     "output_type": "stream",
     "text": [
      "100%|█████████████████████████████████████████| 373/373 [04:28<00:00,  1.39it/s]\n"
     ]
    },
    {
     "name": "stdout",
     "output_type": "stream",
     "text": [
      "Epoch:[99/300]\n",
      "Train Loss:0.056414799957827645 | Acc:0.9792854746729286 | F1:0.9676984737782233\n"
     ]
    },
    {
     "name": "stderr",
     "output_type": "stream",
     "text": [
      "100%|███████████████████████████████████████████| 94/94 [00:24<00:00,  3.82it/s]\n"
     ]
    },
    {
     "name": "stdout",
     "output_type": "stream",
     "text": [
      "val Loss:0.27618427265116635 | Acc:0.9218383092921838 | F1:0.8934308996554371\n"
     ]
    },
    {
     "name": "stderr",
     "output_type": "stream",
     "text": [
      "100%|█████████████████████████████████████████| 373/373 [04:27<00:00,  1.39it/s]\n"
     ]
    },
    {
     "name": "stdout",
     "output_type": "stream",
     "text": [
      "Epoch:[100/300]\n",
      "Train Loss:0.05809352567674969 | Acc:0.9788661522978866 | F1:0.9678758908604326\n"
     ]
    },
    {
     "name": "stderr",
     "output_type": "stream",
     "text": [
      "100%|███████████████████████████████████████████| 94/94 [00:24<00:00,  3.81it/s]\n"
     ]
    },
    {
     "name": "stdout",
     "output_type": "stream",
     "text": [
      "val Loss:0.2730094380687681 | Acc:0.9220060382422006 | F1:0.8930502161796394\n"
     ]
    },
    {
     "name": "stderr",
     "output_type": "stream",
     "text": [
      "100%|█████████████████████████████████████████| 373/373 [04:29<00:00,  1.39it/s]\n"
     ]
    },
    {
     "name": "stdout",
     "output_type": "stream",
     "text": [
      "Epoch:[101/300]\n",
      "Train Loss:0.05634268824009838 | Acc:0.9802918483730292 | F1:0.9701902298681\n"
     ]
    },
    {
     "name": "stderr",
     "output_type": "stream",
     "text": [
      "100%|███████████████████████████████████████████| 94/94 [00:24<00:00,  3.81it/s]\n"
     ]
    },
    {
     "name": "stdout",
     "output_type": "stream",
     "text": [
      "val Loss:0.27879655263638164 | Acc:0.9215028513921503 | F1:0.8913677155705768\n"
     ]
    },
    {
     "name": "stderr",
     "output_type": "stream",
     "text": [
      "100%|█████████████████████████████████████████| 373/373 [04:27<00:00,  1.39it/s]\n"
     ]
    },
    {
     "name": "stdout",
     "output_type": "stream",
     "text": [
      "Epoch:[102/300]\n",
      "Train Loss:0.05462557463808293 | Acc:0.9807531029855753 | F1:0.9704993320212214\n"
     ]
    },
    {
     "name": "stderr",
     "output_type": "stream",
     "text": [
      "100%|███████████████████████████████████████████| 94/94 [00:24<00:00,  3.81it/s]\n"
     ]
    },
    {
     "name": "stdout",
     "output_type": "stream",
     "text": [
      "val Loss:0.28835479032494443 | Acc:0.9206642066420664 | F1:0.8895251293404058\n"
     ]
    },
    {
     "name": "stderr",
     "output_type": "stream",
     "text": [
      "100%|█████████████████████████████████████████| 373/373 [04:28<00:00,  1.39it/s]\n"
     ]
    },
    {
     "name": "stdout",
     "output_type": "stream",
     "text": [
      "Epoch:[103/300]\n",
      "Train Loss:0.050147090874504856 | Acc:0.9829755115732975 | F1:0.9736167021479103\n"
     ]
    },
    {
     "name": "stderr",
     "output_type": "stream",
     "text": [
      "100%|███████████████████████████████████████████| 94/94 [00:24<00:00,  3.77it/s]\n"
     ]
    },
    {
     "name": "stdout",
     "output_type": "stream",
     "text": [
      "val Loss:0.27580323100373705 | Acc:0.922509225092251 | F1:0.8958804061865948\n"
     ]
    },
    {
     "name": "stderr",
     "output_type": "stream",
     "text": [
      "100%|█████████████████████████████████████████| 373/373 [04:29<00:00,  1.39it/s]\n"
     ]
    },
    {
     "name": "stdout",
     "output_type": "stream",
     "text": [
      "Epoch:[104/300]\n",
      "Train Loss:0.04980967456399295 | Acc:0.9816336799731634 | F1:0.9713671397141453\n"
     ]
    },
    {
     "name": "stderr",
     "output_type": "stream",
     "text": [
      "100%|███████████████████████████████████████████| 94/94 [00:24<00:00,  3.81it/s]\n"
     ]
    },
    {
     "name": "stdout",
     "output_type": "stream",
     "text": [
      "val Loss:0.2902800956861569 | Acc:0.9198255618919825 | F1:0.8852427486322927\n"
     ]
    },
    {
     "name": "stderr",
     "output_type": "stream",
     "text": [
      "100%|█████████████████████████████████████████| 373/373 [04:27<00:00,  1.39it/s]\n"
     ]
    },
    {
     "name": "stdout",
     "output_type": "stream",
     "text": [
      "Epoch:[105/300]\n",
      "Train Loss:0.05009844224101463 | Acc:0.9822207312982221 | F1:0.9718102403441087\n"
     ]
    },
    {
     "name": "stderr",
     "output_type": "stream",
     "text": [
      "100%|███████████████████████████████████████████| 94/94 [00:24<00:00,  3.81it/s]\n"
     ]
    },
    {
     "name": "stdout",
     "output_type": "stream",
     "text": [
      "val Loss:0.28646493499562165 | Acc:0.9203287487420329 | F1:0.8897624484431834\n"
     ]
    },
    {
     "name": "stderr",
     "output_type": "stream",
     "text": [
      "100%|█████████████████████████████████████████| 373/373 [04:28<00:00,  1.39it/s]\n"
     ]
    },
    {
     "name": "stdout",
     "output_type": "stream",
     "text": [
      "Epoch:[106/300]\n",
      "Train Loss:0.048485506300966597 | Acc:0.9824723247232472 | F1:0.9735368582279229\n"
     ]
    },
    {
     "name": "stderr",
     "output_type": "stream",
     "text": [
      "100%|███████████████████████████████████████████| 94/94 [00:24<00:00,  3.78it/s]\n"
     ]
    },
    {
     "name": "stdout",
     "output_type": "stream",
     "text": [
      "val Loss:0.2998706242966246 | Acc:0.9209996645420999 | F1:0.8853164752826433\n"
     ]
    },
    {
     "name": "stderr",
     "output_type": "stream",
     "text": [
      "100%|█████████████████████████████████████████| 373/373 [04:28<00:00,  1.39it/s]\n"
     ]
    },
    {
     "name": "stdout",
     "output_type": "stream",
     "text": [
      "Epoch:[107/300]\n",
      "Train Loss:0.04882719012646518 | Acc:0.9822626635357262 | F1:0.9730088663081938\n"
     ]
    },
    {
     "name": "stderr",
     "output_type": "stream",
     "text": [
      "100%|███████████████████████████████████████████| 94/94 [00:24<00:00,  3.81it/s]\n"
     ]
    },
    {
     "name": "stdout",
     "output_type": "stream",
     "text": [
      "val Loss:0.27152650548799384 | Acc:0.9218383092921838 | F1:0.8925918348568667\n"
     ]
    },
    {
     "name": "stderr",
     "output_type": "stream",
     "text": [
      "100%|█████████████████████████████████████████| 373/373 [04:27<00:00,  1.39it/s]\n"
     ]
    },
    {
     "name": "stdout",
     "output_type": "stream",
     "text": [
      "Epoch:[108/300]\n",
      "Train Loss:0.04698099634781635 | Acc:0.9838980207983898 | F1:0.9750701306050017\n"
     ]
    },
    {
     "name": "stderr",
     "output_type": "stream",
     "text": [
      "100%|███████████████████████████████████████████| 94/94 [00:24<00:00,  3.82it/s]\n"
     ]
    },
    {
     "name": "stdout",
     "output_type": "stream",
     "text": [
      "val Loss:0.29887608750977923 | Acc:0.9147936933914794 | F1:0.8887000336888846\n"
     ]
    },
    {
     "name": "stderr",
     "output_type": "stream",
     "text": [
      "100%|█████████████████████████████████████████| 373/373 [04:30<00:00,  1.38it/s]\n"
     ]
    },
    {
     "name": "stdout",
     "output_type": "stream",
     "text": [
      "Epoch:[109/300]\n",
      "Train Loss:0.046221807125439704 | Acc:0.9833109694733311 | F1:0.9742079693081763\n"
     ]
    },
    {
     "name": "stderr",
     "output_type": "stream",
     "text": [
      "100%|███████████████████████████████████████████| 94/94 [00:24<00:00,  3.82it/s]\n"
     ]
    },
    {
     "name": "stdout",
     "output_type": "stream",
     "text": [
      "val Loss:0.2885793095174333 | Acc:0.9199932908419993 | F1:0.8840139425992941\n"
     ]
    },
    {
     "name": "stderr",
     "output_type": "stream",
     "text": [
      "100%|█████████████████████████████████████████| 373/373 [04:29<00:00,  1.39it/s]\n"
     ]
    },
    {
     "name": "stdout",
     "output_type": "stream",
     "text": [
      "Epoch:[110/300]\n",
      "Train Loss:0.04506302670179218 | Acc:0.9847366655484737 | F1:0.9772819151080208\n"
     ]
    },
    {
     "name": "stderr",
     "output_type": "stream",
     "text": [
      "100%|███████████████████████████████████████████| 94/94 [00:24<00:00,  3.82it/s]\n"
     ]
    },
    {
     "name": "stdout",
     "output_type": "stream",
     "text": [
      "val Loss:0.28608380452017756 | Acc:0.9240187856424019 | F1:0.8963087506665903\n"
     ]
    },
    {
     "name": "stderr",
     "output_type": "stream",
     "text": [
      "100%|█████████████████████████████████████████| 373/373 [04:28<00:00,  1.39it/s]\n"
     ]
    },
    {
     "name": "stdout",
     "output_type": "stream",
     "text": [
      "Epoch:[111/300]\n",
      "Train Loss:0.04211464493277088 | Acc:0.9852817846360282 | F1:0.978130413091076\n"
     ]
    },
    {
     "name": "stderr",
     "output_type": "stream",
     "text": [
      "100%|███████████████████████████████████████████| 94/94 [00:24<00:00,  3.83it/s]\n"
     ]
    },
    {
     "name": "stdout",
     "output_type": "stream",
     "text": [
      "val Loss:0.2988876273350385 | Acc:0.9213351224421336 | F1:0.8886952986092819\n"
     ]
    },
    {
     "name": "stderr",
     "output_type": "stream",
     "text": [
      "100%|█████████████████████████████████████████| 373/373 [04:29<00:00,  1.38it/s]\n"
     ]
    },
    {
     "name": "stdout",
     "output_type": "stream",
     "text": [
      "Epoch:[112/300]\n",
      "Train Loss:0.04080501323736422 | Acc:0.9844012076484401 | F1:0.9752976351033931\n"
     ]
    },
    {
     "name": "stderr",
     "output_type": "stream",
     "text": [
      "100%|███████████████████████████████████████████| 94/94 [00:24<00:00,  3.78it/s]\n"
     ]
    },
    {
     "name": "stdout",
     "output_type": "stream",
     "text": [
      "val Loss:0.2910288080103828 | Acc:0.9233478698423347 | F1:0.8932074399364442\n"
     ]
    },
    {
     "name": "stderr",
     "output_type": "stream",
     "text": [
      "100%|█████████████████████████████████████████| 373/373 [04:26<00:00,  1.40it/s]\n"
     ]
    },
    {
     "name": "stdout",
     "output_type": "stream",
     "text": [
      "Epoch:[113/300]\n",
      "Train Loss:0.040166501306979616 | Acc:0.9866236162361623 | F1:0.9792515803443942\n"
     ]
    },
    {
     "name": "stderr",
     "output_type": "stream",
     "text": [
      "100%|███████████████████████████████████████████| 94/94 [00:24<00:00,  3.83it/s]\n"
     ]
    },
    {
     "name": "stdout",
     "output_type": "stream",
     "text": [
      "val Loss:0.2894350683036348 | Acc:0.9238510566923851 | F1:0.8901760939000789\n"
     ]
    },
    {
     "name": "stderr",
     "output_type": "stream",
     "text": [
      "100%|█████████████████████████████████████████| 373/373 [04:28<00:00,  1.39it/s]\n"
     ]
    },
    {
     "name": "stdout",
     "output_type": "stream",
     "text": [
      "Epoch:[114/300]\n",
      "Train Loss:0.039679454748900854 | Acc:0.9856172425360618 | F1:0.9779481050876914\n"
     ]
    },
    {
     "name": "stderr",
     "output_type": "stream",
     "text": [
      "100%|███████████████████████████████████████████| 94/94 [00:24<00:00,  3.80it/s]\n"
     ]
    },
    {
     "name": "stdout",
     "output_type": "stream",
     "text": [
      "val Loss:0.29787845825976406 | Acc:0.9218383092921838 | F1:0.8880190146892376\n"
     ]
    },
    {
     "name": "stderr",
     "output_type": "stream",
     "text": [
      "100%|█████████████████████████████████████████| 373/373 [04:30<00:00,  1.38it/s]\n"
     ]
    },
    {
     "name": "stdout",
     "output_type": "stream",
     "text": [
      "Epoch:[115/300]\n",
      "Train Loss:0.03969402330328018 | Acc:0.9858269037235827 | F1:0.9787115616128352\n"
     ]
    },
    {
     "name": "stderr",
     "output_type": "stream",
     "text": [
      "100%|███████████████████████████████████████████| 94/94 [00:24<00:00,  3.78it/s]\n"
     ]
    },
    {
     "name": "stdout",
     "output_type": "stream",
     "text": [
      "val Loss:0.2844970905977976 | Acc:0.9236833277423684 | F1:0.8945457530596956\n"
     ]
    },
    {
     "name": "stderr",
     "output_type": "stream",
     "text": [
      "100%|█████████████████████████████████████████| 373/373 [04:27<00:00,  1.39it/s]\n"
     ]
    },
    {
     "name": "stdout",
     "output_type": "stream",
     "text": [
      "Epoch:[116/300]\n",
      "Train Loss:0.041342662814198544 | Acc:0.984820530023482 | F1:0.9773475013737494\n"
     ]
    },
    {
     "name": "stderr",
     "output_type": "stream",
     "text": [
      "100%|███████████████████████████████████████████| 94/94 [00:24<00:00,  3.80it/s]\n"
     ]
    },
    {
     "name": "stdout",
     "output_type": "stream",
     "text": [
      "val Loss:0.29478824359092376 | Acc:0.9233478698423347 | F1:0.8925805104128332\n"
     ]
    },
    {
     "name": "stderr",
     "output_type": "stream",
     "text": [
      "100%|█████████████████████████████████████████| 373/373 [04:26<00:00,  1.40it/s]\n"
     ]
    },
    {
     "name": "stdout",
     "output_type": "stream",
     "text": [
      "Epoch:[117/300]\n",
      "Train Loss:0.037513208746440214 | Acc:0.9865816839986582 | F1:0.9795317187631388\n"
     ]
    },
    {
     "name": "stderr",
     "output_type": "stream",
     "text": [
      "100%|███████████████████████████████████████████| 94/94 [00:24<00:00,  3.78it/s]\n"
     ]
    },
    {
     "name": "stdout",
     "output_type": "stream",
     "text": [
      "val Loss:0.2865598775624182 | Acc:0.9235155987923516 | F1:0.8934236397879627\n"
     ]
    },
    {
     "name": "stderr",
     "output_type": "stream",
     "text": [
      "100%|█████████████████████████████████████████| 373/373 [04:29<00:00,  1.38it/s]\n"
     ]
    },
    {
     "name": "stdout",
     "output_type": "stream",
     "text": [
      "Epoch:[118/300]\n",
      "Train Loss:0.036958730502472115 | Acc:0.9870010063737001 | F1:0.9807867609798256\n"
     ]
    },
    {
     "name": "stderr",
     "output_type": "stream",
     "text": [
      "100%|███████████████████████████████████████████| 94/94 [00:24<00:00,  3.82it/s]\n"
     ]
    },
    {
     "name": "stdout",
     "output_type": "stream",
     "text": [
      "val Loss:0.28944815413811437 | Acc:0.924689701442469 | F1:0.8957678099903648\n"
     ]
    },
    {
     "name": "stderr",
     "output_type": "stream",
     "text": [
      "100%|█████████████████████████████████████████| 373/373 [04:27<00:00,  1.39it/s]\n"
     ]
    },
    {
     "name": "stdout",
     "output_type": "stream",
     "text": [
      "Epoch:[119/300]\n",
      "Train Loss:0.03712878213537415 | Acc:0.9869590741361959 | F1:0.9800883720759244\n"
     ]
    },
    {
     "name": "stderr",
     "output_type": "stream",
     "text": [
      "100%|███████████████████████████████████████████| 94/94 [00:24<00:00,  3.83it/s]\n"
     ]
    },
    {
     "name": "stdout",
     "output_type": "stream",
     "text": [
      "val Loss:0.2908163851194042 | Acc:0.9245219724924522 | F1:0.8937116296624318\n"
     ]
    },
    {
     "name": "stderr",
     "output_type": "stream",
     "text": [
      "100%|█████████████████████████████████████████| 373/373 [04:29<00:00,  1.38it/s]\n"
     ]
    },
    {
     "name": "stdout",
     "output_type": "stream",
     "text": [
      "Epoch:[120/300]\n",
      "Train Loss:0.03545579018807979 | Acc:0.9872945320362294 | F1:0.9810010783245892\n"
     ]
    },
    {
     "name": "stderr",
     "output_type": "stream",
     "text": [
      "100%|███████████████████████████████████████████| 94/94 [00:24<00:00,  3.80it/s]\n"
     ]
    },
    {
     "name": "stdout",
     "output_type": "stream",
     "text": [
      "val Loss:0.29662653092375846 | Acc:0.9235155987923516 | F1:0.8891237550793827\n"
     ]
    },
    {
     "name": "stderr",
     "output_type": "stream",
     "text": [
      "100%|█████████████████████████████████████████| 373/373 [04:28<00:00,  1.39it/s]\n"
     ]
    },
    {
     "name": "stdout",
     "output_type": "stream",
     "text": [
      "Epoch:[121/300]\n",
      "Train Loss:0.034913564500758526 | Acc:0.9881751090238176 | F1:0.9812938437647315\n"
     ]
    },
    {
     "name": "stderr",
     "output_type": "stream",
     "text": [
      "100%|███████████████████████████████████████████| 94/94 [00:24<00:00,  3.81it/s]\n"
     ]
    },
    {
     "name": "stdout",
     "output_type": "stream",
     "text": [
      "val Loss:0.28702373485485794 | Acc:0.926870177792687 | F1:0.8986061714581084\n"
     ]
    },
    {
     "name": "stderr",
     "output_type": "stream",
     "text": [
      "100%|█████████████████████████████████████████| 373/373 [04:27<00:00,  1.39it/s]\n"
     ]
    },
    {
     "name": "stdout",
     "output_type": "stream",
     "text": [
      "Epoch:[122/300]\n",
      "Train Loss:0.03433974423276742 | Acc:0.9881331767863133 | F1:0.9815577197353242\n"
     ]
    },
    {
     "name": "stderr",
     "output_type": "stream",
     "text": [
      "100%|███████████████████████████████████████████| 94/94 [00:24<00:00,  3.80it/s]\n"
     ]
    },
    {
     "name": "stdout",
     "output_type": "stream",
     "text": [
      "val Loss:0.3010742584016249 | Acc:0.9238510566923851 | F1:0.8972106246745453\n"
     ]
    },
    {
     "name": "stderr",
     "output_type": "stream",
     "text": [
      "100%|█████████████████████████████████████████| 373/373 [04:28<00:00,  1.39it/s]\n"
     ]
    },
    {
     "name": "stdout",
     "output_type": "stream",
     "text": [
      "Epoch:[123/300]\n",
      "Train Loss:0.03235885034465562 | Acc:0.988929889298893 | F1:0.9831691959236746\n"
     ]
    },
    {
     "name": "stderr",
     "output_type": "stream",
     "text": [
      "100%|███████████████████████████████████████████| 94/94 [00:24<00:00,  3.78it/s]\n"
     ]
    },
    {
     "name": "stdout",
     "output_type": "stream",
     "text": [
      "val Loss:0.29259647110313697 | Acc:0.9238510566923851 | F1:0.8960807032061894\n"
     ]
    },
    {
     "name": "stderr",
     "output_type": "stream",
     "text": [
      "100%|█████████████████████████████████████████| 373/373 [04:27<00:00,  1.39it/s]\n"
     ]
    },
    {
     "name": "stdout",
     "output_type": "stream",
     "text": [
      "Epoch:[124/300]\n",
      "Train Loss:0.03334295679682335 | Acc:0.9883847702113385 | F1:0.9827557567581844\n"
     ]
    },
    {
     "name": "stderr",
     "output_type": "stream",
     "text": [
      "100%|███████████████████████████████████████████| 94/94 [00:24<00:00,  3.84it/s]\n"
     ]
    },
    {
     "name": "stdout",
     "output_type": "stream",
     "text": [
      "val Loss:0.30726725159311985 | Acc:0.9203287487420329 | F1:0.882981108105465\n"
     ]
    },
    {
     "name": "stderr",
     "output_type": "stream",
     "text": [
      "100%|█████████████████████████████████████████| 373/373 [04:26<00:00,  1.40it/s]\n"
     ]
    },
    {
     "name": "stdout",
     "output_type": "stream",
     "text": [
      "Epoch:[125/300]\n",
      "Train Loss:0.03213897745847622 | Acc:0.9888040925863804 | F1:0.9831314870463052\n"
     ]
    },
    {
     "name": "stderr",
     "output_type": "stream",
     "text": [
      "100%|███████████████████████████████████████████| 94/94 [00:24<00:00,  3.79it/s]\n"
     ]
    },
    {
     "name": "stdout",
     "output_type": "stream",
     "text": [
      "val Loss:0.3028862655317615 | Acc:0.9220060382422006 | F1:0.8938529537138041\n"
     ]
    },
    {
     "name": "stderr",
     "output_type": "stream",
     "text": [
      "100%|█████████████████████████████████████████| 373/373 [04:28<00:00,  1.39it/s]\n"
     ]
    },
    {
     "name": "stdout",
     "output_type": "stream",
     "text": [
      "Epoch:[126/300]\n",
      "Train Loss:0.029651534678311366 | Acc:0.9899362629989936 | F1:0.9842496843805257\n"
     ]
    },
    {
     "name": "stderr",
     "output_type": "stream",
     "text": [
      "100%|███████████████████████████████████████████| 94/94 [00:24<00:00,  3.80it/s]\n"
     ]
    },
    {
     "name": "stdout",
     "output_type": "stream",
     "text": [
      "val Loss:0.3270395030904189 | Acc:0.9199932908419993 | F1:0.8920000032505916\n"
     ]
    },
    {
     "name": "stderr",
     "output_type": "stream",
     "text": [
      "100%|█████████████████████████████████████████| 373/373 [04:28<00:00,  1.39it/s]\n"
     ]
    },
    {
     "name": "stdout",
     "output_type": "stream",
     "text": [
      "Epoch:[127/300]\n",
      "Train Loss:0.028974241370891954 | Acc:0.990229788661523 | F1:0.9851763186749967\n"
     ]
    },
    {
     "name": "stderr",
     "output_type": "stream",
     "text": [
      "100%|███████████████████████████████████████████| 94/94 [00:24<00:00,  3.82it/s]\n"
     ]
    },
    {
     "name": "stdout",
     "output_type": "stream",
     "text": [
      "val Loss:0.30273113813754565 | Acc:0.9223414961422342 | F1:0.8898330425333227\n"
     ]
    },
    {
     "name": "stderr",
     "output_type": "stream",
     "text": [
      "100%|█████████████████████████████████████████| 373/373 [04:27<00:00,  1.39it/s]\n"
     ]
    },
    {
     "name": "stdout",
     "output_type": "stream",
     "text": [
      "Epoch:[128/300]\n",
      "Train Loss:0.03060581157448227 | Acc:0.989349211673935 | F1:0.9836241431965351\n"
     ]
    },
    {
     "name": "stderr",
     "output_type": "stream",
     "text": [
      "100%|███████████████████████████████████████████| 94/94 [00:24<00:00,  3.81it/s]\n"
     ]
    },
    {
     "name": "stdout",
     "output_type": "stream",
     "text": [
      "val Loss:0.30487942392828493 | Acc:0.924689701442469 | F1:0.8962264062451858\n"
     ]
    },
    {
     "name": "stderr",
     "output_type": "stream",
     "text": [
      "100%|█████████████████████████████████████████| 373/373 [04:28<00:00,  1.39it/s]\n"
     ]
    },
    {
     "name": "stdout",
     "output_type": "stream",
     "text": [
      "Epoch:[129/300]\n",
      "Train Loss:0.028487489122306288 | Acc:0.990229788661523 | F1:0.984790081964281\n"
     ]
    },
    {
     "name": "stderr",
     "output_type": "stream",
     "text": [
      "100%|███████████████████████████████████████████| 94/94 [00:24<00:00,  3.78it/s]\n"
     ]
    },
    {
     "name": "stdout",
     "output_type": "stream",
     "text": [
      "val Loss:0.31099980253345405 | Acc:0.9226769540422677 | F1:0.8924942245330675\n"
     ]
    },
    {
     "name": "stderr",
     "output_type": "stream",
     "text": [
      "100%|█████████████████████████████████████████| 373/373 [04:28<00:00,  1.39it/s]\n"
     ]
    },
    {
     "name": "stdout",
     "output_type": "stream",
     "text": [
      "Epoch:[130/300]\n",
      "Train Loss:0.031621654405321394 | Acc:0.9895588728614559 | F1:0.984191601056169\n"
     ]
    },
    {
     "name": "stderr",
     "output_type": "stream",
     "text": [
      "100%|███████████████████████████████████████████| 94/94 [00:24<00:00,  3.80it/s]\n"
     ]
    },
    {
     "name": "stdout",
     "output_type": "stream",
     "text": [
      "val Loss:0.3127833310070584 | Acc:0.9251928882925193 | F1:0.8937819164108793\n"
     ]
    },
    {
     "name": "stderr",
     "output_type": "stream",
     "text": [
      "100%|█████████████████████████████████████████| 373/373 [04:28<00:00,  1.39it/s]\n"
     ]
    },
    {
     "name": "stdout",
     "output_type": "stream",
     "text": [
      "Epoch:[131/300]\n",
      "Train Loss:0.027871003872454066 | Acc:0.9906491110365649 | F1:0.9860269495447316\n"
     ]
    },
    {
     "name": "stderr",
     "output_type": "stream",
     "text": [
      "100%|███████████████████████████████████████████| 94/94 [00:24<00:00,  3.81it/s]\n"
     ]
    },
    {
     "name": "stdout",
     "output_type": "stream",
     "text": [
      "val Loss:0.3121784353556586 | Acc:0.9238510566923851 | F1:0.8947011799234076\n"
     ]
    },
    {
     "name": "stderr",
     "output_type": "stream",
     "text": [
      "100%|█████████████████████████████████████████| 373/373 [04:29<00:00,  1.38it/s]\n"
     ]
    },
    {
     "name": "stdout",
     "output_type": "stream",
     "text": [
      "Epoch:[132/300]\n",
      "Train Loss:0.0293784615268096 | Acc:0.9898104662864811 | F1:0.9848221440966889\n"
     ]
    },
    {
     "name": "stderr",
     "output_type": "stream",
     "text": [
      "100%|███████████████████████████████████████████| 94/94 [00:24<00:00,  3.78it/s]\n"
     ]
    },
    {
     "name": "stdout",
     "output_type": "stream",
     "text": [
      "val Loss:0.3089549273468994 | Acc:0.9255283461925529 | F1:0.896344050452309\n"
     ]
    },
    {
     "name": "stderr",
     "output_type": "stream",
     "text": [
      "100%|█████████████████████████████████████████| 373/373 [04:28<00:00,  1.39it/s]\n"
     ]
    },
    {
     "name": "stdout",
     "output_type": "stream",
     "text": [
      "Epoch:[133/300]\n",
      "Train Loss:0.025790431905076714 | Acc:0.9914458235491446 | F1:0.9869269016067683\n"
     ]
    },
    {
     "name": "stderr",
     "output_type": "stream",
     "text": [
      "100%|███████████████████████████████████████████| 94/94 [00:24<00:00,  3.82it/s]\n"
     ]
    },
    {
     "name": "stdout",
     "output_type": "stream",
     "text": [
      "val Loss:0.3110639896799605 | Acc:0.9240187856424019 | F1:0.8918430127889238\n"
     ]
    },
    {
     "name": "stderr",
     "output_type": "stream",
     "text": [
      "100%|█████████████████████████████████████████| 373/373 [04:28<00:00,  1.39it/s]\n"
     ]
    },
    {
     "name": "stdout",
     "output_type": "stream",
     "text": [
      "Epoch:[134/300]\n",
      "Train Loss:0.026501391414166776 | Acc:0.9909007044615901 | F1:0.9860978867585543\n"
     ]
    },
    {
     "name": "stderr",
     "output_type": "stream",
     "text": [
      "100%|███████████████████████████████████████████| 94/94 [00:24<00:00,  3.81it/s]\n"
     ]
    },
    {
     "name": "stdout",
     "output_type": "stream",
     "text": [
      "val Loss:0.3389384017492457 | Acc:0.9218383092921838 | F1:0.8943828580996197\n"
     ]
    },
    {
     "name": "stderr",
     "output_type": "stream",
     "text": [
      "100%|█████████████████████████████████████████| 373/373 [04:29<00:00,  1.38it/s]\n"
     ]
    },
    {
     "name": "stdout",
     "output_type": "stream",
     "text": [
      "Epoch:[135/300]\n",
      "Train Loss:0.02415879550572711 | Acc:0.9914458235491446 | F1:0.9866008799480193\n"
     ]
    },
    {
     "name": "stderr",
     "output_type": "stream",
     "text": [
      "100%|███████████████████████████████████████████| 94/94 [00:24<00:00,  3.81it/s]\n"
     ]
    },
    {
     "name": "stdout",
     "output_type": "stream",
     "text": [
      "val Loss:0.31515159225466244 | Acc:0.9245219724924522 | F1:0.8979087227628186\n"
     ]
    },
    {
     "name": "stderr",
     "output_type": "stream",
     "text": [
      "100%|█████████████████████████████████████████| 373/373 [04:26<00:00,  1.40it/s]\n"
     ]
    },
    {
     "name": "stdout",
     "output_type": "stream",
     "text": [
      "Epoch:[136/300]\n",
      "Train Loss:0.024909941928198138 | Acc:0.9908587722240859 | F1:0.9859687048892012\n"
     ]
    },
    {
     "name": "stderr",
     "output_type": "stream",
     "text": [
      "100%|███████████████████████████████████████████| 94/94 [00:24<00:00,  3.84it/s]\n"
     ]
    },
    {
     "name": "stdout",
     "output_type": "stream",
     "text": [
      "val Loss:0.3359115374376401 | Acc:0.9208319355920832 | F1:0.8945341759445531\n"
     ]
    },
    {
     "name": "stderr",
     "output_type": "stream",
     "text": [
      "100%|█████████████████████████████████████████| 373/373 [04:28<00:00,  1.39it/s]\n"
     ]
    },
    {
     "name": "stdout",
     "output_type": "stream",
     "text": [
      "Epoch:[137/300]\n",
      "Train Loss:0.024690570431601798 | Acc:0.9914038913116404 | F1:0.9877659634699413\n"
     ]
    },
    {
     "name": "stderr",
     "output_type": "stream",
     "text": [
      "100%|███████████████████████████████████████████| 94/94 [00:24<00:00,  3.78it/s]\n"
     ]
    },
    {
     "name": "stdout",
     "output_type": "stream",
     "text": [
      "val Loss:0.3345542959504939 | Acc:0.9215028513921503 | F1:0.8947220905985276\n"
     ]
    },
    {
     "name": "stderr",
     "output_type": "stream",
     "text": [
      "100%|█████████████████████████████████████████| 373/373 [04:30<00:00,  1.38it/s]\n"
     ]
    },
    {
     "name": "stdout",
     "output_type": "stream",
     "text": [
      "Epoch:[138/300]\n",
      "Train Loss:0.026641747450936525 | Acc:0.9905233143240524 | F1:0.9860638247915684\n"
     ]
    },
    {
     "name": "stderr",
     "output_type": "stream",
     "text": [
      "100%|███████████████████████████████████████████| 94/94 [00:24<00:00,  3.82it/s]\n"
     ]
    },
    {
     "name": "stdout",
     "output_type": "stream",
     "text": [
      "val Loss:0.32013108943180074 | Acc:0.9251928882925193 | F1:0.8967908148745651\n"
     ]
    },
    {
     "name": "stderr",
     "output_type": "stream",
     "text": [
      "100%|█████████████████████████████████████████| 373/373 [04:27<00:00,  1.40it/s]\n"
     ]
    },
    {
     "name": "stdout",
     "output_type": "stream",
     "text": [
      "Epoch:[139/300]\n",
      "Train Loss:0.02430482529771084 | Acc:0.9916135524991614 | F1:0.9878450005905963\n"
     ]
    },
    {
     "name": "stderr",
     "output_type": "stream",
     "text": [
      "100%|███████████████████████████████████████████| 94/94 [00:24<00:00,  3.82it/s]\n"
     ]
    },
    {
     "name": "stdout",
     "output_type": "stream",
     "text": [
      "val Loss:0.32849922688127736 | Acc:0.924689701442469 | F1:0.8972594920564022\n"
     ]
    },
    {
     "name": "stderr",
     "output_type": "stream",
     "text": [
      "100%|█████████████████████████████████████████| 373/373 [04:28<00:00,  1.39it/s]\n"
     ]
    },
    {
     "name": "stdout",
     "output_type": "stream",
     "text": [
      "Epoch:[140/300]\n",
      "Train Loss:0.02223431834990408 | Acc:0.9927037906742704 | F1:0.9894420852047159\n"
     ]
    },
    {
     "name": "stderr",
     "output_type": "stream",
     "text": [
      "100%|███████████████████████████████████████████| 94/94 [00:24<00:00,  3.76it/s]\n"
     ]
    },
    {
     "name": "stdout",
     "output_type": "stream",
     "text": [
      "val Loss:0.3249278635430034 | Acc:0.9241865145924186 | F1:0.8965378925282488\n"
     ]
    },
    {
     "name": "stderr",
     "output_type": "stream",
     "text": [
      "100%|█████████████████████████████████████████| 373/373 [04:28<00:00,  1.39it/s]\n"
     ]
    },
    {
     "name": "stdout",
     "output_type": "stream",
     "text": [
      "Epoch:[141/300]\n",
      "Train Loss:0.024435544248416655 | Acc:0.9912361623616236 | F1:0.9869417661506041\n"
     ]
    },
    {
     "name": "stderr",
     "output_type": "stream",
     "text": [
      "100%|███████████████████████████████████████████| 94/94 [00:24<00:00,  3.82it/s]\n"
     ]
    },
    {
     "name": "stdout",
     "output_type": "stream",
     "text": [
      "val Loss:0.3214006368693337 | Acc:0.9235155987923516 | F1:0.8954446448296641\n"
     ]
    },
    {
     "name": "stderr",
     "output_type": "stream",
     "text": [
      "100%|█████████████████████████████████████████| 373/373 [04:27<00:00,  1.39it/s]\n"
     ]
    },
    {
     "name": "stdout",
     "output_type": "stream",
     "text": [
      "Epoch:[142/300]\n",
      "Train Loss:0.022357092132427595 | Acc:0.991739349211674 | F1:0.9872648327398477\n"
     ]
    },
    {
     "name": "stderr",
     "output_type": "stream",
     "text": [
      "100%|███████████████████████████████████████████| 94/94 [00:24<00:00,  3.80it/s]\n"
     ]
    },
    {
     "name": "stdout",
     "output_type": "stream",
     "text": [
      "val Loss:0.3326311850949531 | Acc:0.9236833277423684 | F1:0.8891078869135933\n"
     ]
    },
    {
     "name": "stderr",
     "output_type": "stream",
     "text": [
      "100%|█████████████████████████████████████████| 373/373 [04:28<00:00,  1.39it/s]\n"
     ]
    },
    {
     "name": "stdout",
     "output_type": "stream",
     "text": [
      "Epoch:[143/300]\n",
      "Train Loss:0.023387990599196357 | Acc:0.9916974169741697 | F1:0.9873566480904279\n"
     ]
    },
    {
     "name": "stderr",
     "output_type": "stream",
     "text": [
      "100%|███████████████████████████████████████████| 94/94 [00:24<00:00,  3.78it/s]\n"
     ]
    },
    {
     "name": "stdout",
     "output_type": "stream",
     "text": [
      "val Loss:0.33032391191205884 | Acc:0.9240187856424019 | F1:0.8940195271242756\n"
     ]
    },
    {
     "name": "stderr",
     "output_type": "stream",
     "text": [
      "100%|█████████████████████████████████████████| 373/373 [04:28<00:00,  1.39it/s]\n"
     ]
    },
    {
     "name": "stdout",
     "output_type": "stream",
     "text": [
      "Epoch:[144/300]\n",
      "Train Loss:0.023341007656906724 | Acc:0.9922425360617243 | F1:0.9885825852580161\n"
     ]
    },
    {
     "name": "stderr",
     "output_type": "stream",
     "text": [
      "100%|███████████████████████████████████████████| 94/94 [00:24<00:00,  3.81it/s]\n"
     ]
    },
    {
     "name": "stdout",
     "output_type": "stream",
     "text": [
      "val Loss:0.33203581003900223 | Acc:0.922509225092251 | F1:0.8897413788785231\n"
     ]
    },
    {
     "name": "stderr",
     "output_type": "stream",
     "text": [
      "100%|█████████████████████████████████████████| 373/373 [04:27<00:00,  1.40it/s]\n"
     ]
    },
    {
     "name": "stdout",
     "output_type": "stream",
     "text": [
      "Epoch:[145/300]\n",
      "Train Loss:0.02158341903323217 | Acc:0.9932069775243207 | F1:0.990058027101109\n"
     ]
    },
    {
     "name": "stderr",
     "output_type": "stream",
     "text": [
      "100%|███████████████████████████████████████████| 94/94 [00:24<00:00,  3.81it/s]\n"
     ]
    },
    {
     "name": "stdout",
     "output_type": "stream",
     "text": [
      "val Loss:0.3351346425023536 | Acc:0.9250251593425025 | F1:0.892391878184956\n"
     ]
    },
    {
     "name": "stderr",
     "output_type": "stream",
     "text": [
      "100%|█████████████████████████████████████████| 373/373 [04:30<00:00,  1.38it/s]\n"
     ]
    },
    {
     "name": "stdout",
     "output_type": "stream",
     "text": [
      "Epoch:[146/300]\n",
      "Train Loss:0.02046866839359827 | Acc:0.992829587386783 | F1:0.989559811773284\n"
     ]
    },
    {
     "name": "stderr",
     "output_type": "stream",
     "text": [
      "100%|███████████████████████████████████████████| 94/94 [00:24<00:00,  3.82it/s]\n"
     ]
    },
    {
     "name": "stdout",
     "output_type": "stream",
     "text": [
      "val Loss:0.34755897987024725 | Acc:0.9211673934921167 | F1:0.8860399127033372\n"
     ]
    },
    {
     "name": "stderr",
     "output_type": "stream",
     "text": [
      "100%|█████████████████████████████████████████| 373/373 [04:28<00:00,  1.39it/s]\n"
     ]
    },
    {
     "name": "stdout",
     "output_type": "stream",
     "text": [
      "Epoch:[147/300]\n",
      "Train Loss:0.021292712710640326 | Acc:0.992829587386783 | F1:0.9895623946765806\n"
     ]
    },
    {
     "name": "stderr",
     "output_type": "stream",
     "text": [
      "100%|███████████████████████████████████████████| 94/94 [00:24<00:00,  3.82it/s]\n"
     ]
    },
    {
     "name": "stdout",
     "output_type": "stream",
     "text": [
      "val Loss:0.3636039779759745 | Acc:0.9188191881918819 | F1:0.8786826973231122\n"
     ]
    },
    {
     "name": "stderr",
     "output_type": "stream",
     "text": [
      "100%|█████████████████████████████████████████| 373/373 [04:27<00:00,  1.39it/s]\n"
     ]
    },
    {
     "name": "stdout",
     "output_type": "stream",
     "text": [
      "Epoch:[148/300]\n",
      "Train Loss:0.021470709866008394 | Acc:0.99350050318685 | F1:0.9906851545291413\n"
     ]
    },
    {
     "name": "stderr",
     "output_type": "stream",
     "text": [
      "100%|███████████████████████████████████████████| 94/94 [00:24<00:00,  3.82it/s]\n"
     ]
    },
    {
     "name": "stdout",
     "output_type": "stream",
     "text": [
      "val Loss:0.33874945852315663 | Acc:0.9218383092921838 | F1:0.8920865956344037\n"
     ]
    },
    {
     "name": "stderr",
     "output_type": "stream",
     "text": [
      "100%|█████████████████████████████████████████| 373/373 [04:29<00:00,  1.38it/s]\n"
     ]
    },
    {
     "name": "stdout",
     "output_type": "stream",
     "text": [
      "Epoch:[149/300]\n",
      "Train Loss:0.02128795766624997 | Acc:0.9924941294867494 | F1:0.9886036793370023\n"
     ]
    },
    {
     "name": "stderr",
     "output_type": "stream",
     "text": [
      "100%|███████████████████████████████████████████| 94/94 [00:24<00:00,  3.82it/s]\n"
     ]
    },
    {
     "name": "stdout",
     "output_type": "stream",
     "text": [
      "val Loss:0.33407106992032715 | Acc:0.9235155987923516 | F1:0.8945564555396791\n"
     ]
    },
    {
     "name": "stderr",
     "output_type": "stream",
     "text": [
      "100%|█████████████████████████████████████████| 373/373 [04:27<00:00,  1.39it/s]\n"
     ]
    },
    {
     "name": "stdout",
     "output_type": "stream",
     "text": [
      "Epoch:[150/300]\n",
      "Train Loss:0.02130704087413615 | Acc:0.9925779939617578 | F1:0.9892983876919391\n"
     ]
    },
    {
     "name": "stderr",
     "output_type": "stream",
     "text": [
      "100%|███████████████████████████████████████████| 94/94 [00:24<00:00,  3.82it/s]\n"
     ]
    },
    {
     "name": "stdout",
     "output_type": "stream",
     "text": [
      "val Loss:0.3637615659855886 | Acc:0.9211673934921167 | F1:0.8938258339889169\n"
     ]
    },
    {
     "name": "stderr",
     "output_type": "stream",
     "text": [
      "100%|█████████████████████████████████████████| 373/373 [04:28<00:00,  1.39it/s]\n"
     ]
    },
    {
     "name": "stdout",
     "output_type": "stream",
     "text": [
      "Epoch:[151/300]\n",
      "Train Loss:0.020070555110339228 | Acc:0.9931650452868165 | F1:0.9898473209482116\n"
     ]
    },
    {
     "name": "stderr",
     "output_type": "stream",
     "text": [
      "100%|███████████████████████████████████████████| 94/94 [00:24<00:00,  3.82it/s]\n"
     ]
    },
    {
     "name": "stdout",
     "output_type": "stream",
     "text": [
      "val Loss:0.34033414781700005 | Acc:0.9248574303924857 | F1:0.8977481818037477\n"
     ]
    },
    {
     "name": "stderr",
     "output_type": "stream",
     "text": [
      "100%|█████████████████████████████████████████| 373/373 [04:29<00:00,  1.38it/s]\n"
     ]
    },
    {
     "name": "stdout",
     "output_type": "stream",
     "text": [
      "Epoch:[152/300]\n",
      "Train Loss:0.02014234306522561 | Acc:0.993290841999329 | F1:0.9902196043900371\n"
     ]
    },
    {
     "name": "stderr",
     "output_type": "stream",
     "text": [
      "100%|███████████████████████████████████████████| 94/94 [00:24<00:00,  3.79it/s]\n"
     ]
    },
    {
     "name": "stdout",
     "output_type": "stream",
     "text": [
      "val Loss:0.34459068813250004 | Acc:0.9215028513921503 | F1:0.8891509510464853\n"
     ]
    },
    {
     "name": "stderr",
     "output_type": "stream",
     "text": [
      "100%|█████████████████████████████████████████| 373/373 [04:28<00:00,  1.39it/s]\n"
     ]
    },
    {
     "name": "stdout",
     "output_type": "stream",
     "text": [
      "Epoch:[153/300]\n",
      "Train Loss:0.019487941583274236 | Acc:0.99350050318685 | F1:0.9906422915328037\n"
     ]
    },
    {
     "name": "stderr",
     "output_type": "stream",
     "text": [
      "100%|███████████████████████████████████████████| 94/94 [00:24<00:00,  3.78it/s]\n"
     ]
    },
    {
     "name": "stdout",
     "output_type": "stream",
     "text": [
      "val Loss:0.33206257388337507 | Acc:0.923180140892318 | F1:0.8927708625123534\n"
     ]
    },
    {
     "name": "stderr",
     "output_type": "stream",
     "text": [
      "100%|█████████████████████████████████████████| 373/373 [04:26<00:00,  1.40it/s]\n"
     ]
    },
    {
     "name": "stdout",
     "output_type": "stream",
     "text": [
      "Epoch:[154/300]\n",
      "Train Loss:0.01897360456937781 | Acc:0.9936262998993626 | F1:0.9908608522399629\n"
     ]
    },
    {
     "name": "stderr",
     "output_type": "stream",
     "text": [
      "100%|███████████████████████████████████████████| 94/94 [00:24<00:00,  3.78it/s]\n"
     ]
    },
    {
     "name": "stdout",
     "output_type": "stream",
     "text": [
      "val Loss:0.3393142772659613 | Acc:0.923180140892318 | F1:0.8924702193087759\n"
     ]
    },
    {
     "name": "stderr",
     "output_type": "stream",
     "text": [
      "100%|█████████████████████████████████████████| 373/373 [04:29<00:00,  1.39it/s]\n"
     ]
    },
    {
     "name": "stdout",
     "output_type": "stream",
     "text": [
      "Epoch:[155/300]\n",
      "Train Loss:0.018530080019327988 | Acc:0.9938778933243878 | F1:0.9907656644155269\n"
     ]
    },
    {
     "name": "stderr",
     "output_type": "stream",
     "text": [
      "100%|███████████████████████████████████████████| 94/94 [00:24<00:00,  3.81it/s]\n"
     ]
    },
    {
     "name": "stdout",
     "output_type": "stream",
     "text": [
      "val Loss:0.34083550177204947 | Acc:0.9248574303924857 | F1:0.8929160214042554\n"
     ]
    },
    {
     "name": "stderr",
     "output_type": "stream",
     "text": [
      "100%|█████████████████████████████████████████| 373/373 [04:29<00:00,  1.38it/s]\n"
     ]
    },
    {
     "name": "stdout",
     "output_type": "stream",
     "text": [
      "Epoch:[156/300]\n",
      "Train Loss:0.0159718437568328 | Acc:0.994590741361959 | F1:0.9918860050725276\n"
     ]
    },
    {
     "name": "stderr",
     "output_type": "stream",
     "text": [
      "100%|███████████████████████████████████████████| 94/94 [00:24<00:00,  3.81it/s]\n"
     ]
    },
    {
     "name": "stdout",
     "output_type": "stream",
     "text": [
      "val Loss:0.34886770793000915 | Acc:0.9251928882925193 | F1:0.8965884346327219\n"
     ]
    },
    {
     "name": "stderr",
     "output_type": "stream",
     "text": [
      "100%|█████████████████████████████████████████| 373/373 [04:28<00:00,  1.39it/s]\n"
     ]
    },
    {
     "name": "stdout",
     "output_type": "stream",
     "text": [
      "Epoch:[157/300]\n",
      "Train Loss:0.01723832013482257 | Acc:0.9938778933243878 | F1:0.9911567834759877\n"
     ]
    },
    {
     "name": "stderr",
     "output_type": "stream",
     "text": [
      "100%|███████████████████████████████████████████| 94/94 [00:24<00:00,  3.80it/s]\n"
     ]
    },
    {
     "name": "stdout",
     "output_type": "stream",
     "text": [
      "val Loss:0.34451134669969685 | Acc:0.9228446829922845 | F1:0.8935356863049833\n"
     ]
    },
    {
     "name": "stderr",
     "output_type": "stream",
     "text": [
      "100%|█████████████████████████████████████████| 373/373 [04:29<00:00,  1.39it/s]\n"
     ]
    },
    {
     "name": "stdout",
     "output_type": "stream",
     "text": [
      "Epoch:[158/300]\n",
      "Train Loss:0.0157649444231213 | Acc:0.9947584703119758 | F1:0.9918670146949001\n"
     ]
    },
    {
     "name": "stderr",
     "output_type": "stream",
     "text": [
      "100%|███████████████████████████████████████████| 94/94 [00:24<00:00,  3.80it/s]\n"
     ]
    },
    {
     "name": "stdout",
     "output_type": "stream",
     "text": [
      "val Loss:0.34860394333432376 | Acc:0.9221737671922173 | F1:0.8922477075425738\n"
     ]
    },
    {
     "name": "stderr",
     "output_type": "stream",
     "text": [
      "100%|█████████████████████████████████████████| 373/373 [04:27<00:00,  1.39it/s]\n"
     ]
    },
    {
     "name": "stdout",
     "output_type": "stream",
     "text": [
      "Epoch:[159/300]\n",
      "Train Loss:0.01919513347464014 | Acc:0.993710164374371 | F1:0.9910431544428281\n"
     ]
    },
    {
     "name": "stderr",
     "output_type": "stream",
     "text": [
      "100%|███████████████████████████████████████████| 94/94 [00:24<00:00,  3.80it/s]\n"
     ]
    },
    {
     "name": "stdout",
     "output_type": "stream",
     "text": [
      "val Loss:0.379498229481571 | Acc:0.9198255618919825 | F1:0.8781839163304779\n"
     ]
    },
    {
     "name": "stderr",
     "output_type": "stream",
     "text": [
      "100%|█████████████████████████████████████████| 373/373 [04:28<00:00,  1.39it/s]\n"
     ]
    },
    {
     "name": "stdout",
     "output_type": "stream",
     "text": [
      "Epoch:[160/300]\n",
      "Train Loss:0.018615940415151404 | Acc:0.9937940288493794 | F1:0.9910479076079388\n"
     ]
    },
    {
     "name": "stderr",
     "output_type": "stream",
     "text": [
      "100%|███████████████████████████████████████████| 94/94 [00:24<00:00,  3.77it/s]\n"
     ]
    },
    {
     "name": "stdout",
     "output_type": "stream",
     "text": [
      "val Loss:0.3476344596518654 | Acc:0.9230124119423012 | F1:0.8921018467680044\n"
     ]
    },
    {
     "name": "stderr",
     "output_type": "stream",
     "text": [
      "100%|█████████████████████████████████████████| 373/373 [04:28<00:00,  1.39it/s]\n"
     ]
    },
    {
     "name": "stdout",
     "output_type": "stream",
     "text": [
      "Epoch:[161/300]\n",
      "Train Loss:0.0158991428208967 | Acc:0.9947165380744717 | F1:0.9922249625429063\n"
     ]
    },
    {
     "name": "stderr",
     "output_type": "stream",
     "text": [
      "100%|███████████████████████████████████████████| 94/94 [00:24<00:00,  3.78it/s]\n"
     ]
    },
    {
     "name": "stdout",
     "output_type": "stream",
     "text": [
      "val Loss:0.3549972400461323 | Acc:0.9233478698423347 | F1:0.8914435745259895\n"
     ]
    },
    {
     "name": "stderr",
     "output_type": "stream",
     "text": [
      "100%|█████████████████████████████████████████| 373/373 [04:27<00:00,  1.39it/s]\n"
     ]
    },
    {
     "name": "stdout",
     "output_type": "stream",
     "text": [
      "Epoch:[162/300]\n",
      "Train Loss:0.01720018889842488 | Acc:0.993710164374371 | F1:0.9910581912122792\n"
     ]
    },
    {
     "name": "stderr",
     "output_type": "stream",
     "text": [
      "100%|███████████████████████████████████████████| 94/94 [00:24<00:00,  3.86it/s]\n"
     ]
    },
    {
     "name": "stdout",
     "output_type": "stream",
     "text": [
      "val Loss:0.35222832940103965 | Acc:0.9240187856424019 | F1:0.8970613888536553\n"
     ]
    },
    {
     "name": "stderr",
     "output_type": "stream",
     "text": [
      "100%|█████████████████████████████████████████| 373/373 [04:28<00:00,  1.39it/s]\n"
     ]
    },
    {
     "name": "stdout",
     "output_type": "stream",
     "text": [
      "Epoch:[163/300]\n",
      "Train Loss:0.01782809434216801 | Acc:0.9942552834619255 | F1:0.9914968221290209\n"
     ]
    },
    {
     "name": "stderr",
     "output_type": "stream",
     "text": [
      "100%|███████████████████████████████████████████| 94/94 [00:24<00:00,  3.78it/s]\n"
     ]
    },
    {
     "name": "stdout",
     "output_type": "stream",
     "text": [
      "val Loss:0.34447242212053003 | Acc:0.925360617242536 | F1:0.8960831754576241\n"
     ]
    },
    {
     "name": "stderr",
     "output_type": "stream",
     "text": [
      "100%|█████████████████████████████████████████| 373/373 [04:28<00:00,  1.39it/s]\n"
     ]
    },
    {
     "name": "stdout",
     "output_type": "stream",
     "text": [
      "Epoch:[164/300]\n",
      "Train Loss:0.015421764692057303 | Acc:0.9947584703119758 | F1:0.9926489793779248\n"
     ]
    },
    {
     "name": "stderr",
     "output_type": "stream",
     "text": [
      "100%|███████████████████████████████████████████| 94/94 [00:24<00:00,  3.81it/s]\n"
     ]
    },
    {
     "name": "stdout",
     "output_type": "stream",
     "text": [
      "val Loss:0.3658772051681635 | Acc:0.9240187856424019 | F1:0.8944169442785912\n"
     ]
    },
    {
     "name": "stderr",
     "output_type": "stream",
     "text": [
      "100%|█████████████████████████████████████████| 373/373 [04:27<00:00,  1.40it/s]\n"
     ]
    },
    {
     "name": "stdout",
     "output_type": "stream",
     "text": [
      "Epoch:[165/300]\n",
      "Train Loss:0.016690259974316158 | Acc:0.9947165380744717 | F1:0.9920391834372811\n"
     ]
    },
    {
     "name": "stderr",
     "output_type": "stream",
     "text": [
      "100%|███████████████████████████████████████████| 94/94 [00:24<00:00,  3.83it/s]\n"
     ]
    },
    {
     "name": "stdout",
     "output_type": "stream",
     "text": [
      "val Loss:0.3441085657524273 | Acc:0.9250251593425025 | F1:0.8960380317552123\n"
     ]
    },
    {
     "name": "stderr",
     "output_type": "stream",
     "text": [
      "100%|█████████████████████████████████████████| 373/373 [04:29<00:00,  1.39it/s]\n"
     ]
    },
    {
     "name": "stdout",
     "output_type": "stream",
     "text": [
      "Epoch:[166/300]\n",
      "Train Loss:0.01639814777702783 | Acc:0.9944230124119423 | F1:0.9923617247453731\n"
     ]
    },
    {
     "name": "stderr",
     "output_type": "stream",
     "text": [
      "100%|███████████████████████████████████████████| 94/94 [00:24<00:00,  3.77it/s]\n"
     ]
    },
    {
     "name": "stdout",
     "output_type": "stream",
     "text": [
      "val Loss:0.35420120448855147 | Acc:0.9241865145924186 | F1:0.8972854386340432\n"
     ]
    },
    {
     "name": "stderr",
     "output_type": "stream",
     "text": [
      "100%|█████████████████████████████████████████| 373/373 [04:28<00:00,  1.39it/s]\n"
     ]
    },
    {
     "name": "stdout",
     "output_type": "stream",
     "text": [
      "Epoch:[167/300]\n",
      "Train Loss:0.015901939394199302 | Acc:0.9946326735994633 | F1:0.9921437462865603\n"
     ]
    },
    {
     "name": "stderr",
     "output_type": "stream",
     "text": [
      "100%|███████████████████████████████████████████| 94/94 [00:24<00:00,  3.82it/s]\n"
     ]
    },
    {
     "name": "stdout",
     "output_type": "stream",
     "text": [
      "val Loss:0.35144104593760767 | Acc:0.9250251593425025 | F1:0.8953465082101311\n"
     ]
    },
    {
     "name": "stderr",
     "output_type": "stream",
     "text": [
      "100%|█████████████████████████████████████████| 373/373 [04:26<00:00,  1.40it/s]\n"
     ]
    },
    {
     "name": "stdout",
     "output_type": "stream",
     "text": [
      "Epoch:[168/300]\n",
      "Train Loss:0.016753718542501815 | Acc:0.99480040254948 | F1:0.9926406038027406\n"
     ]
    },
    {
     "name": "stderr",
     "output_type": "stream",
     "text": [
      "100%|███████████████████████████████████████████| 94/94 [00:24<00:00,  3.81it/s]\n"
     ]
    },
    {
     "name": "stdout",
     "output_type": "stream",
     "text": [
      "val Loss:0.36420024337402207 | Acc:0.9211673934921167 | F1:0.8943431160542211\n"
     ]
    },
    {
     "name": "stderr",
     "output_type": "stream",
     "text": [
      "100%|█████████████████████████████████████████| 373/373 [04:28<00:00,  1.39it/s]\n"
     ]
    },
    {
     "name": "stdout",
     "output_type": "stream",
     "text": [
      "Epoch:[169/300]\n",
      "Train Loss:0.01368184873808634 | Acc:0.9955551828245556 | F1:0.993836795847783\n"
     ]
    },
    {
     "name": "stderr",
     "output_type": "stream",
     "text": [
      "100%|███████████████████████████████████████████| 94/94 [00:24<00:00,  3.80it/s]\n"
     ]
    },
    {
     "name": "stdout",
     "output_type": "stream",
     "text": [
      "val Loss:0.3791411124312446 | Acc:0.9196578329419658 | F1:0.8833251921276858\n"
     ]
    },
    {
     "name": "stderr",
     "output_type": "stream",
     "text": [
      "100%|█████████████████████████████████████████| 373/373 [04:27<00:00,  1.39it/s]\n"
     ]
    },
    {
     "name": "stdout",
     "output_type": "stream",
     "text": [
      "Epoch:[170/300]\n",
      "Train Loss:0.013617637657589464 | Acc:0.9956809795370681 | F1:0.9939053124773596\n"
     ]
    },
    {
     "name": "stderr",
     "output_type": "stream",
     "text": [
      "100%|███████████████████████████████████████████| 94/94 [00:24<00:00,  3.79it/s]\n"
     ]
    },
    {
     "name": "stdout",
     "output_type": "stream",
     "text": [
      "val Loss:0.3621160600515453 | Acc:0.9250251593425025 | F1:0.8930824825061453\n"
     ]
    },
    {
     "name": "stderr",
     "output_type": "stream",
     "text": [
      "100%|█████████████████████████████████████████| 373/373 [04:28<00:00,  1.39it/s]\n"
     ]
    },
    {
     "name": "stdout",
     "output_type": "stream",
     "text": [
      "Epoch:[171/300]\n",
      "Train Loss:0.014625229483878965 | Acc:0.9954293861120429 | F1:0.9936279450551131\n"
     ]
    },
    {
     "name": "stderr",
     "output_type": "stream",
     "text": [
      "100%|███████████████████████████████████████████| 94/94 [00:24<00:00,  3.80it/s]\n"
     ]
    },
    {
     "name": "stdout",
     "output_type": "stream",
     "text": [
      "val Loss:0.37042058061780075 | Acc:0.9230124119423012 | F1:0.8956333502251169\n"
     ]
    },
    {
     "name": "stderr",
     "output_type": "stream",
     "text": [
      "100%|█████████████████████████████████████████| 373/373 [04:28<00:00,  1.39it/s]\n"
     ]
    },
    {
     "name": "stdout",
     "output_type": "stream",
     "text": [
      "Epoch:[172/300]\n",
      "Train Loss:0.0144416126517872 | Acc:0.99480040254948 | F1:0.9925075233499051\n"
     ]
    },
    {
     "name": "stderr",
     "output_type": "stream",
     "text": [
      "100%|███████████████████████████████████████████| 94/94 [00:24<00:00,  3.82it/s]\n"
     ]
    },
    {
     "name": "stdout",
     "output_type": "stream",
     "text": [
      "val Loss:0.385212940962894 | Acc:0.9220060382422006 | F1:0.882133779456673\n"
     ]
    },
    {
     "name": "stderr",
     "output_type": "stream",
     "text": [
      "100%|█████████████████████████████████████████| 373/373 [04:28<00:00,  1.39it/s]\n"
     ]
    },
    {
     "name": "stdout",
     "output_type": "stream",
     "text": [
      "Epoch:[173/300]\n",
      "Train Loss:0.012308826370791778 | Acc:0.9958487084870848 | F1:0.9940749433144408\n"
     ]
    },
    {
     "name": "stderr",
     "output_type": "stream",
     "text": [
      "100%|███████████████████████████████████████████| 94/94 [00:24<00:00,  3.76it/s]\n"
     ]
    },
    {
     "name": "stdout",
     "output_type": "stream",
     "text": [
      "val Loss:0.3686800353949251 | Acc:0.9241865145924186 | F1:0.8966305346123548\n"
     ]
    },
    {
     "name": "stderr",
     "output_type": "stream",
     "text": [
      "100%|█████████████████████████████████████████| 373/373 [04:26<00:00,  1.40it/s]\n"
     ]
    },
    {
     "name": "stdout",
     "output_type": "stream",
     "text": [
      "Epoch:[174/300]\n",
      "Train Loss:0.013410419110644263 | Acc:0.9954293861120429 | F1:0.9929239311735174\n"
     ]
    },
    {
     "name": "stderr",
     "output_type": "stream",
     "text": [
      "100%|███████████████████████████████████████████| 94/94 [00:24<00:00,  3.77it/s]\n"
     ]
    },
    {
     "name": "stdout",
     "output_type": "stream",
     "text": [
      "val Loss:0.3794249815219291 | Acc:0.9211673934921167 | F1:0.885607714530311\n"
     ]
    },
    {
     "name": "stderr",
     "output_type": "stream",
     "text": [
      "100%|█████████████████████████████████████████| 373/373 [04:29<00:00,  1.38it/s]\n"
     ]
    },
    {
     "name": "stdout",
     "output_type": "stream",
     "text": [
      "Epoch:[175/300]\n",
      "Train Loss:0.014891776851110013 | Acc:0.995010063737001 | F1:0.9928726280443227\n"
     ]
    },
    {
     "name": "stderr",
     "output_type": "stream",
     "text": [
      "100%|███████████████████████████████████████████| 94/94 [00:24<00:00,  3.80it/s]\n"
     ]
    },
    {
     "name": "stdout",
     "output_type": "stream",
     "text": [
      "val Loss:0.36331331915559834 | Acc:0.9263669909426367 | F1:0.8969809467867946\n"
     ]
    },
    {
     "name": "stderr",
     "output_type": "stream",
     "text": [
      "100%|█████████████████████████████████████████| 373/373 [04:28<00:00,  1.39it/s]\n"
     ]
    },
    {
     "name": "stdout",
     "output_type": "stream",
     "text": [
      "Epoch:[176/300]\n",
      "Train Loss:0.012613697579840972 | Acc:0.9962260986246226 | F1:0.9945524571046797\n"
     ]
    },
    {
     "name": "stderr",
     "output_type": "stream",
     "text": [
      "100%|███████████████████████████████████████████| 94/94 [00:24<00:00,  3.80it/s]\n"
     ]
    },
    {
     "name": "stdout",
     "output_type": "stream",
     "text": [
      "val Loss:0.36344394019231957 | Acc:0.9241865145924186 | F1:0.8909999916350586\n"
     ]
    },
    {
     "name": "stderr",
     "output_type": "stream",
     "text": [
      "100%|█████████████████████████████████████████| 373/373 [04:27<00:00,  1.39it/s]\n"
     ]
    },
    {
     "name": "stdout",
     "output_type": "stream",
     "text": [
      "Epoch:[177/300]\n",
      "Train Loss:0.015603287358565525 | Acc:0.9946746058369674 | F1:0.9922918150718463\n"
     ]
    },
    {
     "name": "stderr",
     "output_type": "stream",
     "text": [
      "100%|███████████████████████████████████████████| 94/94 [00:24<00:00,  3.77it/s]\n"
     ]
    },
    {
     "name": "stdout",
     "output_type": "stream",
     "text": [
      "val Loss:0.37382725341783984 | Acc:0.9241865145924186 | F1:0.8960902931188673\n"
     ]
    },
    {
     "name": "stderr",
     "output_type": "stream",
     "text": [
      "100%|█████████████████████████████████████████| 373/373 [04:28<00:00,  1.39it/s]\n"
     ]
    },
    {
     "name": "stdout",
     "output_type": "stream",
     "text": [
      "Epoch:[178/300]\n",
      "Train Loss:0.014244296180296169 | Acc:0.9956390472995639 | F1:0.9936573486516084\n"
     ]
    },
    {
     "name": "stderr",
     "output_type": "stream",
     "text": [
      "100%|███████████████████████████████████████████| 94/94 [00:24<00:00,  3.79it/s]\n"
     ]
    },
    {
     "name": "stdout",
     "output_type": "stream",
     "text": [
      "val Loss:0.3703710188182694 | Acc:0.9235155987923516 | F1:0.8907613826354813\n"
     ]
    },
    {
     "name": "stderr",
     "output_type": "stream",
     "text": [
      "100%|█████████████████████████████████████████| 373/373 [04:27<00:00,  1.39it/s]\n"
     ]
    },
    {
     "name": "stdout",
     "output_type": "stream",
     "text": [
      "Epoch:[179/300]\n",
      "Train Loss:0.011672617854428325 | Acc:0.9963938275746393 | F1:0.9948501465420889\n"
     ]
    },
    {
     "name": "stderr",
     "output_type": "stream",
     "text": [
      "100%|███████████████████████████████████████████| 94/94 [00:24<00:00,  3.83it/s]\n"
     ]
    },
    {
     "name": "stdout",
     "output_type": "stream",
     "text": [
      "val Loss:0.3904915682676085 | Acc:0.9220060382422006 | F1:0.8850093934585972\n"
     ]
    },
    {
     "name": "stderr",
     "output_type": "stream",
     "text": [
      "100%|█████████████████████████████████████████| 373/373 [04:28<00:00,  1.39it/s]\n"
     ]
    },
    {
     "name": "stdout",
     "output_type": "stream",
     "text": [
      "Epoch:[180/300]\n",
      "Train Loss:0.012595151068692098 | Acc:0.9961841663871184 | F1:0.9941229699333597\n"
     ]
    },
    {
     "name": "stderr",
     "output_type": "stream",
     "text": [
      "100%|███████████████████████████████████████████| 94/94 [00:24<00:00,  3.78it/s]\n"
     ]
    },
    {
     "name": "stdout",
     "output_type": "stream",
     "text": [
      "val Loss:0.3675269223022872 | Acc:0.925360617242536 | F1:0.8964428548027735\n"
     ]
    },
    {
     "name": "stderr",
     "output_type": "stream",
     "text": [
      "100%|█████████████████████████████████████████| 373/373 [04:28<00:00,  1.39it/s]\n"
     ]
    },
    {
     "name": "stdout",
     "output_type": "stream",
     "text": [
      "Epoch:[181/300]\n",
      "Train Loss:0.013921849167174998 | Acc:0.9952197249245219 | F1:0.9931477986828421\n"
     ]
    },
    {
     "name": "stderr",
     "output_type": "stream",
     "text": [
      "100%|███████████████████████████████████████████| 94/94 [00:24<00:00,  3.82it/s]\n"
     ]
    },
    {
     "name": "stdout",
     "output_type": "stream",
     "text": [
      "val Loss:0.3716116310580356 | Acc:0.9243542435424354 | F1:0.8912355389891967\n"
     ]
    },
    {
     "name": "stderr",
     "output_type": "stream",
     "text": [
      "100%|█████████████████████████████████████████| 373/373 [04:28<00:00,  1.39it/s]\n"
     ]
    },
    {
     "name": "stdout",
     "output_type": "stream",
     "text": [
      "Epoch:[182/300]\n",
      "Train Loss:0.011770342299524108 | Acc:0.9960583696746058 | F1:0.9945106074405476\n"
     ]
    },
    {
     "name": "stderr",
     "output_type": "stream",
     "text": [
      "100%|███████████████████████████████████████████| 94/94 [00:24<00:00,  3.82it/s]\n"
     ]
    },
    {
     "name": "stdout",
     "output_type": "stream",
     "text": [
      "val Loss:0.3691019757306116 | Acc:0.9256960751425696 | F1:0.894600821306966\n"
     ]
    },
    {
     "name": "stderr",
     "output_type": "stream",
     "text": [
      "100%|█████████████████████████████████████████| 373/373 [04:29<00:00,  1.39it/s]\n"
     ]
    },
    {
     "name": "stdout",
     "output_type": "stream",
     "text": [
      "Epoch:[183/300]\n",
      "Train Loss:0.012153850644027095 | Acc:0.996309963099631 | F1:0.99413193461796\n"
     ]
    },
    {
     "name": "stderr",
     "output_type": "stream",
     "text": [
      "100%|███████████████████████████████████████████| 94/94 [00:24<00:00,  3.81it/s]\n"
     ]
    },
    {
     "name": "stdout",
     "output_type": "stream",
     "text": [
      "val Loss:0.37315222162855505 | Acc:0.9250251593425025 | F1:0.8954917365589333\n"
     ]
    },
    {
     "name": "stderr",
     "output_type": "stream",
     "text": [
      "100%|█████████████████████████████████████████| 373/373 [04:29<00:00,  1.39it/s]\n"
     ]
    },
    {
     "name": "stdout",
     "output_type": "stream",
     "text": [
      "Epoch:[184/300]\n",
      "Train Loss:0.012032418173457583 | Acc:0.9960164374371017 | F1:0.9944670142030171\n"
     ]
    },
    {
     "name": "stderr",
     "output_type": "stream",
     "text": [
      "100%|███████████████████████████████████████████| 94/94 [00:24<00:00,  3.79it/s]\n"
     ]
    },
    {
     "name": "stdout",
     "output_type": "stream",
     "text": [
      "val Loss:0.378348476946084 | Acc:0.923180140892318 | F1:0.8913514374605157\n"
     ]
    },
    {
     "name": "stderr",
     "output_type": "stream",
     "text": [
      "100%|█████████████████████████████████████████| 373/373 [04:27<00:00,  1.39it/s]\n"
     ]
    },
    {
     "name": "stdout",
     "output_type": "stream",
     "text": [
      "Epoch:[185/300]\n",
      "Train Loss:0.01229278403854498 | Acc:0.9960583696746058 | F1:0.9949480466088213\n"
     ]
    },
    {
     "name": "stderr",
     "output_type": "stream",
     "text": [
      "100%|███████████████████████████████████████████| 94/94 [00:24<00:00,  3.84it/s]\n"
     ]
    },
    {
     "name": "stdout",
     "output_type": "stream",
     "text": [
      "val Loss:0.3872005879153872 | Acc:0.923180140892318 | F1:0.8910837362142427\n"
     ]
    },
    {
     "name": "stderr",
     "output_type": "stream",
     "text": [
      "100%|█████████████████████████████████████████| 373/373 [04:28<00:00,  1.39it/s]\n"
     ]
    },
    {
     "name": "stdout",
     "output_type": "stream",
     "text": [
      "Epoch:[186/300]\n",
      "Train Loss:0.011368514396811353 | Acc:0.9964776920496478 | F1:0.9951089335204081\n"
     ]
    },
    {
     "name": "stderr",
     "output_type": "stream",
     "text": [
      "100%|███████████████████████████████████████████| 94/94 [00:24<00:00,  3.80it/s]\n"
     ]
    },
    {
     "name": "stdout",
     "output_type": "stream",
     "text": [
      "val Loss:0.39502216672335955 | Acc:0.9226769540422677 | F1:0.8860717558298294\n"
     ]
    },
    {
     "name": "stderr",
     "output_type": "stream",
     "text": [
      "100%|█████████████████████████████████████████| 373/373 [04:28<00:00,  1.39it/s]\n"
     ]
    },
    {
     "name": "stdout",
     "output_type": "stream",
     "text": [
      "Epoch:[187/300]\n",
      "Train Loss:0.013104703113329227 | Acc:0.9955132505870513 | F1:0.9939515354871034\n"
     ]
    },
    {
     "name": "stderr",
     "output_type": "stream",
     "text": [
      "100%|███████████████████████████████████████████| 94/94 [00:24<00:00,  3.79it/s]\n"
     ]
    },
    {
     "name": "stdout",
     "output_type": "stream",
     "text": [
      "val Loss:0.38353717859461245 | Acc:0.9243542435424354 | F1:0.8899195633227747\n"
     ]
    },
    {
     "name": "stderr",
     "output_type": "stream",
     "text": [
      "100%|█████████████████████████████████████████| 373/373 [04:28<00:00,  1.39it/s]\n"
     ]
    },
    {
     "name": "stdout",
     "output_type": "stream",
     "text": [
      "Epoch:[188/300]\n",
      "Train Loss:0.011823667668828385 | Acc:0.9959325729620933 | F1:0.9943414592099813\n"
     ]
    },
    {
     "name": "stderr",
     "output_type": "stream",
     "text": [
      "100%|███████████████████████████████████████████| 94/94 [00:24<00:00,  3.79it/s]\n"
     ]
    },
    {
     "name": "stdout",
     "output_type": "stream",
     "text": [
      "val Loss:0.3796951798747532 | Acc:0.9201610197920161 | F1:0.8879398240710781\n"
     ]
    },
    {
     "name": "stderr",
     "output_type": "stream",
     "text": [
      "100%|█████████████████████████████████████████| 373/373 [04:28<00:00,  1.39it/s]\n"
     ]
    },
    {
     "name": "stdout",
     "output_type": "stream",
     "text": [
      "Epoch:[189/300]\n",
      "Train Loss:0.010083733399566003 | Acc:0.996519624287152 | F1:0.9950444461275361\n"
     ]
    },
    {
     "name": "stderr",
     "output_type": "stream",
     "text": [
      "100%|███████████████████████████████████████████| 94/94 [00:24<00:00,  3.80it/s]\n"
     ]
    },
    {
     "name": "stdout",
     "output_type": "stream",
     "text": [
      "val Loss:0.3861781715510159 | Acc:0.9240187856424019 | F1:0.8922268764438316\n"
     ]
    },
    {
     "name": "stderr",
     "output_type": "stream",
     "text": [
      "100%|█████████████████████████████████████████| 373/373 [04:29<00:00,  1.38it/s]\n"
     ]
    },
    {
     "name": "stdout",
     "output_type": "stream",
     "text": [
      "Epoch:[190/300]\n",
      "Train Loss:0.010158144849930826 | Acc:0.9965615565246562 | F1:0.995038299345931\n"
     ]
    },
    {
     "name": "stderr",
     "output_type": "stream",
     "text": [
      "100%|███████████████████████████████████████████| 94/94 [00:24<00:00,  3.80it/s]\n"
     ]
    },
    {
     "name": "stdout",
     "output_type": "stream",
     "text": [
      "val Loss:0.38313407840872515 | Acc:0.9223414961422342 | F1:0.89233621962792\n"
     ]
    },
    {
     "name": "stderr",
     "output_type": "stream",
     "text": [
      "100%|█████████████████████████████████████████| 373/373 [04:27<00:00,  1.39it/s]\n"
     ]
    },
    {
     "name": "stdout",
     "output_type": "stream",
     "text": [
      "Epoch:[191/300]\n",
      "Train Loss:0.011304675703271549 | Acc:0.9961003019121101 | F1:0.9944520834170867\n"
     ]
    },
    {
     "name": "stderr",
     "output_type": "stream",
     "text": [
      "100%|███████████████████████████████████████████| 94/94 [00:24<00:00,  3.83it/s]\n"
     ]
    },
    {
     "name": "stdout",
     "output_type": "stream",
     "text": [
      "val Loss:0.38033383115779273 | Acc:0.9243542435424354 | F1:0.8925399526701435\n"
     ]
    },
    {
     "name": "stderr",
     "output_type": "stream",
     "text": [
      "100%|█████████████████████████████████████████| 373/373 [04:28<00:00,  1.39it/s]\n"
     ]
    },
    {
     "name": "stdout",
     "output_type": "stream",
     "text": [
      "Epoch:[192/300]\n",
      "Train Loss:0.010968513814207567 | Acc:0.9964357598121436 | F1:0.9952390996749656\n"
     ]
    },
    {
     "name": "stderr",
     "output_type": "stream",
     "text": [
      "100%|███████████████████████████████████████████| 94/94 [00:24<00:00,  3.80it/s]\n"
     ]
    },
    {
     "name": "stdout",
     "output_type": "stream",
     "text": [
      "val Loss:0.394604419126357 | Acc:0.9245219724924522 | F1:0.8921588784608551\n"
     ]
    },
    {
     "name": "stderr",
     "output_type": "stream",
     "text": [
      "100%|█████████████████████████████████████████| 373/373 [04:28<00:00,  1.39it/s]\n"
     ]
    },
    {
     "name": "stdout",
     "output_type": "stream",
     "text": [
      "Epoch:[193/300]\n",
      "Train Loss:0.01064794453336454 | Acc:0.9967292854746729 | F1:0.9947824842508532\n"
     ]
    },
    {
     "name": "stderr",
     "output_type": "stream",
     "text": [
      "100%|███████████████████████████████████████████| 94/94 [00:24<00:00,  3.79it/s]\n"
     ]
    },
    {
     "name": "stdout",
     "output_type": "stream",
     "text": [
      "val Loss:0.39388036471725174 | Acc:0.924689701442469 | F1:0.8897619575719741\n"
     ]
    },
    {
     "name": "stderr",
     "output_type": "stream",
     "text": [
      "100%|█████████████████████████████████████████| 373/373 [04:28<00:00,  1.39it/s]\n"
     ]
    },
    {
     "name": "stdout",
     "output_type": "stream",
     "text": [
      "Epoch:[194/300]\n",
      "Train Loss:0.010994095439625562 | Acc:0.9966873532371687 | F1:0.995253142918149\n"
     ]
    },
    {
     "name": "stderr",
     "output_type": "stream",
     "text": [
      "100%|███████████████████████████████████████████| 94/94 [00:24<00:00,  3.79it/s]\n"
     ]
    },
    {
     "name": "stdout",
     "output_type": "stream",
     "text": [
      "val Loss:0.3861053668949445 | Acc:0.922509225092251 | F1:0.8908970253007913\n"
     ]
    },
    {
     "name": "stderr",
     "output_type": "stream",
     "text": [
      "100%|█████████████████████████████████████████| 373/373 [04:29<00:00,  1.38it/s]\n"
     ]
    },
    {
     "name": "stdout",
     "output_type": "stream",
     "text": [
      "Epoch:[195/300]\n",
      "Train Loss:0.012634669027845158 | Acc:0.9955971150620597 | F1:0.9934668560494826\n"
     ]
    },
    {
     "name": "stderr",
     "output_type": "stream",
     "text": [
      "100%|███████████████████████████████████████████| 94/94 [00:24<00:00,  3.80it/s]\n"
     ]
    },
    {
     "name": "stdout",
     "output_type": "stream",
     "text": [
      "val Loss:0.37935515289816285 | Acc:0.9241865145924186 | F1:0.8908435312354976\n"
     ]
    },
    {
     "name": "stderr",
     "output_type": "stream",
     "text": [
      "100%|█████████████████████████████████████████| 373/373 [04:28<00:00,  1.39it/s]\n"
     ]
    },
    {
     "name": "stdout",
     "output_type": "stream",
     "text": [
      "Epoch:[196/300]\n",
      "Train Loss:0.009899409604727464 | Acc:0.9966873532371687 | F1:0.9952830039275546\n"
     ]
    },
    {
     "name": "stderr",
     "output_type": "stream",
     "text": [
      "100%|███████████████████████████████████████████| 94/94 [00:24<00:00,  3.79it/s]\n"
     ]
    },
    {
     "name": "stdout",
     "output_type": "stream",
     "text": [
      "val Loss:0.3909077041001234 | Acc:0.9230124119423012 | F1:0.887878307195922\n"
     ]
    },
    {
     "name": "stderr",
     "output_type": "stream",
     "text": [
      "100%|█████████████████████████████████████████| 373/373 [04:28<00:00,  1.39it/s]\n"
     ]
    },
    {
     "name": "stdout",
     "output_type": "stream",
     "text": [
      "Epoch:[197/300]\n",
      "Train Loss:0.01056104190150855 | Acc:0.9963518953371352 | F1:0.9945645007362346\n"
     ]
    },
    {
     "name": "stderr",
     "output_type": "stream",
     "text": [
      "100%|███████████████████████████████████████████| 94/94 [00:24<00:00,  3.82it/s]\n"
     ]
    },
    {
     "name": "stdout",
     "output_type": "stream",
     "text": [
      "val Loss:0.38677661878559666 | Acc:0.9223414961422342 | F1:0.8934204564296838\n"
     ]
    },
    {
     "name": "stderr",
     "output_type": "stream",
     "text": [
      "100%|█████████████████████████████████████████| 373/373 [04:27<00:00,  1.39it/s]\n"
     ]
    },
    {
     "name": "stdout",
     "output_type": "stream",
     "text": [
      "Epoch:[198/300]\n",
      "Train Loss:0.010262002569164971 | Acc:0.996309963099631 | F1:0.9944774864650286\n"
     ]
    },
    {
     "name": "stderr",
     "output_type": "stream",
     "text": [
      "100%|███████████████████████████████████████████| 94/94 [00:24<00:00,  3.77it/s]\n"
     ]
    },
    {
     "name": "stdout",
     "output_type": "stream",
     "text": [
      "val Loss:0.3819237647248752 | Acc:0.9261992619926199 | F1:0.8957015315373921\n"
     ]
    },
    {
     "name": "stderr",
     "output_type": "stream",
     "text": [
      "100%|█████████████████████████████████████████| 373/373 [04:27<00:00,  1.39it/s]\n"
     ]
    },
    {
     "name": "stdout",
     "output_type": "stream",
     "text": [
      "Epoch:[199/300]\n",
      "Train Loss:0.009451239395740448 | Acc:0.9971905400872191 | F1:0.9959175923361862\n"
     ]
    },
    {
     "name": "stderr",
     "output_type": "stream",
     "text": [
      "100%|███████████████████████████████████████████| 94/94 [00:24<00:00,  3.81it/s]\n"
     ]
    },
    {
     "name": "stdout",
     "output_type": "stream",
     "text": [
      "val Loss:0.39044289064510196 | Acc:0.9220060382422006 | F1:0.8907369761735087\n"
     ]
    },
    {
     "name": "stderr",
     "output_type": "stream",
     "text": [
      "100%|█████████████████████████████████████████| 373/373 [04:28<00:00,  1.39it/s]\n"
     ]
    },
    {
     "name": "stdout",
     "output_type": "stream",
     "text": [
      "Epoch:[200/300]\n",
      "Train Loss:0.01101376014676961 | Acc:0.996309963099631 | F1:0.9944761228409265\n"
     ]
    },
    {
     "name": "stderr",
     "output_type": "stream",
     "text": [
      "100%|███████████████████████████████████████████| 94/94 [00:24<00:00,  3.83it/s]\n"
     ]
    },
    {
     "name": "stdout",
     "output_type": "stream",
     "text": [
      "val Loss:0.38941072399308735 | Acc:0.9248574303924857 | F1:0.8913442147233267\n"
     ]
    },
    {
     "name": "stderr",
     "output_type": "stream",
     "text": [
      "100%|█████████████████████████████████████████| 373/373 [04:27<00:00,  1.39it/s]\n"
     ]
    },
    {
     "name": "stdout",
     "output_type": "stream",
     "text": [
      "Epoch:[201/300]\n",
      "Train Loss:0.008284329393215 | Acc:0.9975679302247568 | F1:0.9963881188029502\n"
     ]
    },
    {
     "name": "stderr",
     "output_type": "stream",
     "text": [
      "100%|███████████████████████████████████████████| 94/94 [00:24<00:00,  3.80it/s]\n"
     ]
    },
    {
     "name": "stdout",
     "output_type": "stream",
     "text": [
      "val Loss:0.4005454395402814 | Acc:0.922509225092251 | F1:0.895367008976433\n"
     ]
    },
    {
     "name": "stderr",
     "output_type": "stream",
     "text": [
      "100%|█████████████████████████████████████████| 373/373 [04:28<00:00,  1.39it/s]\n"
     ]
    },
    {
     "name": "stdout",
     "output_type": "stream",
     "text": [
      "Epoch:[202/300]\n",
      "Train Loss:0.010828343359394208 | Acc:0.9962260986246226 | F1:0.9947557097961465\n"
     ]
    },
    {
     "name": "stderr",
     "output_type": "stream",
     "text": [
      "100%|███████████████████████████████████████████| 94/94 [00:24<00:00,  3.82it/s]\n"
     ]
    },
    {
     "name": "stdout",
     "output_type": "stream",
     "text": [
      "val Loss:0.39209254607965177 | Acc:0.9233478698423347 | F1:0.8936910954387166\n"
     ]
    },
    {
     "name": "stderr",
     "output_type": "stream",
     "text": [
      "100%|█████████████████████████████████████████| 373/373 [04:27<00:00,  1.40it/s]\n"
     ]
    },
    {
     "name": "stdout",
     "output_type": "stream",
     "text": [
      "Epoch:[203/300]\n",
      "Train Loss:0.010021987246569396 | Acc:0.996309963099631 | F1:0.994469563219495\n"
     ]
    },
    {
     "name": "stderr",
     "output_type": "stream",
     "text": [
      "100%|███████████████████████████████████████████| 94/94 [00:24<00:00,  3.85it/s]\n"
     ]
    },
    {
     "name": "stdout",
     "output_type": "stream",
     "text": [
      "val Loss:0.39188385780976615 | Acc:0.9248574303924857 | F1:0.8959156473030655\n"
     ]
    },
    {
     "name": "stderr",
     "output_type": "stream",
     "text": [
      "100%|█████████████████████████████████████████| 373/373 [04:29<00:00,  1.38it/s]\n"
     ]
    },
    {
     "name": "stdout",
     "output_type": "stream",
     "text": [
      "Epoch:[204/300]\n",
      "Train Loss:0.009170915442526701 | Acc:0.9971486078497148 | F1:0.9962344005789492\n"
     ]
    },
    {
     "name": "stderr",
     "output_type": "stream",
     "text": [
      "100%|███████████████████████████████████████████| 94/94 [00:24<00:00,  3.80it/s]\n"
     ]
    },
    {
     "name": "stdout",
     "output_type": "stream",
     "text": [
      "val Loss:0.4167942241327 | Acc:0.9248574303924857 | F1:0.8903529615244533\n"
     ]
    },
    {
     "name": "stderr",
     "output_type": "stream",
     "text": [
      "100%|█████████████████████████████████████████| 373/373 [04:28<00:00,  1.39it/s]\n"
     ]
    },
    {
     "name": "stdout",
     "output_type": "stream",
     "text": [
      "Epoch:[205/300]\n",
      "Train Loss:0.010365971874886814 | Acc:0.9961003019121101 | F1:0.99444308699708\n"
     ]
    },
    {
     "name": "stderr",
     "output_type": "stream",
     "text": [
      "100%|███████████████████████████████████████████| 94/94 [00:24<00:00,  3.79it/s]\n"
     ]
    },
    {
     "name": "stdout",
     "output_type": "stream",
     "text": [
      "val Loss:0.3955263903951341 | Acc:0.9240187856424019 | F1:0.8925541888695505\n"
     ]
    },
    {
     "name": "stderr",
     "output_type": "stream",
     "text": [
      "100%|█████████████████████████████████████████| 373/373 [04:26<00:00,  1.40it/s]\n"
     ]
    },
    {
     "name": "stdout",
     "output_type": "stream",
     "text": [
      "Epoch:[206/300]\n",
      "Train Loss:0.008921761939871315 | Acc:0.9971486078497148 | F1:0.995975158947999\n"
     ]
    },
    {
     "name": "stderr",
     "output_type": "stream",
     "text": [
      "100%|███████████████████████████████████████████| 94/94 [00:24<00:00,  3.82it/s]\n"
     ]
    },
    {
     "name": "stdout",
     "output_type": "stream",
     "text": [
      "val Loss:0.4092135641947095 | Acc:0.9209996645420999 | F1:0.8883667908129705\n"
     ]
    },
    {
     "name": "stderr",
     "output_type": "stream",
     "text": [
      "100%|█████████████████████████████████████████| 373/373 [04:29<00:00,  1.39it/s]\n"
     ]
    },
    {
     "name": "stdout",
     "output_type": "stream",
     "text": [
      "Epoch:[207/300]\n",
      "Train Loss:0.010296996164344019 | Acc:0.9970647433747065 | F1:0.9959591682350546\n"
     ]
    },
    {
     "name": "stderr",
     "output_type": "stream",
     "text": [
      "100%|███████████████████████████████████████████| 94/94 [00:24<00:00,  3.78it/s]\n"
     ]
    },
    {
     "name": "stdout",
     "output_type": "stream",
     "text": [
      "val Loss:0.37934362130338095 | Acc:0.9270379067427038 | F1:0.9004961790637032\n"
     ]
    },
    {
     "name": "stderr",
     "output_type": "stream",
     "text": [
      "100%|█████████████████████████████████████████| 373/373 [04:28<00:00,  1.39it/s]\n"
     ]
    },
    {
     "name": "stdout",
     "output_type": "stream",
     "text": [
      "Epoch:[208/300]\n",
      "Train Loss:0.009521242651959687 | Acc:0.9970228111372023 | F1:0.9959238966565994\n"
     ]
    },
    {
     "name": "stderr",
     "output_type": "stream",
     "text": [
      "100%|███████████████████████████████████████████| 94/94 [00:24<00:00,  3.81it/s]\n"
     ]
    },
    {
     "name": "stdout",
     "output_type": "stream",
     "text": [
      "val Loss:0.39777892917927393 | Acc:0.9241865145924186 | F1:0.8941316625220528\n"
     ]
    },
    {
     "name": "stderr",
     "output_type": "stream",
     "text": [
      "100%|█████████████████████████████████████████| 373/373 [04:27<00:00,  1.40it/s]\n"
     ]
    },
    {
     "name": "stdout",
     "output_type": "stream",
     "text": [
      "Epoch:[209/300]\n",
      "Train Loss:0.010230338753909322 | Acc:0.9968550821871855 | F1:0.9952301005401785\n"
     ]
    },
    {
     "name": "stderr",
     "output_type": "stream",
     "text": [
      "100%|███████████████████████████████████████████| 94/94 [00:24<00:00,  3.80it/s]\n"
     ]
    },
    {
     "name": "stdout",
     "output_type": "stream",
     "text": [
      "val Loss:0.38542553010388536 | Acc:0.9265347198926535 | F1:0.8962457372943777\n"
     ]
    },
    {
     "name": "stderr",
     "output_type": "stream",
     "text": [
      "100%|█████████████████████████████████████████| 373/373 [04:29<00:00,  1.38it/s]\n"
     ]
    },
    {
     "name": "stdout",
     "output_type": "stream",
     "text": [
      "Epoch:[210/300]\n",
      "Train Loss:0.010197049157562142 | Acc:0.9964776920496478 | F1:0.9952651585485345\n"
     ]
    },
    {
     "name": "stderr",
     "output_type": "stream",
     "text": [
      "100%|███████████████████████████████████████████| 94/94 [00:24<00:00,  3.80it/s]\n"
     ]
    },
    {
     "name": "stdout",
     "output_type": "stream",
     "text": [
      "val Loss:0.3900057940143393 | Acc:0.922509225092251 | F1:0.8897170651934513\n"
     ]
    },
    {
     "name": "stderr",
     "output_type": "stream",
     "text": [
      "100%|█████████████████████████████████████████| 373/373 [04:28<00:00,  1.39it/s]\n"
     ]
    },
    {
     "name": "stdout",
     "output_type": "stream",
     "text": [
      "Epoch:[211/300]\n",
      "Train Loss:0.008947179781154913 | Acc:0.9968970144246897 | F1:0.995619422093063\n"
     ]
    },
    {
     "name": "stderr",
     "output_type": "stream",
     "text": [
      "100%|███████████████████████████████████████████| 94/94 [00:24<00:00,  3.83it/s]\n"
     ]
    },
    {
     "name": "stdout",
     "output_type": "stream",
     "text": [
      "val Loss:0.38912650442603164 | Acc:0.924689701442469 | F1:0.8953537487341974\n"
     ]
    },
    {
     "name": "stderr",
     "output_type": "stream",
     "text": [
      "100%|█████████████████████████████████████████| 373/373 [04:26<00:00,  1.40it/s]\n"
     ]
    },
    {
     "name": "stdout",
     "output_type": "stream",
     "text": [
      "Epoch:[212/300]\n",
      "Train Loss:0.009237230333934811 | Acc:0.9968131499496813 | F1:0.9957485665902961\n"
     ]
    },
    {
     "name": "stderr",
     "output_type": "stream",
     "text": [
      "100%|███████████████████████████████████████████| 94/94 [00:24<00:00,  3.80it/s]\n"
     ]
    },
    {
     "name": "stdout",
     "output_type": "stream",
     "text": [
      "val Loss:0.41204727449269574 | Acc:0.9206642066420664 | F1:0.885268043221305\n"
     ]
    },
    {
     "name": "stderr",
     "output_type": "stream",
     "text": [
      "100%|█████████████████████████████████████████| 373/373 [04:29<00:00,  1.39it/s]\n"
     ]
    },
    {
     "name": "stdout",
     "output_type": "stream",
     "text": [
      "Epoch:[213/300]\n",
      "Train Loss:0.008263547871985398 | Acc:0.9975259979872526 | F1:0.9964033759733084\n"
     ]
    },
    {
     "name": "stderr",
     "output_type": "stream",
     "text": [
      "100%|███████████████████████████████████████████| 94/94 [00:24<00:00,  3.78it/s]\n"
     ]
    },
    {
     "name": "stdout",
     "output_type": "stream",
     "text": [
      "val Loss:0.396154571612872 | Acc:0.924689701442469 | F1:0.8968313789350351\n"
     ]
    },
    {
     "name": "stderr",
     "output_type": "stream",
     "text": [
      "100%|█████████████████████████████████████████| 373/373 [04:27<00:00,  1.39it/s]\n"
     ]
    },
    {
     "name": "stdout",
     "output_type": "stream",
     "text": [
      "Epoch:[214/300]\n",
      "Train Loss:0.008395339010148386 | Acc:0.9975679302247568 | F1:0.9965828281836082\n"
     ]
    },
    {
     "name": "stderr",
     "output_type": "stream",
     "text": [
      "100%|███████████████████████████████████████████| 94/94 [00:24<00:00,  3.80it/s]\n"
     ]
    },
    {
     "name": "stdout",
     "output_type": "stream",
     "text": [
      "val Loss:0.3882244449627534 | Acc:0.9280442804428044 | F1:0.9006827962992656\n"
     ]
    },
    {
     "name": "stderr",
     "output_type": "stream",
     "text": [
      "100%|█████████████████████████████████████████| 373/373 [04:27<00:00,  1.39it/s]\n"
     ]
    },
    {
     "name": "stdout",
     "output_type": "stream",
     "text": [
      "Epoch:[215/300]\n",
      "Train Loss:0.008168365647553954 | Acc:0.9971066756122107 | F1:0.9959991313203013\n"
     ]
    },
    {
     "name": "stderr",
     "output_type": "stream",
     "text": [
      "100%|███████████████████████████████████████████| 94/94 [00:24<00:00,  3.79it/s]\n"
     ]
    },
    {
     "name": "stdout",
     "output_type": "stream",
     "text": [
      "val Loss:0.3952088869117914 | Acc:0.9255283461925529 | F1:0.8950658934958644\n"
     ]
    },
    {
     "name": "stderr",
     "output_type": "stream",
     "text": [
      "100%|█████████████████████████████████████████| 373/373 [04:29<00:00,  1.39it/s]\n"
     ]
    },
    {
     "name": "stdout",
     "output_type": "stream",
     "text": [
      "Epoch:[216/300]\n",
      "Train Loss:0.008900654151990725 | Acc:0.9968131499496813 | F1:0.9950976965323802\n"
     ]
    },
    {
     "name": "stderr",
     "output_type": "stream",
     "text": [
      "100%|███████████████████████████████████████████| 94/94 [00:24<00:00,  3.80it/s]\n"
     ]
    },
    {
     "name": "stdout",
     "output_type": "stream",
     "text": [
      "val Loss:0.39210660247463464 | Acc:0.9282120093928212 | F1:0.9009884980232907\n"
     ]
    },
    {
     "name": "stderr",
     "output_type": "stream",
     "text": [
      "100%|█████████████████████████████████████████| 373/373 [04:29<00:00,  1.39it/s]\n"
     ]
    },
    {
     "name": "stdout",
     "output_type": "stream",
     "text": [
      "Epoch:[217/300]\n",
      "Train Loss:0.008208398964351805 | Acc:0.9971486078497148 | F1:0.99598653471962\n"
     ]
    },
    {
     "name": "stderr",
     "output_type": "stream",
     "text": [
      "100%|███████████████████████████████████████████| 94/94 [00:24<00:00,  3.82it/s]\n"
     ]
    },
    {
     "name": "stdout",
     "output_type": "stream",
     "text": [
      "val Loss:0.40259080922440554 | Acc:0.9238510566923851 | F1:0.8916277887474774\n"
     ]
    },
    {
     "name": "stderr",
     "output_type": "stream",
     "text": [
      "100%|█████████████████████████████████████████| 373/373 [04:27<00:00,  1.39it/s]\n"
     ]
    },
    {
     "name": "stdout",
     "output_type": "stream",
     "text": [
      "Epoch:[218/300]\n",
      "Train Loss:0.00837998986475392 | Acc:0.9973163367997316 | F1:0.996326200445365\n"
     ]
    },
    {
     "name": "stderr",
     "output_type": "stream",
     "text": [
      "100%|███████████████████████████████████████████| 94/94 [00:24<00:00,  3.82it/s]\n"
     ]
    },
    {
     "name": "stdout",
     "output_type": "stream",
     "text": [
      "val Loss:0.41508084565052106 | Acc:0.9215028513921503 | F1:0.8896208126305929\n"
     ]
    },
    {
     "name": "stderr",
     "output_type": "stream",
     "text": [
      "100%|█████████████████████████████████████████| 373/373 [04:29<00:00,  1.38it/s]\n"
     ]
    },
    {
     "name": "stdout",
     "output_type": "stream",
     "text": [
      "Epoch:[219/300]\n",
      "Train Loss:0.007832330961189026 | Acc:0.9972324723247232 | F1:0.9958134577365219\n"
     ]
    },
    {
     "name": "stderr",
     "output_type": "stream",
     "text": [
      "100%|███████████████████████████████████████████| 94/94 [00:24<00:00,  3.79it/s]\n"
     ]
    },
    {
     "name": "stdout",
     "output_type": "stream",
     "text": [
      "val Loss:0.3943347896087486 | Acc:0.9245219724924522 | F1:0.8908269633917811\n"
     ]
    },
    {
     "name": "stderr",
     "output_type": "stream",
     "text": [
      "100%|█████████████████████████████████████████| 373/373 [04:27<00:00,  1.39it/s]\n"
     ]
    },
    {
     "name": "stdout",
     "output_type": "stream",
     "text": [
      "Epoch:[220/300]\n",
      "Train Loss:0.00803315422083109 | Acc:0.9971486078497148 | F1:0.9956850452145233\n"
     ]
    },
    {
     "name": "stderr",
     "output_type": "stream",
     "text": [
      "100%|███████████████████████████████████████████| 94/94 [00:24<00:00,  3.80it/s]\n"
     ]
    },
    {
     "name": "stdout",
     "output_type": "stream",
     "text": [
      "val Loss:0.3901366405893348 | Acc:0.9233478698423347 | F1:0.892085278502074\n"
     ]
    },
    {
     "name": "stderr",
     "output_type": "stream",
     "text": [
      "100%|█████████████████████████████████████████| 373/373 [04:26<00:00,  1.40it/s]\n"
     ]
    },
    {
     "name": "stdout",
     "output_type": "stream",
     "text": [
      "Epoch:[221/300]\n",
      "Train Loss:0.009254193069069331 | Acc:0.9971486078497148 | F1:0.9956291351169055\n"
     ]
    },
    {
     "name": "stderr",
     "output_type": "stream",
     "text": [
      "100%|███████████████████████████████████████████| 94/94 [00:24<00:00,  3.79it/s]\n"
     ]
    },
    {
     "name": "stdout",
     "output_type": "stream",
     "text": [
      "val Loss:0.3888670295015587 | Acc:0.924689701442469 | F1:0.892147828434652\n"
     ]
    },
    {
     "name": "stderr",
     "output_type": "stream",
     "text": [
      "100%|█████████████████████████████████████████| 373/373 [04:29<00:00,  1.39it/s]\n"
     ]
    },
    {
     "name": "stdout",
     "output_type": "stream",
     "text": [
      "Epoch:[222/300]\n",
      "Train Loss:0.007756545202458557 | Acc:0.9974421335122442 | F1:0.9962831401824934\n"
     ]
    },
    {
     "name": "stderr",
     "output_type": "stream",
     "text": [
      "100%|███████████████████████████████████████████| 94/94 [00:24<00:00,  3.81it/s]\n"
     ]
    },
    {
     "name": "stdout",
     "output_type": "stream",
     "text": [
      "val Loss:0.3925269598996795 | Acc:0.9255283461925529 | F1:0.8932212080507522\n"
     ]
    },
    {
     "name": "stderr",
     "output_type": "stream",
     "text": [
      "100%|█████████████████████████████████████████| 373/373 [04:28<00:00,  1.39it/s]\n"
     ]
    },
    {
     "name": "stdout",
     "output_type": "stream",
     "text": [
      "Epoch:[223/300]\n",
      "Train Loss:0.006491495663764412 | Acc:0.9979872525997987 | F1:0.9973347312510012\n"
     ]
    },
    {
     "name": "stderr",
     "output_type": "stream",
     "text": [
      "100%|███████████████████████████████████████████| 94/94 [00:24<00:00,  3.83it/s]\n"
     ]
    },
    {
     "name": "stdout",
     "output_type": "stream",
     "text": [
      "val Loss:0.4176378462085043 | Acc:0.9238510566923851 | F1:0.8948798985608846\n"
     ]
    },
    {
     "name": "stderr",
     "output_type": "stream",
     "text": [
      "100%|█████████████████████████████████████████| 373/373 [04:27<00:00,  1.39it/s]\n"
     ]
    },
    {
     "name": "stdout",
     "output_type": "stream",
     "text": [
      "Epoch:[224/300]\n",
      "Train Loss:0.008444423880064889 | Acc:0.9970647433747065 | F1:0.995864568784355\n"
     ]
    },
    {
     "name": "stderr",
     "output_type": "stream",
     "text": [
      "100%|███████████████████████████████████████████| 94/94 [00:24<00:00,  3.80it/s]\n"
     ]
    },
    {
     "name": "stdout",
     "output_type": "stream",
     "text": [
      "val Loss:0.39156555605341076 | Acc:0.9251928882925193 | F1:0.8964165701469462\n"
     ]
    },
    {
     "name": "stderr",
     "output_type": "stream",
     "text": [
      "100%|█████████████████████████████████████████| 373/373 [04:29<00:00,  1.38it/s]\n"
     ]
    },
    {
     "name": "stdout",
     "output_type": "stream",
     "text": [
      "Epoch:[225/300]\n",
      "Train Loss:0.006976070203679354 | Acc:0.997819523649782 | F1:0.9968088863556923\n"
     ]
    },
    {
     "name": "stderr",
     "output_type": "stream",
     "text": [
      "100%|███████████████████████████████████████████| 94/94 [00:24<00:00,  3.81it/s]\n"
     ]
    },
    {
     "name": "stdout",
     "output_type": "stream",
     "text": [
      "val Loss:0.40279390492317735 | Acc:0.9250251593425025 | F1:0.8944550422235944\n"
     ]
    },
    {
     "name": "stderr",
     "output_type": "stream",
     "text": [
      "100%|█████████████████████████████████████████| 373/373 [04:27<00:00,  1.40it/s]\n"
     ]
    },
    {
     "name": "stdout",
     "output_type": "stream",
     "text": [
      "Epoch:[226/300]\n",
      "Train Loss:0.008255306555135367 | Acc:0.99740020127474 | F1:0.996148591258118\n"
     ]
    },
    {
     "name": "stderr",
     "output_type": "stream",
     "text": [
      "100%|███████████████████████████████████████████| 94/94 [00:24<00:00,  3.82it/s]\n"
     ]
    },
    {
     "name": "stdout",
     "output_type": "stream",
     "text": [
      "val Loss:0.4007058810457018 | Acc:0.9243542435424354 | F1:0.8927847693229195\n"
     ]
    },
    {
     "name": "stderr",
     "output_type": "stream",
     "text": [
      "100%|█████████████████████████████████████████| 373/373 [04:28<00:00,  1.39it/s]\n"
     ]
    },
    {
     "name": "stdout",
     "output_type": "stream",
     "text": [
      "Epoch:[227/300]\n",
      "Train Loss:0.007498605409832356 | Acc:0.9974421335122442 | F1:0.9965841620890463\n"
     ]
    },
    {
     "name": "stderr",
     "output_type": "stream",
     "text": [
      "100%|███████████████████████████████████████████| 94/94 [00:24<00:00,  3.79it/s]\n"
     ]
    },
    {
     "name": "stdout",
     "output_type": "stream",
     "text": [
      "val Loss:0.40602741592267244 | Acc:0.9228446829922845 | F1:0.8910898962711616\n"
     ]
    },
    {
     "name": "stderr",
     "output_type": "stream",
     "text": [
      "100%|█████████████████████████████████████████| 373/373 [04:28<00:00,  1.39it/s]\n"
     ]
    },
    {
     "name": "stdout",
     "output_type": "stream",
     "text": [
      "Epoch:[228/300]\n",
      "Train Loss:0.007604381037674187 | Acc:0.9974421335122442 | F1:0.9967264978783728\n"
     ]
    },
    {
     "name": "stderr",
     "output_type": "stream",
     "text": [
      "100%|███████████████████████████████████████████| 94/94 [00:24<00:00,  3.78it/s]\n"
     ]
    },
    {
     "name": "stdout",
     "output_type": "stream",
     "text": [
      "val Loss:0.39619572192129754 | Acc:0.9238510566923851 | F1:0.8944166785319153\n"
     ]
    },
    {
     "name": "stderr",
     "output_type": "stream",
     "text": [
      "100%|█████████████████████████████████████████| 373/373 [04:29<00:00,  1.39it/s]\n"
     ]
    },
    {
     "name": "stdout",
     "output_type": "stream",
     "text": [
      "Epoch:[229/300]\n",
      "Train Loss:0.00788255823674277 | Acc:0.9973163367997316 | F1:0.9962649254422267\n"
     ]
    },
    {
     "name": "stderr",
     "output_type": "stream",
     "text": [
      "100%|███████████████████████████████████████████| 94/94 [00:24<00:00,  3.82it/s]\n"
     ]
    },
    {
     "name": "stdout",
     "output_type": "stream",
     "text": [
      "val Loss:0.4027794953109181 | Acc:0.9251928882925193 | F1:0.8973861946188991\n"
     ]
    },
    {
     "name": "stderr",
     "output_type": "stream",
     "text": [
      "100%|█████████████████████████████████████████| 373/373 [04:29<00:00,  1.39it/s]\n"
     ]
    },
    {
     "name": "stdout",
     "output_type": "stream",
     "text": [
      "Epoch:[230/300]\n",
      "Train Loss:0.007613729750528227 | Acc:0.9976517946997652 | F1:0.9966584763754792\n"
     ]
    },
    {
     "name": "stderr",
     "output_type": "stream",
     "text": [
      "100%|███████████████████████████████████████████| 94/94 [00:24<00:00,  3.81it/s]\n"
     ]
    },
    {
     "name": "stdout",
     "output_type": "stream",
     "text": [
      "val Loss:0.3996664894219713 | Acc:0.9248574303924857 | F1:0.8919281638475182\n"
     ]
    },
    {
     "name": "stderr",
     "output_type": "stream",
     "text": [
      "100%|█████████████████████████████████████████| 373/373 [04:29<00:00,  1.38it/s]\n"
     ]
    },
    {
     "name": "stdout",
     "output_type": "stream",
     "text": [
      "Epoch:[231/300]\n",
      "Train Loss:0.00825540960355895 | Acc:0.9971066756122107 | F1:0.9960426847880628\n"
     ]
    },
    {
     "name": "stderr",
     "output_type": "stream",
     "text": [
      "100%|███████████████████████████████████████████| 94/94 [00:24<00:00,  3.76it/s]\n"
     ]
    },
    {
     "name": "stdout",
     "output_type": "stream",
     "text": [
      "val Loss:0.41709831132794395 | Acc:0.9228446829922845 | F1:0.8894197993693824\n"
     ]
    },
    {
     "name": "stderr",
     "output_type": "stream",
     "text": [
      "100%|█████████████████████████████████████████| 373/373 [04:28<00:00,  1.39it/s]\n"
     ]
    },
    {
     "name": "stdout",
     "output_type": "stream",
     "text": [
      "Epoch:[232/300]\n",
      "Train Loss:0.006946877659904886 | Acc:0.9977356591747736 | F1:0.9969814455320526\n"
     ]
    },
    {
     "name": "stderr",
     "output_type": "stream",
     "text": [
      "100%|███████████████████████████████████████████| 94/94 [00:24<00:00,  3.83it/s]\n"
     ]
    },
    {
     "name": "stdout",
     "output_type": "stream",
     "text": [
      "val Loss:0.41508978476741 | Acc:0.9241865145924186 | F1:0.8918078267431717\n"
     ]
    },
    {
     "name": "stderr",
     "output_type": "stream",
     "text": [
      "100%|█████████████████████████████████████████| 373/373 [04:27<00:00,  1.40it/s]\n"
     ]
    },
    {
     "name": "stdout",
     "output_type": "stream",
     "text": [
      "Epoch:[233/300]\n",
      "Train Loss:0.007211645775805695 | Acc:0.9974840657497485 | F1:0.9962579524980881\n"
     ]
    },
    {
     "name": "stderr",
     "output_type": "stream",
     "text": [
      "100%|███████████████████████████████████████████| 94/94 [00:24<00:00,  3.81it/s]\n"
     ]
    },
    {
     "name": "stdout",
     "output_type": "stream",
     "text": [
      "val Loss:0.41742041182027645 | Acc:0.922509225092251 | F1:0.8897650221717684\n"
     ]
    },
    {
     "name": "stderr",
     "output_type": "stream",
     "text": [
      "100%|█████████████████████████████████████████| 373/373 [04:29<00:00,  1.38it/s]\n"
     ]
    },
    {
     "name": "stdout",
     "output_type": "stream",
     "text": [
      "Epoch:[234/300]\n",
      "Train Loss:0.008219072104759573 | Acc:0.9970647433747065 | F1:0.9960134545971174\n"
     ]
    },
    {
     "name": "stderr",
     "output_type": "stream",
     "text": [
      "100%|███████████████████████████████████████████| 94/94 [00:24<00:00,  3.78it/s]\n"
     ]
    },
    {
     "name": "stdout",
     "output_type": "stream",
     "text": [
      "val Loss:0.39451983214362213 | Acc:0.9277088225427709 | F1:0.9001809312705845\n"
     ]
    },
    {
     "name": "stderr",
     "output_type": "stream",
     "text": [
      "100%|█████████████████████████████████████████| 373/373 [04:27<00:00,  1.40it/s]\n"
     ]
    },
    {
     "name": "stdout",
     "output_type": "stream",
     "text": [
      "Epoch:[235/300]\n",
      "Train Loss:0.00702909381946098 | Acc:0.9976517946997652 | F1:0.9966112591644765\n"
     ]
    },
    {
     "name": "stderr",
     "output_type": "stream",
     "text": [
      "100%|███████████████████████████████████████████| 94/94 [00:24<00:00,  3.82it/s]\n"
     ]
    },
    {
     "name": "stdout",
     "output_type": "stream",
     "text": [
      "val Loss:0.3931555165401061 | Acc:0.9263669909426367 | F1:0.8973523932381677\n"
     ]
    },
    {
     "name": "stderr",
     "output_type": "stream",
     "text": [
      "100%|█████████████████████████████████████████| 373/373 [04:28<00:00,  1.39it/s]\n"
     ]
    },
    {
     "name": "stdout",
     "output_type": "stream",
     "text": [
      "Epoch:[236/300]\n",
      "Train Loss:0.0073536954662696665 | Acc:0.9974421335122442 | F1:0.9968262100863294\n"
     ]
    },
    {
     "name": "stderr",
     "output_type": "stream",
     "text": [
      "100%|███████████████████████████████████████████| 94/94 [00:24<00:00,  3.78it/s]\n"
     ]
    },
    {
     "name": "stdout",
     "output_type": "stream",
     "text": [
      "val Loss:0.4121039261148047 | Acc:0.9255283461925529 | F1:0.8967936502179041\n"
     ]
    },
    {
     "name": "stderr",
     "output_type": "stream",
     "text": [
      "100%|█████████████████████████████████████████| 373/373 [04:28<00:00,  1.39it/s]\n"
     ]
    },
    {
     "name": "stdout",
     "output_type": "stream",
     "text": [
      "Epoch:[237/300]\n",
      "Train Loss:0.0064848518259610875 | Acc:0.9977775914122777 | F1:0.9966723574440142\n"
     ]
    },
    {
     "name": "stderr",
     "output_type": "stream",
     "text": [
      "100%|███████████████████████████████████████████| 94/94 [00:24<00:00,  3.81it/s]\n"
     ]
    },
    {
     "name": "stdout",
     "output_type": "stream",
     "text": [
      "val Loss:0.4128647811234551 | Acc:0.9250251593425025 | F1:0.8917451982180247\n"
     ]
    },
    {
     "name": "stderr",
     "output_type": "stream",
     "text": [
      "100%|█████████████████████████████████████████| 373/373 [04:28<00:00,  1.39it/s]\n"
     ]
    },
    {
     "name": "stdout",
     "output_type": "stream",
     "text": [
      "Epoch:[238/300]\n",
      "Train Loss:0.006170834123798362 | Acc:0.9979453203622946 | F1:0.9971047180121311\n"
     ]
    },
    {
     "name": "stderr",
     "output_type": "stream",
     "text": [
      "100%|███████████████████████████████████████████| 94/94 [00:24<00:00,  3.82it/s]\n"
     ]
    },
    {
     "name": "stdout",
     "output_type": "stream",
     "text": [
      "val Loss:0.40793650802367026 | Acc:0.9243542435424354 | F1:0.8943571322323919\n"
     ]
    },
    {
     "name": "stderr",
     "output_type": "stream",
     "text": [
      "100%|█████████████████████████████████████████| 373/373 [04:28<00:00,  1.39it/s]\n"
     ]
    },
    {
     "name": "stdout",
     "output_type": "stream",
     "text": [
      "Epoch:[239/300]\n",
      "Train Loss:0.007442377425207863 | Acc:0.9973582690372358 | F1:0.996354378035375\n"
     ]
    },
    {
     "name": "stderr",
     "output_type": "stream",
     "text": [
      "100%|███████████████████████████████████████████| 94/94 [00:24<00:00,  3.79it/s]\n"
     ]
    },
    {
     "name": "stdout",
     "output_type": "stream",
     "text": [
      "val Loss:0.4131348859053066 | Acc:0.925360617242536 | F1:0.8956001017488795\n"
     ]
    },
    {
     "name": "stderr",
     "output_type": "stream",
     "text": [
      "100%|█████████████████████████████████████████| 373/373 [04:28<00:00,  1.39it/s]\n"
     ]
    },
    {
     "name": "stdout",
     "output_type": "stream",
     "text": [
      "Epoch:[240/300]\n",
      "Train Loss:0.0069452891240815865 | Acc:0.9978614558872861 | F1:0.9967905380542257\n"
     ]
    },
    {
     "name": "stderr",
     "output_type": "stream",
     "text": [
      "100%|███████████████████████████████████████████| 94/94 [00:24<00:00,  3.79it/s]\n"
     ]
    },
    {
     "name": "stdout",
     "output_type": "stream",
     "text": [
      "val Loss:0.40943749765292803 | Acc:0.925360617242536 | F1:0.8950605568675176\n"
     ]
    },
    {
     "name": "stderr",
     "output_type": "stream",
     "text": [
      "100%|█████████████████████████████████████████| 373/373 [04:27<00:00,  1.39it/s]\n"
     ]
    },
    {
     "name": "stdout",
     "output_type": "stream",
     "text": [
      "Epoch:[241/300]\n",
      "Train Loss:0.005991189447392487 | Acc:0.9979872525997987 | F1:0.9971979947587718\n"
     ]
    },
    {
     "name": "stderr",
     "output_type": "stream",
     "text": [
      "100%|███████████████████████████████████████████| 94/94 [00:24<00:00,  3.84it/s]\n"
     ]
    },
    {
     "name": "stdout",
     "output_type": "stream",
     "text": [
      "val Loss:0.41121403055277517 | Acc:0.9258638040925864 | F1:0.8953401696460859\n"
     ]
    },
    {
     "name": "stderr",
     "output_type": "stream",
     "text": [
      "100%|█████████████████████████████████████████| 373/373 [04:28<00:00,  1.39it/s]\n"
     ]
    },
    {
     "name": "stdout",
     "output_type": "stream",
     "text": [
      "Epoch:[242/300]\n",
      "Train Loss:0.007672489514053918 | Acc:0.9975259979872526 | F1:0.9962047659349332\n"
     ]
    },
    {
     "name": "stderr",
     "output_type": "stream",
     "text": [
      "100%|███████████████████████████████████████████| 94/94 [00:24<00:00,  3.81it/s]\n"
     ]
    },
    {
     "name": "stdout",
     "output_type": "stream",
     "text": [
      "val Loss:0.4263691829303437 | Acc:0.9245219724924522 | F1:0.8867463568842254\n"
     ]
    },
    {
     "name": "stderr",
     "output_type": "stream",
     "text": [
      "100%|█████████████████████████████████████████| 373/373 [04:29<00:00,  1.39it/s]\n"
     ]
    },
    {
     "name": "stdout",
     "output_type": "stream",
     "text": [
      "Epoch:[243/300]\n",
      "Train Loss:0.006704008287407461 | Acc:0.9976937269372693 | F1:0.9970946273040953\n"
     ]
    },
    {
     "name": "stderr",
     "output_type": "stream",
     "text": [
      "100%|███████████████████████████████████████████| 94/94 [00:24<00:00,  3.82it/s]\n"
     ]
    },
    {
     "name": "stdout",
     "output_type": "stream",
     "text": [
      "val Loss:0.4126940000455708 | Acc:0.9275410935927542 | F1:0.8967695666641495\n"
     ]
    },
    {
     "name": "stderr",
     "output_type": "stream",
     "text": [
      "100%|█████████████████████████████████████████| 373/373 [04:28<00:00,  1.39it/s]\n"
     ]
    },
    {
     "name": "stdout",
     "output_type": "stream",
     "text": [
      "Epoch:[244/300]\n",
      "Train Loss:0.007588083233780527 | Acc:0.9976517946997652 | F1:0.9966099860294625\n"
     ]
    },
    {
     "name": "stderr",
     "output_type": "stream",
     "text": [
      "100%|███████████████████████████████████████████| 94/94 [00:24<00:00,  3.82it/s]\n"
     ]
    },
    {
     "name": "stdout",
     "output_type": "stream",
     "text": [
      "val Loss:0.403284962518732 | Acc:0.9285474672928548 | F1:0.900594534204471\n"
     ]
    },
    {
     "name": "stderr",
     "output_type": "stream",
     "text": [
      "100%|█████████████████████████████████████████| 373/373 [04:28<00:00,  1.39it/s]\n"
     ]
    },
    {
     "name": "stdout",
     "output_type": "stream",
     "text": [
      "Epoch:[245/300]\n",
      "Train Loss:0.0069534118714967615 | Acc:0.9977356591747736 | F1:0.9965860578313859\n"
     ]
    },
    {
     "name": "stderr",
     "output_type": "stream",
     "text": [
      "100%|███████████████████████████████████████████| 94/94 [00:24<00:00,  3.80it/s]\n"
     ]
    },
    {
     "name": "stdout",
     "output_type": "stream",
     "text": [
      "val Loss:0.4136325632609807 | Acc:0.9255283461925529 | F1:0.8973547641044147\n"
     ]
    },
    {
     "name": "stderr",
     "output_type": "stream",
     "text": [
      "100%|█████████████████████████████████████████| 373/373 [04:28<00:00,  1.39it/s]\n"
     ]
    },
    {
     "name": "stdout",
     "output_type": "stream",
     "text": [
      "Epoch:[246/300]\n",
      "Train Loss:0.005531897674105669 | Acc:0.9981969137873197 | F1:0.9972700826899432\n"
     ]
    },
    {
     "name": "stderr",
     "output_type": "stream",
     "text": [
      "100%|███████████████████████████████████████████| 94/94 [00:24<00:00,  3.80it/s]\n"
     ]
    },
    {
     "name": "stdout",
     "output_type": "stream",
     "text": [
      "val Loss:0.40984984709566014 | Acc:0.9273733646427373 | F1:0.8978652534332104\n"
     ]
    },
    {
     "name": "stderr",
     "output_type": "stream",
     "text": [
      "100%|█████████████████████████████████████████| 373/373 [04:25<00:00,  1.40it/s]\n"
     ]
    },
    {
     "name": "stdout",
     "output_type": "stream",
     "text": [
      "Epoch:[247/300]\n",
      "Train Loss:0.006179246045174174 | Acc:0.9979872525997987 | F1:0.9971409915133013\n"
     ]
    },
    {
     "name": "stderr",
     "output_type": "stream",
     "text": [
      "100%|███████████████████████████████████████████| 94/94 [00:24<00:00,  3.83it/s]\n"
     ]
    },
    {
     "name": "stdout",
     "output_type": "stream",
     "text": [
      "val Loss:0.40250604807882573 | Acc:0.9258638040925864 | F1:0.8984094840626158\n"
     ]
    },
    {
     "name": "stderr",
     "output_type": "stream",
     "text": [
      "100%|█████████████████████████████████████████| 373/373 [04:30<00:00,  1.38it/s]\n"
     ]
    },
    {
     "name": "stdout",
     "output_type": "stream",
     "text": [
      "Epoch:[248/300]\n",
      "Train Loss:0.004904069123951814 | Acc:0.9985323716873532 | F1:0.998106611276436\n"
     ]
    },
    {
     "name": "stderr",
     "output_type": "stream",
     "text": [
      "100%|███████████████████████████████████████████| 94/94 [00:24<00:00,  3.80it/s]\n"
     ]
    },
    {
     "name": "stdout",
     "output_type": "stream",
     "text": [
      "val Loss:0.4141906197490665 | Acc:0.9278765514927877 | F1:0.8996794024558408\n"
     ]
    },
    {
     "name": "stderr",
     "output_type": "stream",
     "text": [
      "100%|█████████████████████████████████████████| 373/373 [04:29<00:00,  1.39it/s]\n"
     ]
    },
    {
     "name": "stdout",
     "output_type": "stream",
     "text": [
      "Epoch:[249/300]\n",
      "Train Loss:0.005814985120003554 | Acc:0.9976937269372693 | F1:0.9964964900403619\n"
     ]
    },
    {
     "name": "stderr",
     "output_type": "stream",
     "text": [
      "100%|███████████████████████████████████████████| 94/94 [00:24<00:00,  3.81it/s]\n"
     ]
    },
    {
     "name": "stdout",
     "output_type": "stream",
     "text": [
      "val Loss:0.40653886192301564 | Acc:0.9267024488426703 | F1:0.8952860720714527\n"
     ]
    },
    {
     "name": "stderr",
     "output_type": "stream",
     "text": [
      "100%|█████████████████████████████████████████| 373/373 [04:27<00:00,  1.39it/s]\n"
     ]
    },
    {
     "name": "stdout",
     "output_type": "stream",
     "text": [
      "Epoch:[250/300]\n",
      "Train Loss:0.0072449683613398175 | Acc:0.997819523649782 | F1:0.9970967300916606\n"
     ]
    },
    {
     "name": "stderr",
     "output_type": "stream",
     "text": [
      "100%|███████████████████████████████████████████| 94/94 [00:24<00:00,  3.79it/s]\n"
     ]
    },
    {
     "name": "stdout",
     "output_type": "stream",
     "text": [
      "val Loss:0.44055418185385814 | Acc:0.9248574303924857 | F1:0.8990861275347359\n"
     ]
    },
    {
     "name": "stderr",
     "output_type": "stream",
     "text": [
      "100%|█████████████████████████████████████████| 373/373 [04:29<00:00,  1.39it/s]\n"
     ]
    },
    {
     "name": "stdout",
     "output_type": "stream",
     "text": [
      "Epoch:[251/300]\n",
      "Train Loss:0.006778776780615868 | Acc:0.9975679302247568 | F1:0.9961950473096273\n"
     ]
    },
    {
     "name": "stderr",
     "output_type": "stream",
     "text": [
      "100%|███████████████████████████████████████████| 94/94 [00:24<00:00,  3.79it/s]\n"
     ]
    },
    {
     "name": "stdout",
     "output_type": "stream",
     "text": [
      "val Loss:0.4007107212140709 | Acc:0.9275410935927542 | F1:0.8957580278630705\n"
     ]
    },
    {
     "name": "stderr",
     "output_type": "stream",
     "text": [
      "100%|█████████████████████████████████████████| 373/373 [04:28<00:00,  1.39it/s]\n"
     ]
    },
    {
     "name": "stdout",
     "output_type": "stream",
     "text": [
      "Epoch:[252/300]\n",
      "Train Loss:0.006107492350524242 | Acc:0.998029184837303 | F1:0.9968359177171336\n"
     ]
    },
    {
     "name": "stderr",
     "output_type": "stream",
     "text": [
      "100%|███████████████████████████████████████████| 94/94 [00:24<00:00,  3.81it/s]\n"
     ]
    },
    {
     "name": "stdout",
     "output_type": "stream",
     "text": [
      "val Loss:0.3997497224570572 | Acc:0.9280442804428044 | F1:0.8975741274704804\n"
     ]
    },
    {
     "name": "stderr",
     "output_type": "stream",
     "text": [
      "100%|█████████████████████████████████████████| 373/373 [04:28<00:00,  1.39it/s]\n"
     ]
    },
    {
     "name": "stdout",
     "output_type": "stream",
     "text": [
      "Epoch:[253/300]\n",
      "Train Loss:0.005551067702984578 | Acc:0.9982388460248239 | F1:0.9976075901021432\n"
     ]
    },
    {
     "name": "stderr",
     "output_type": "stream",
     "text": [
      "100%|███████████████████████████████████████████| 94/94 [00:24<00:00,  3.79it/s]\n"
     ]
    },
    {
     "name": "stdout",
     "output_type": "stream",
     "text": [
      "val Loss:0.40241055578512086 | Acc:0.9245219724924522 | F1:0.8925250158279244\n"
     ]
    },
    {
     "name": "stderr",
     "output_type": "stream",
     "text": [
      "100%|█████████████████████████████████████████| 373/373 [04:29<00:00,  1.39it/s]\n"
     ]
    },
    {
     "name": "stdout",
     "output_type": "stream",
     "text": [
      "Epoch:[254/300]\n",
      "Train Loss:0.007448769273514135 | Acc:0.9976937269372693 | F1:0.9968946575489914\n"
     ]
    },
    {
     "name": "stderr",
     "output_type": "stream",
     "text": [
      "100%|███████████████████████████████████████████| 94/94 [00:24<00:00,  3.80it/s]\n"
     ]
    },
    {
     "name": "stdout",
     "output_type": "stream",
     "text": [
      "val Loss:0.40102837562404003 | Acc:0.9263669909426367 | F1:0.8945663184079178\n"
     ]
    },
    {
     "name": "stderr",
     "output_type": "stream",
     "text": [
      "100%|█████████████████████████████████████████| 373/373 [04:26<00:00,  1.40it/s]\n"
     ]
    },
    {
     "name": "stdout",
     "output_type": "stream",
     "text": [
      "Epoch:[255/300]\n",
      "Train Loss:0.0067094040823539895 | Acc:0.9978614558872861 | F1:0.9966906530521374\n"
     ]
    },
    {
     "name": "stderr",
     "output_type": "stream",
     "text": [
      "100%|███████████████████████████████████████████| 94/94 [00:24<00:00,  3.80it/s]\n"
     ]
    },
    {
     "name": "stdout",
     "output_type": "stream",
     "text": [
      "val Loss:0.4075770494597335 | Acc:0.9240187856424019 | F1:0.8940253363664221\n"
     ]
    },
    {
     "name": "stderr",
     "output_type": "stream",
     "text": [
      "100%|█████████████████████████████████████████| 373/373 [04:28<00:00,  1.39it/s]\n"
     ]
    },
    {
     "name": "stdout",
     "output_type": "stream",
     "text": [
      "Epoch:[256/300]\n",
      "Train Loss:0.006526355013991231 | Acc:0.9977775914122777 | F1:0.9970125428403509\n"
     ]
    },
    {
     "name": "stderr",
     "output_type": "stream",
     "text": [
      "100%|███████████████████████████████████████████| 94/94 [00:24<00:00,  3.79it/s]\n"
     ]
    },
    {
     "name": "stdout",
     "output_type": "stream",
     "text": [
      "val Loss:0.41173130342092396 | Acc:0.9240187856424019 | F1:0.8949847140628467\n"
     ]
    },
    {
     "name": "stderr",
     "output_type": "stream",
     "text": [
      "100%|█████████████████████████████████████████| 373/373 [04:28<00:00,  1.39it/s]\n"
     ]
    },
    {
     "name": "stdout",
     "output_type": "stream",
     "text": [
      "Epoch:[257/300]\n",
      "Train Loss:0.00483519460718344 | Acc:0.9984485072123449 | F1:0.997733899080934\n"
     ]
    },
    {
     "name": "stderr",
     "output_type": "stream",
     "text": [
      "100%|███████████████████████████████████████████| 94/94 [00:24<00:00,  3.81it/s]\n"
     ]
    },
    {
     "name": "stdout",
     "output_type": "stream",
     "text": [
      "val Loss:0.43773514247134737 | Acc:0.9235155987923516 | F1:0.8862966567532944\n"
     ]
    },
    {
     "name": "stderr",
     "output_type": "stream",
     "text": [
      "100%|█████████████████████████████████████████| 373/373 [04:28<00:00,  1.39it/s]\n"
     ]
    },
    {
     "name": "stdout",
     "output_type": "stream",
     "text": [
      "Epoch:[258/300]\n",
      "Train Loss:0.00561533422865091 | Acc:0.9980711170748071 | F1:0.9974114222934659\n"
     ]
    },
    {
     "name": "stderr",
     "output_type": "stream",
     "text": [
      "100%|███████████████████████████████████████████| 94/94 [00:24<00:00,  3.81it/s]\n"
     ]
    },
    {
     "name": "stdout",
     "output_type": "stream",
     "text": [
      "val Loss:0.4224065404593927 | Acc:0.924689701442469 | F1:0.8945097342446623\n"
     ]
    },
    {
     "name": "stderr",
     "output_type": "stream",
     "text": [
      "100%|█████████████████████████████████████████| 373/373 [04:29<00:00,  1.39it/s]\n"
     ]
    },
    {
     "name": "stdout",
     "output_type": "stream",
     "text": [
      "Epoch:[259/300]\n",
      "Train Loss:0.004968538900343054 | Acc:0.9983227104998322 | F1:0.9973312028065863\n"
     ]
    },
    {
     "name": "stderr",
     "output_type": "stream",
     "text": [
      "100%|███████████████████████████████████████████| 94/94 [00:24<00:00,  3.80it/s]\n"
     ]
    },
    {
     "name": "stdout",
     "output_type": "stream",
     "text": [
      "val Loss:0.4374870679879292 | Acc:0.9236833277423684 | F1:0.8847104045058656\n"
     ]
    },
    {
     "name": "stderr",
     "output_type": "stream",
     "text": [
      "100%|█████████████████████████████████████████| 373/373 [04:27<00:00,  1.39it/s]\n"
     ]
    },
    {
     "name": "stdout",
     "output_type": "stream",
     "text": [
      "Epoch:[260/300]\n",
      "Train Loss:0.0056988043908858645 | Acc:0.9980711170748071 | F1:0.9971153376094435\n"
     ]
    },
    {
     "name": "stderr",
     "output_type": "stream",
     "text": [
      "100%|███████████████████████████████████████████| 94/94 [00:24<00:00,  3.78it/s]\n"
     ]
    },
    {
     "name": "stdout",
     "output_type": "stream",
     "text": [
      "val Loss:0.4159251209671111 | Acc:0.9230124119423012 | F1:0.8906105529170331\n"
     ]
    },
    {
     "name": "stderr",
     "output_type": "stream",
     "text": [
      "100%|█████████████████████████████████████████| 373/373 [04:27<00:00,  1.39it/s]\n"
     ]
    },
    {
     "name": "stdout",
     "output_type": "stream",
     "text": [
      "Epoch:[261/300]\n",
      "Train Loss:0.007083080306584224 | Acc:0.9979033881247903 | F1:0.996781383644832\n"
     ]
    },
    {
     "name": "stderr",
     "output_type": "stream",
     "text": [
      "100%|███████████████████████████████████████████| 94/94 [00:24<00:00,  3.82it/s]\n"
     ]
    },
    {
     "name": "stdout",
     "output_type": "stream",
     "text": [
      "val Loss:0.44389131481743865 | Acc:0.9226769540422677 | F1:0.8829178824828077\n"
     ]
    },
    {
     "name": "stderr",
     "output_type": "stream",
     "text": [
      "100%|█████████████████████████████████████████| 373/373 [04:29<00:00,  1.38it/s]\n"
     ]
    },
    {
     "name": "stdout",
     "output_type": "stream",
     "text": [
      "Epoch:[262/300]\n",
      "Train Loss:0.005546045889174275 | Acc:0.9983227104998322 | F1:0.9974278639285463\n"
     ]
    },
    {
     "name": "stderr",
     "output_type": "stream",
     "text": [
      "100%|███████████████████████████████████████████| 94/94 [00:24<00:00,  3.81it/s]\n"
     ]
    },
    {
     "name": "stdout",
     "output_type": "stream",
     "text": [
      "val Loss:0.43061995597936836 | Acc:0.9240187856424019 | F1:0.8875480677510879\n"
     ]
    },
    {
     "name": "stderr",
     "output_type": "stream",
     "text": [
      "100%|█████████████████████████████████████████| 373/373 [04:27<00:00,  1.39it/s]\n"
     ]
    },
    {
     "name": "stdout",
     "output_type": "stream",
     "text": [
      "Epoch:[263/300]\n",
      "Train Loss:0.006105267133799478 | Acc:0.9981969137873197 | F1:0.9976677066834579\n"
     ]
    },
    {
     "name": "stderr",
     "output_type": "stream",
     "text": [
      "100%|███████████████████████████████████████████| 94/94 [00:24<00:00,  3.82it/s]\n"
     ]
    },
    {
     "name": "stdout",
     "output_type": "stream",
     "text": [
      "val Loss:0.4298826429581653 | Acc:0.9238510566923851 | F1:0.8889560108223993\n"
     ]
    },
    {
     "name": "stderr",
     "output_type": "stream",
     "text": [
      "100%|█████████████████████████████████████████| 373/373 [04:27<00:00,  1.39it/s]\n"
     ]
    },
    {
     "name": "stdout",
     "output_type": "stream",
     "text": [
      "Epoch:[264/300]\n",
      "Train Loss:0.0065805702121846405 | Acc:0.9977356591747736 | F1:0.9965360405840944\n"
     ]
    },
    {
     "name": "stderr",
     "output_type": "stream",
     "text": [
      "100%|███████████████████████████████████████████| 94/94 [00:24<00:00,  3.79it/s]\n"
     ]
    },
    {
     "name": "stdout",
     "output_type": "stream",
     "text": [
      "val Loss:0.40687894772616023 | Acc:0.9272056356927205 | F1:0.8977303777187083\n"
     ]
    },
    {
     "name": "stderr",
     "output_type": "stream",
     "text": [
      "100%|█████████████████████████████████████████| 373/373 [04:29<00:00,  1.39it/s]\n"
     ]
    },
    {
     "name": "stdout",
     "output_type": "stream",
     "text": [
      "Epoch:[265/300]\n",
      "Train Loss:0.006268248257234428 | Acc:0.9979453203622946 | F1:0.997101144133504\n"
     ]
    },
    {
     "name": "stderr",
     "output_type": "stream",
     "text": [
      "100%|███████████████████████████████████████████| 94/94 [00:24<00:00,  3.83it/s]\n"
     ]
    },
    {
     "name": "stdout",
     "output_type": "stream",
     "text": [
      "val Loss:0.4241716390627564 | Acc:0.9248574303924857 | F1:0.8911209763174817\n"
     ]
    },
    {
     "name": "stderr",
     "output_type": "stream",
     "text": [
      "100%|█████████████████████████████████████████| 373/373 [04:26<00:00,  1.40it/s]\n"
     ]
    },
    {
     "name": "stdout",
     "output_type": "stream",
     "text": [
      "Epoch:[266/300]\n",
      "Train Loss:0.006183098373018925 | Acc:0.9979872525997987 | F1:0.9968477011324672\n"
     ]
    },
    {
     "name": "stderr",
     "output_type": "stream",
     "text": [
      "100%|███████████████████████████████████████████| 94/94 [00:24<00:00,  3.80it/s]\n"
     ]
    },
    {
     "name": "stdout",
     "output_type": "stream",
     "text": [
      "val Loss:0.41105580606286707 | Acc:0.9235155987923516 | F1:0.8892936776649327\n"
     ]
    },
    {
     "name": "stderr",
     "output_type": "stream",
     "text": [
      "100%|█████████████████████████████████████████| 373/373 [04:28<00:00,  1.39it/s]\n"
     ]
    },
    {
     "name": "stdout",
     "output_type": "stream",
     "text": [
      "Epoch:[267/300]\n",
      "Train Loss:0.006494730665955814 | Acc:0.9975679302247568 | F1:0.9967334115982952\n"
     ]
    },
    {
     "name": "stderr",
     "output_type": "stream",
     "text": [
      "100%|███████████████████████████████████████████| 94/94 [00:24<00:00,  3.81it/s]\n"
     ]
    },
    {
     "name": "stdout",
     "output_type": "stream",
     "text": [
      "val Loss:0.39643529970774793 | Acc:0.9258638040925864 | F1:0.8936530556217637\n"
     ]
    },
    {
     "name": "stderr",
     "output_type": "stream",
     "text": [
      "100%|█████████████████████████████████████████| 373/373 [04:28<00:00,  1.39it/s]\n"
     ]
    },
    {
     "name": "stdout",
     "output_type": "stream",
     "text": [
      "Epoch:[268/300]\n",
      "Train Loss:0.004147614355216847 | Acc:0.99870010063737 | F1:0.9980475428658568\n"
     ]
    },
    {
     "name": "stderr",
     "output_type": "stream",
     "text": [
      "100%|███████████████████████████████████████████| 94/94 [00:24<00:00,  3.80it/s]\n"
     ]
    },
    {
     "name": "stdout",
     "output_type": "stream",
     "text": [
      "val Loss:0.40820637640196555 | Acc:0.9255283461925529 | F1:0.8930314908547812\n"
     ]
    },
    {
     "name": "stderr",
     "output_type": "stream",
     "text": [
      "100%|█████████████████████████████████████████| 373/373 [04:25<00:00,  1.40it/s]\n"
     ]
    },
    {
     "name": "stdout",
     "output_type": "stream",
     "text": [
      "Epoch:[269/300]\n",
      "Train Loss:0.004994560571616101 | Acc:0.9984065749748406 | F1:0.9976036600647161\n"
     ]
    },
    {
     "name": "stderr",
     "output_type": "stream",
     "text": [
      "100%|███████████████████████████████████████████| 94/94 [00:24<00:00,  3.81it/s]\n"
     ]
    },
    {
     "name": "stdout",
     "output_type": "stream",
     "text": [
      "val Loss:0.42412360668247123 | Acc:0.9223414961422342 | F1:0.8878403763243197\n"
     ]
    },
    {
     "name": "stderr",
     "output_type": "stream",
     "text": [
      "100%|█████████████████████████████████████████| 373/373 [04:28<00:00,  1.39it/s]\n"
     ]
    },
    {
     "name": "stdout",
     "output_type": "stream",
     "text": [
      "Epoch:[270/300]\n",
      "Train Loss:0.007734959475830993 | Acc:0.9977775914122777 | F1:0.997009025609103\n"
     ]
    },
    {
     "name": "stderr",
     "output_type": "stream",
     "text": [
      "100%|███████████████████████████████████████████| 94/94 [00:24<00:00,  3.80it/s]\n"
     ]
    },
    {
     "name": "stdout",
     "output_type": "stream",
     "text": [
      "val Loss:0.4177911611590424 | Acc:0.9256960751425696 | F1:0.897737354192806\n"
     ]
    },
    {
     "name": "stderr",
     "output_type": "stream",
     "text": [
      "100%|█████████████████████████████████████████| 373/373 [04:27<00:00,  1.39it/s]\n"
     ]
    },
    {
     "name": "stdout",
     "output_type": "stream",
     "text": [
      "Epoch:[271/300]\n",
      "Train Loss:0.006537571039544499 | Acc:0.998029184837303 | F1:0.9971225191574427\n"
     ]
    },
    {
     "name": "stderr",
     "output_type": "stream",
     "text": [
      "100%|███████████████████████████████████████████| 94/94 [00:24<00:00,  3.82it/s]\n"
     ]
    },
    {
     "name": "stdout",
     "output_type": "stream",
     "text": [
      "val Loss:0.4114560231083194 | Acc:0.926870177792687 | F1:0.8923053341678686\n"
     ]
    },
    {
     "name": "stderr",
     "output_type": "stream",
     "text": [
      "100%|█████████████████████████████████████████| 373/373 [04:27<00:00,  1.39it/s]\n"
     ]
    },
    {
     "name": "stdout",
     "output_type": "stream",
     "text": [
      "Epoch:[272/300]\n",
      "Train Loss:0.005472678484951878 | Acc:0.9982807782623281 | F1:0.9977407342356038\n"
     ]
    },
    {
     "name": "stderr",
     "output_type": "stream",
     "text": [
      "100%|███████████████████████████████████████████| 94/94 [00:24<00:00,  3.79it/s]\n"
     ]
    },
    {
     "name": "stdout",
     "output_type": "stream",
     "text": [
      "val Loss:0.4235334737558391 | Acc:0.9256960751425696 | F1:0.8889214052286029\n"
     ]
    },
    {
     "name": "stderr",
     "output_type": "stream",
     "text": [
      "100%|█████████████████████████████████████████| 373/373 [04:29<00:00,  1.39it/s]\n"
     ]
    },
    {
     "name": "stdout",
     "output_type": "stream",
     "text": [
      "Epoch:[273/300]\n",
      "Train Loss:0.005892622774699313 | Acc:0.9980711170748071 | F1:0.997307579197676\n"
     ]
    },
    {
     "name": "stderr",
     "output_type": "stream",
     "text": [
      "100%|███████████████████████████████████████████| 94/94 [00:24<00:00,  3.81it/s]\n"
     ]
    },
    {
     "name": "stdout",
     "output_type": "stream",
     "text": [
      "val Loss:0.41538084175981926 | Acc:0.9282120093928212 | F1:0.8956141017182938\n"
     ]
    },
    {
     "name": "stderr",
     "output_type": "stream",
     "text": [
      "100%|█████████████████████████████████████████| 373/373 [04:27<00:00,  1.39it/s]\n"
     ]
    },
    {
     "name": "stdout",
     "output_type": "stream",
     "text": [
      "Epoch:[274/300]\n",
      "Train Loss:0.005298579685844253 | Acc:0.9983227104998322 | F1:0.9976255718802273\n"
     ]
    },
    {
     "name": "stderr",
     "output_type": "stream",
     "text": [
      "100%|███████████████████████████████████████████| 94/94 [00:24<00:00,  3.83it/s]\n"
     ]
    },
    {
     "name": "stdout",
     "output_type": "stream",
     "text": [
      "val Loss:0.4134584463227472 | Acc:0.9267024488426703 | F1:0.8963480299639883\n"
     ]
    },
    {
     "name": "stderr",
     "output_type": "stream",
     "text": [
      "100%|█████████████████████████████████████████| 373/373 [04:28<00:00,  1.39it/s]\n"
     ]
    },
    {
     "name": "stdout",
     "output_type": "stream",
     "text": [
      "Epoch:[275/300]\n",
      "Train Loss:0.005814986040235236 | Acc:0.9979453203622946 | F1:0.9970055550103449\n"
     ]
    },
    {
     "name": "stderr",
     "output_type": "stream",
     "text": [
      "100%|███████████████████████████████████████████| 94/94 [00:24<00:00,  3.78it/s]\n"
     ]
    },
    {
     "name": "stdout",
     "output_type": "stream",
     "text": [
      "val Loss:0.41013228672639607 | Acc:0.9283797383428379 | F1:0.8994666451256478\n"
     ]
    },
    {
     "name": "stderr",
     "output_type": "stream",
     "text": [
      "100%|█████████████████████████████████████████| 373/373 [04:27<00:00,  1.39it/s]\n"
     ]
    },
    {
     "name": "stdout",
     "output_type": "stream",
     "text": [
      "Epoch:[276/300]\n",
      "Train Loss:0.004038973528079823 | Acc:0.9990355585374036 | F1:0.998734794833599\n"
     ]
    },
    {
     "name": "stderr",
     "output_type": "stream",
     "text": [
      "100%|███████████████████████████████████████████| 94/94 [00:24<00:00,  3.79it/s]\n"
     ]
    },
    {
     "name": "stdout",
     "output_type": "stream",
     "text": [
      "val Loss:0.41627690637878545 | Acc:0.9287151962428715 | F1:0.8998501496410478\n"
     ]
    },
    {
     "name": "stderr",
     "output_type": "stream",
     "text": [
      "100%|█████████████████████████████████████████| 373/373 [04:27<00:00,  1.39it/s]\n"
     ]
    },
    {
     "name": "stdout",
     "output_type": "stream",
     "text": [
      "Epoch:[277/300]\n",
      "Train Loss:0.005468754205906717 | Acc:0.9982807782623281 | F1:0.9975427581779703\n"
     ]
    },
    {
     "name": "stderr",
     "output_type": "stream",
     "text": [
      "100%|███████████████████████████████████████████| 94/94 [00:24<00:00,  3.82it/s]\n"
     ]
    },
    {
     "name": "stdout",
     "output_type": "stream",
     "text": [
      "val Loss:0.42182742187551264 | Acc:0.926870177792687 | F1:0.8980961651362772\n"
     ]
    },
    {
     "name": "stderr",
     "output_type": "stream",
     "text": [
      "100%|█████████████████████████████████████████| 373/373 [04:29<00:00,  1.38it/s]\n"
     ]
    },
    {
     "name": "stdout",
     "output_type": "stream",
     "text": [
      "Epoch:[278/300]\n",
      "Train Loss:0.004679405286968134 | Acc:0.9986162361623616 | F1:0.9980351456482195\n"
     ]
    },
    {
     "name": "stderr",
     "output_type": "stream",
     "text": [
      "100%|███████████████████████████████████████████| 94/94 [00:24<00:00,  3.78it/s]\n"
     ]
    },
    {
     "name": "stdout",
     "output_type": "stream",
     "text": [
      "val Loss:0.40292488927006315 | Acc:0.9302247567930225 | F1:0.8998194055856562\n"
     ]
    },
    {
     "name": "stderr",
     "output_type": "stream",
     "text": [
      "100%|█████████████████████████████████████████| 373/373 [04:26<00:00,  1.40it/s]\n"
     ]
    },
    {
     "name": "stdout",
     "output_type": "stream",
     "text": [
      "Epoch:[279/300]\n",
      "Train Loss:0.005559835461596592 | Acc:0.9983227104998322 | F1:0.9974285703924387\n"
     ]
    },
    {
     "name": "stderr",
     "output_type": "stream",
     "text": [
      "100%|███████████████████████████████████████████| 94/94 [00:24<00:00,  3.80it/s]\n"
     ]
    },
    {
     "name": "stdout",
     "output_type": "stream",
     "text": [
      "val Loss:0.40284756558677765 | Acc:0.9295538409929553 | F1:0.90189015267343\n"
     ]
    },
    {
     "name": "stderr",
     "output_type": "stream",
     "text": [
      "100%|█████████████████████████████████████████| 373/373 [04:27<00:00,  1.39it/s]\n"
     ]
    },
    {
     "name": "stdout",
     "output_type": "stream",
     "text": [
      "Epoch:[280/300]\n",
      "Train Loss:0.004872296394137319 | Acc:0.9981969137873197 | F1:0.9973702398367384\n"
     ]
    },
    {
     "name": "stderr",
     "output_type": "stream",
     "text": [
      "100%|███████████████████████████████████████████| 94/94 [00:24<00:00,  3.81it/s]\n"
     ]
    },
    {
     "name": "stdout",
     "output_type": "stream",
     "text": [
      "val Loss:0.4456427122389489 | Acc:0.9226769540422677 | F1:0.8821160984888499\n"
     ]
    },
    {
     "name": "stderr",
     "output_type": "stream",
     "text": [
      "100%|█████████████████████████████████████████| 373/373 [04:29<00:00,  1.38it/s]\n"
     ]
    },
    {
     "name": "stdout",
     "output_type": "stream",
     "text": [
      "Epoch:[281/300]\n",
      "Train Loss:0.005593849645339575 | Acc:0.9979872525997987 | F1:0.9968991540524781\n"
     ]
    },
    {
     "name": "stderr",
     "output_type": "stream",
     "text": [
      "100%|███████████████████████████████████████████| 94/94 [00:24<00:00,  3.84it/s]\n"
     ]
    },
    {
     "name": "stdout",
     "output_type": "stream",
     "text": [
      "val Loss:0.4026713767065811 | Acc:0.9300570278430057 | F1:0.9009691491949183\n"
     ]
    },
    {
     "name": "stderr",
     "output_type": "stream",
     "text": [
      "100%|█████████████████████████████████████████| 373/373 [04:26<00:00,  1.40it/s]\n"
     ]
    },
    {
     "name": "stdout",
     "output_type": "stream",
     "text": [
      "Epoch:[282/300]\n",
      "Train Loss:0.005488315101679201 | Acc:0.9981969137873197 | F1:0.9971694533627492\n"
     ]
    },
    {
     "name": "stderr",
     "output_type": "stream",
     "text": [
      "100%|███████████████████████████████████████████| 94/94 [00:24<00:00,  3.82it/s]\n"
     ]
    },
    {
     "name": "stdout",
     "output_type": "stream",
     "text": [
      "val Loss:0.4180114323694179 | Acc:0.9277088225427709 | F1:0.8997363193911208\n"
     ]
    },
    {
     "name": "stderr",
     "output_type": "stream",
     "text": [
      "100%|█████████████████████████████████████████| 373/373 [04:27<00:00,  1.39it/s]\n"
     ]
    },
    {
     "name": "stdout",
     "output_type": "stream",
     "text": [
      "Epoch:[283/300]\n",
      "Train Loss:0.00473716747639304 | Acc:0.9985743039248575 | F1:0.9980454108648725\n"
     ]
    },
    {
     "name": "stderr",
     "output_type": "stream",
     "text": [
      "100%|███████████████████████████████████████████| 94/94 [00:25<00:00,  3.76it/s]\n"
     ]
    },
    {
     "name": "stdout",
     "output_type": "stream",
     "text": [
      "val Loss:0.4356615338403437 | Acc:0.9241865145924186 | F1:0.8887409408340206\n"
     ]
    },
    {
     "name": "stderr",
     "output_type": "stream",
     "text": [
      "100%|█████████████████████████████████████████| 373/373 [04:28<00:00,  1.39it/s]\n"
     ]
    },
    {
     "name": "stdout",
     "output_type": "stream",
     "text": [
      "Epoch:[284/300]\n",
      "Train Loss:0.00592962232803923 | Acc:0.9980711170748071 | F1:0.9971148000224261\n"
     ]
    },
    {
     "name": "stderr",
     "output_type": "stream",
     "text": [
      "100%|███████████████████████████████████████████| 94/94 [00:24<00:00,  3.81it/s]\n"
     ]
    },
    {
     "name": "stdout",
     "output_type": "stream",
     "text": [
      "val Loss:0.4050777058401745 | Acc:0.9293861120429386 | F1:0.9014882771849205\n"
     ]
    },
    {
     "name": "stderr",
     "output_type": "stream",
     "text": [
      "100%|█████████████████████████████████████████| 373/373 [04:26<00:00,  1.40it/s]\n"
     ]
    },
    {
     "name": "stdout",
     "output_type": "stream",
     "text": [
      "Epoch:[285/300]\n",
      "Train Loss:0.006425009852316101 | Acc:0.9978614558872861 | F1:0.9966409450591487\n"
     ]
    },
    {
     "name": "stderr",
     "output_type": "stream",
     "text": [
      "100%|███████████████████████████████████████████| 94/94 [00:24<00:00,  3.83it/s]\n"
     ]
    },
    {
     "name": "stdout",
     "output_type": "stream",
     "text": [
      "val Loss:0.39618855484773247 | Acc:0.9280442804428044 | F1:0.9014380201444722\n"
     ]
    },
    {
     "name": "stderr",
     "output_type": "stream",
     "text": [
      "100%|█████████████████████████████████████████| 373/373 [04:28<00:00,  1.39it/s]\n"
     ]
    },
    {
     "name": "stdout",
     "output_type": "stream",
     "text": [
      "Epoch:[286/300]\n",
      "Train Loss:0.00512091966963872 | Acc:0.998490439449849 | F1:0.9978676292458287\n"
     ]
    },
    {
     "name": "stderr",
     "output_type": "stream",
     "text": [
      "100%|███████████████████████████████████████████| 94/94 [00:24<00:00,  3.82it/s]\n"
     ]
    },
    {
     "name": "stdout",
     "output_type": "stream",
     "text": [
      "val Loss:0.39675601095458024 | Acc:0.9285474672928548 | F1:0.8966928403284928\n"
     ]
    },
    {
     "name": "stderr",
     "output_type": "stream",
     "text": [
      "100%|█████████████████████████████████████████| 373/373 [04:27<00:00,  1.40it/s]\n"
     ]
    },
    {
     "name": "stdout",
     "output_type": "stream",
     "text": [
      "Epoch:[287/300]\n",
      "Train Loss:0.003811060162588388 | Acc:0.9985743039248575 | F1:0.9978895563561784\n"
     ]
    },
    {
     "name": "stderr",
     "output_type": "stream",
     "text": [
      "100%|███████████████████████████████████████████| 94/94 [00:24<00:00,  3.84it/s]\n"
     ]
    },
    {
     "name": "stdout",
     "output_type": "stream",
     "text": [
      "val Loss:0.4213967815230058 | Acc:0.9275410935927542 | F1:0.8980073563080946\n"
     ]
    },
    {
     "name": "stderr",
     "output_type": "stream",
     "text": [
      "100%|█████████████████████████████████████████| 373/373 [04:27<00:00,  1.39it/s]\n"
     ]
    },
    {
     "name": "stdout",
     "output_type": "stream",
     "text": [
      "Epoch:[288/300]\n",
      "Train Loss:0.006294362874338353 | Acc:0.9978614558872861 | F1:0.997039072194592\n"
     ]
    },
    {
     "name": "stderr",
     "output_type": "stream",
     "text": [
      "100%|███████████████████████████████████████████| 94/94 [00:24<00:00,  3.80it/s]\n"
     ]
    },
    {
     "name": "stdout",
     "output_type": "stream",
     "text": [
      "val Loss:0.4344489348757503 | Acc:0.9275410935927542 | F1:0.8948266564345337\n"
     ]
    },
    {
     "name": "stderr",
     "output_type": "stream",
     "text": [
      "100%|█████████████████████████████████████████| 373/373 [04:28<00:00,  1.39it/s]\n"
     ]
    },
    {
     "name": "stdout",
     "output_type": "stream",
     "text": [
      "Epoch:[289/300]\n",
      "Train Loss:0.004784672592911233 | Acc:0.9985743039248575 | F1:0.997646419517195\n"
     ]
    },
    {
     "name": "stderr",
     "output_type": "stream",
     "text": [
      "100%|███████████████████████████████████████████| 94/94 [00:24<00:00,  3.80it/s]\n"
     ]
    },
    {
     "name": "stdout",
     "output_type": "stream",
     "text": [
      "val Loss:0.4216670954186055 | Acc:0.9287151962428715 | F1:0.9027437288472452\n"
     ]
    },
    {
     "name": "stderr",
     "output_type": "stream",
     "text": [
      "100%|█████████████████████████████████████████| 373/373 [04:27<00:00,  1.39it/s]\n"
     ]
    },
    {
     "name": "stdout",
     "output_type": "stream",
     "text": [
      "Epoch:[290/300]\n",
      "Train Loss:0.0047739712569546434 | Acc:0.99870010063737 | F1:0.9981000271530762\n"
     ]
    },
    {
     "name": "stderr",
     "output_type": "stream",
     "text": [
      "100%|███████████████████████████████████████████| 94/94 [00:24<00:00,  3.84it/s]\n"
     ]
    },
    {
     "name": "stdout",
     "output_type": "stream",
     "text": [
      "val Loss:0.4152478688109898 | Acc:0.9277088225427709 | F1:0.8969540604598499\n"
     ]
    },
    {
     "name": "stderr",
     "output_type": "stream",
     "text": [
      "100%|█████████████████████████████████████████| 373/373 [04:27<00:00,  1.39it/s]\n"
     ]
    },
    {
     "name": "stdout",
     "output_type": "stream",
     "text": [
      "Epoch:[291/300]\n",
      "Train Loss:0.006678719712109738 | Acc:0.9977775914122777 | F1:0.9967169531560653\n"
     ]
    },
    {
     "name": "stderr",
     "output_type": "stream",
     "text": [
      "100%|███████████████████████████████████████████| 94/94 [00:24<00:00,  3.78it/s]\n"
     ]
    },
    {
     "name": "stdout",
     "output_type": "stream",
     "text": [
      "val Loss:0.41498505862190777 | Acc:0.9251928882925193 | F1:0.89504666202444\n"
     ]
    },
    {
     "name": "stderr",
     "output_type": "stream",
     "text": [
      "100%|█████████████████████████████████████████| 373/373 [04:27<00:00,  1.39it/s]\n"
     ]
    },
    {
     "name": "stdout",
     "output_type": "stream",
     "text": [
      "Epoch:[292/300]\n",
      "Train Loss:0.004554931613011645 | Acc:0.9984065749748406 | F1:0.9976973506957194\n"
     ]
    },
    {
     "name": "stderr",
     "output_type": "stream",
     "text": [
      "100%|███████████████████████████████████████████| 94/94 [00:24<00:00,  3.79it/s]\n"
     ]
    },
    {
     "name": "stdout",
     "output_type": "stream",
     "text": [
      "val Loss:0.42212170975256075 | Acc:0.9280442804428044 | F1:0.8975141411923785\n"
     ]
    },
    {
     "name": "stderr",
     "output_type": "stream",
     "text": [
      "100%|█████████████████████████████████████████| 373/373 [04:26<00:00,  1.40it/s]\n"
     ]
    },
    {
     "name": "stdout",
     "output_type": "stream",
     "text": [
      "Epoch:[293/300]\n",
      "Train Loss:0.005058303145777356 | Acc:0.9983646427373365 | F1:0.9974635843106198\n"
     ]
    },
    {
     "name": "stderr",
     "output_type": "stream",
     "text": [
      "100%|███████████████████████████████████████████| 94/94 [00:24<00:00,  3.82it/s]\n"
     ]
    },
    {
     "name": "stdout",
     "output_type": "stream",
     "text": [
      "val Loss:0.43469728652596357 | Acc:0.9243542435424354 | F1:0.8881234141248104\n"
     ]
    },
    {
     "name": "stderr",
     "output_type": "stream",
     "text": [
      "100%|█████████████████████████████████████████| 373/373 [04:28<00:00,  1.39it/s]\n"
     ]
    },
    {
     "name": "stdout",
     "output_type": "stream",
     "text": [
      "Epoch:[294/300]\n",
      "Train Loss:0.004255821504194323 | Acc:0.99870010063737 | F1:0.998298641539807\n"
     ]
    },
    {
     "name": "stderr",
     "output_type": "stream",
     "text": [
      "100%|███████████████████████████████████████████| 94/94 [00:24<00:00,  3.79it/s]\n"
     ]
    },
    {
     "name": "stdout",
     "output_type": "stream",
     "text": [
      "val Loss:0.4264235963532131 | Acc:0.9261992619926199 | F1:0.8928268235439655\n"
     ]
    },
    {
     "name": "stderr",
     "output_type": "stream",
     "text": [
      "100%|█████████████████████████████████████████| 373/373 [04:27<00:00,  1.39it/s]\n"
     ]
    },
    {
     "name": "stdout",
     "output_type": "stream",
     "text": [
      "Epoch:[295/300]\n",
      "Train Loss:0.00456225859105627 | Acc:0.9984485072123449 | F1:0.9976860505277451\n"
     ]
    },
    {
     "name": "stderr",
     "output_type": "stream",
     "text": [
      "100%|███████████████████████████████████████████| 94/94 [00:24<00:00,  3.81it/s]\n"
     ]
    },
    {
     "name": "stdout",
     "output_type": "stream",
     "text": [
      "val Loss:0.4316676813735238 | Acc:0.9251928882925193 | F1:0.8902991614052578\n"
     ]
    },
    {
     "name": "stderr",
     "output_type": "stream",
     "text": [
      "100%|█████████████████████████████████████████| 373/373 [04:28<00:00,  1.39it/s]\n"
     ]
    },
    {
     "name": "stdout",
     "output_type": "stream",
     "text": [
      "Epoch:[296/300]\n",
      "Train Loss:0.003958757714321853 | Acc:0.9989516940623951 | F1:0.9984176815091755\n"
     ]
    },
    {
     "name": "stderr",
     "output_type": "stream",
     "text": [
      "100%|███████████████████████████████████████████| 94/94 [00:24<00:00,  3.81it/s]\n"
     ]
    },
    {
     "name": "stdout",
     "output_type": "stream",
     "text": [
      "val Loss:0.4371940419155197 | Acc:0.9243542435424354 | F1:0.8903744659485087\n"
     ]
    },
    {
     "name": "stderr",
     "output_type": "stream",
     "text": [
      "100%|█████████████████████████████████████████| 373/373 [04:29<00:00,  1.39it/s]\n"
     ]
    },
    {
     "name": "stdout",
     "output_type": "stream",
     "text": [
      "Epoch:[297/300]\n",
      "Train Loss:0.00523857356957324 | Acc:0.9981969137873197 | F1:0.9971718930803208\n"
     ]
    },
    {
     "name": "stderr",
     "output_type": "stream",
     "text": [
      "100%|███████████████████████████████████████████| 94/94 [00:24<00:00,  3.79it/s]\n"
     ]
    },
    {
     "name": "stdout",
     "output_type": "stream",
     "text": [
      "val Loss:0.41666667809691865 | Acc:0.9260315330426031 | F1:0.8949616897763016\n"
     ]
    },
    {
     "name": "stderr",
     "output_type": "stream",
     "text": [
      "100%|█████████████████████████████████████████| 373/373 [04:27<00:00,  1.40it/s]\n"
     ]
    },
    {
     "name": "stdout",
     "output_type": "stream",
     "text": [
      "Epoch:[298/300]\n",
      "Train Loss:0.0046669243067063715 | Acc:0.9985743039248575 | F1:0.9980421066713812\n"
     ]
    },
    {
     "name": "stderr",
     "output_type": "stream",
     "text": [
      "100%|███████████████████████████████████████████| 94/94 [00:24<00:00,  3.82it/s]\n"
     ]
    },
    {
     "name": "stdout",
     "output_type": "stream",
     "text": [
      "val Loss:0.41898222438790894 | Acc:0.9255283461925529 | F1:0.8976946788328373\n"
     ]
    },
    {
     "name": "stderr",
     "output_type": "stream",
     "text": [
      "100%|█████████████████████████████████████████| 373/373 [04:28<00:00,  1.39it/s]\n"
     ]
    },
    {
     "name": "stdout",
     "output_type": "stream",
     "text": [
      "Epoch:[299/300]\n",
      "Train Loss:0.004550915532762604 | Acc:0.9985323716873532 | F1:0.9978583785520962\n"
     ]
    },
    {
     "name": "stderr",
     "output_type": "stream",
     "text": [
      "100%|███████████████████████████████████████████| 94/94 [00:24<00:00,  3.81it/s]\n"
     ]
    },
    {
     "name": "stdout",
     "output_type": "stream",
     "text": [
      "val Loss:0.4195980543505373 | Acc:0.9270379067427038 | F1:0.9012587156177595\n"
     ]
    },
    {
     "name": "stderr",
     "output_type": "stream",
     "text": [
      "100%|█████████████████████████████████████████| 373/373 [04:29<00:00,  1.39it/s]\n"
     ]
    },
    {
     "name": "stdout",
     "output_type": "stream",
     "text": [
      "Epoch:[300/300]\n",
      "Train Loss:0.004683188621707839 | Acc:0.998490439449849 | F1:0.9977277325733345\n"
     ]
    },
    {
     "name": "stderr",
     "output_type": "stream",
     "text": [
      "100%|███████████████████████████████████████████| 94/94 [00:24<00:00,  3.81it/s]\n"
     ]
    },
    {
     "name": "stdout",
     "output_type": "stream",
     "text": [
      "val Loss:0.4236809950603012 | Acc:0.9272056356927205 | F1:0.8979983207176423\n",
      "---SAVE: last epoch--------\n",
      "Best Val Epoch:62, Val Loss : 0.2242842742350641, Val Acc:0.9198255618919825, Best Val F1:0.8914099367713721\n",
      "Total Process time:1466.417Minute\n",
      "Shutting down background jobs, please wait a moment...\n",
      "Done!\n",
      "Waiting for the remaining 29 operations to synchronize with Neptune. Do not kill this process.\n",
      "All 29 operations synced, thanks for waiting!\n",
      "Explore the metadata in the Neptune app:\n",
      "https://app.neptune.ai/20215232/explosive/e/EX-48\n"
     ]
    },
    {
     "data": {
      "text/plain": [
       "<__main__.Trainer at 0x7f67b3a6b1f0>"
      ]
     },
     "execution_count": 13,
     "metadata": {},
     "output_type": "execute_result"
    }
   ],
   "source": [
    "args = getConfig()\n",
    "\n",
    "# Random Seed\n",
    "seed = args.seed\n",
    "os.environ['PYTHONHASHSEED'] = str(seed)\n",
    "random.seed(seed)\n",
    "np.random.seed(seed)\n",
    "torch.manual_seed(seed)\n",
    "torch.cuda.manual_seed(seed)\n",
    "torch.cuda.manual_seed_all(seed)\n",
    "torch.backends.cudnn.benchmark = True\n",
    "    \n",
    "args.batch_size = 64\n",
    "args.encoder_name = \"efficientnet-b7\"\n",
    "args.img_size= 224\n",
    "args.aug_ver=11\n",
    "args.epochs=300\n",
    "args.warm_epoch=5\n",
    "args.file_name=\"train_df.csv\"\n",
    "args.initial_lr = 1e-6\n",
    "\n",
    "Trainer(args, 1)"
   ]
  },
  {
   "cell_type": "code",
   "execution_count": null,
   "id": "896d91d9",
   "metadata": {},
   "outputs": [],
   "source": []
  }
 ],
 "metadata": {
  "kernelspec": {
   "display_name": "Python 3 (ipykernel)",
   "language": "python",
   "name": "python3"
  },
  "language_info": {
   "codemirror_mode": {
    "name": "ipython",
    "version": 3
   },
   "file_extension": ".py",
   "mimetype": "text/x-python",
   "name": "python",
   "nbconvert_exporter": "python",
   "pygments_lexer": "ipython3",
   "version": "3.8.10"
  }
 },
 "nbformat": 4,
 "nbformat_minor": 5
}
